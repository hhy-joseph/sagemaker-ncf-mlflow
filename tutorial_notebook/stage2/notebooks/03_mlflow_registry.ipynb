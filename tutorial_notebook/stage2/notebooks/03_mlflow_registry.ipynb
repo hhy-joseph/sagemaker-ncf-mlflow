{
 "cells": [
  {
   "cell_type": "markdown",
   "metadata": {},
   "source": [
    "# Stage 2 - Lesson 3: Model Registry with Aliases\n",
    "\n",
    "This notebook introduces the MLflow Model Registry using the latest approach with model aliases instead of deprecated stages.\n",
    "\n",
    "**Learning Objectives:**\n",
    "1. Understand model versioning\n",
    "2. Learn to register models in MLflow\n",
    "3. Manage model deployments using aliases\n",
    "4. Organize models with tags"
   ]
  },
  {
   "cell_type": "code",
   "execution_count": 1,
   "metadata": {},
   "outputs": [],
   "source": [
    "# Import required libraries\n",
    "import os\n",
    "import pandas as pd\n",
    "import numpy as np\n",
    "from datetime import datetime\n",
    "import matplotlib.pyplot as plt\n",
    "\n",
    "# MLflow imports\n",
    "import mlflow\n",
    "import mlflow.xgboost\n",
    "from mlflow.tracking import MlflowClient\n",
    "\n",
    "# Model imports\n",
    "import xgboost as xgb\n",
    "from sklearn.metrics import mean_squared_error, r2_score\n",
    "\n",
    "# Set random seed for reproducibility\n",
    "np.random.seed(42)"
   ]
  },
  {
   "cell_type": "markdown",
   "metadata": {},
   "source": [
    "## 1. Connect to MLflow Tracking Server\n",
    "\n",
    "First, we'll connect to our MLflow server and set up our experiment."
   ]
  },
  {
   "cell_type": "code",
   "execution_count": 2,
   "metadata": {},
   "outputs": [
    {
     "name": "stdout",
     "output_type": "stream",
     "text": [
      "Connected to MLflow tracking server\n",
      "Using experiment: google_stock_model_registry\n"
     ]
    }
   ],
   "source": [
    "# Set MLflow tracking URI - using local server\n",
    "mlflow.set_tracking_uri(\"http://localhost:5000\")\n",
    "\n",
    "# Set the experiment\n",
    "experiment_name = \"google_stock_model_registry\"\n",
    "mlflow.set_experiment(experiment_name)\n",
    "\n",
    "# Initialize MLflow client\n",
    "client = MlflowClient()\n",
    "\n",
    "print(f\"Connected to MLflow tracking server\")\n",
    "print(f\"Using experiment: {experiment_name}\")"
   ]
  },
  {
   "cell_type": "markdown",
   "metadata": {},
   "source": [
    "## 2. Load Data\n",
    "\n",
    "We'll load our historical data that was prepared in previous lessons."
   ]
  },
  {
   "cell_type": "code",
   "execution_count": 3,
   "metadata": {},
   "outputs": [
    {
     "name": "stdout",
     "output_type": "stream",
     "text": [
      "Loaded data with 802 rows and 305 columns\n"
     ]
    },
    {
     "data": {
      "text/html": [
       "<div>\n",
       "<style scoped>\n",
       "    .dataframe tbody tr th:only-of-type {\n",
       "        vertical-align: middle;\n",
       "    }\n",
       "\n",
       "    .dataframe tbody tr th {\n",
       "        vertical-align: top;\n",
       "    }\n",
       "\n",
       "    .dataframe thead th {\n",
       "        text-align: right;\n",
       "    }\n",
       "</style>\n",
       "<table border=\"1\" class=\"dataframe\">\n",
       "  <thead>\n",
       "    <tr style=\"text-align: right;\">\n",
       "      <th></th>\n",
       "      <th>Date</th>\n",
       "      <th>Adj Close</th>\n",
       "      <th>Volume</th>\n",
       "      <th>Volume_lag_1</th>\n",
       "      <th>Volume_lag_2</th>\n",
       "      <th>Volume_lag_3</th>\n",
       "      <th>Volume_lag_4</th>\n",
       "      <th>Volume_lag_5</th>\n",
       "      <th>Volume_lag_6</th>\n",
       "      <th>Volume_lag_7</th>\n",
       "      <th>...</th>\n",
       "      <th>Volume_lag_293</th>\n",
       "      <th>Volume_lag_294</th>\n",
       "      <th>Volume_lag_295</th>\n",
       "      <th>Volume_lag_296</th>\n",
       "      <th>Volume_lag_297</th>\n",
       "      <th>Volume_lag_298</th>\n",
       "      <th>Volume_lag_299</th>\n",
       "      <th>Volume_lag_300</th>\n",
       "      <th>Volume_rolling_mean_3</th>\n",
       "      <th>target</th>\n",
       "    </tr>\n",
       "  </thead>\n",
       "  <tbody>\n",
       "    <tr>\n",
       "      <th>0</th>\n",
       "      <td>2021-06-16 00:00:00+00:00</td>\n",
       "      <td>120.980934</td>\n",
       "      <td>21562000.0</td>\n",
       "      <td>22098000.0</td>\n",
       "      <td>21958000.0</td>\n",
       "      <td>25904000.0</td>\n",
       "      <td>17942000.0</td>\n",
       "      <td>24240000.0</td>\n",
       "      <td>24120000.0</td>\n",
       "      <td>24458000.0</td>\n",
       "      <td>...</td>\n",
       "      <td>57896000.0</td>\n",
       "      <td>42236000.0</td>\n",
       "      <td>63358000.0</td>\n",
       "      <td>38702000.0</td>\n",
       "      <td>54028000.0</td>\n",
       "      <td>40334000.0</td>\n",
       "      <td>61620000.0</td>\n",
       "      <td>63320000.0</td>\n",
       "      <td>2.332000e+07</td>\n",
       "      <td>120.772499</td>\n",
       "    </tr>\n",
       "    <tr>\n",
       "      <th>1</th>\n",
       "      <td>2021-06-17 00:00:00+00:00</td>\n",
       "      <td>120.336266</td>\n",
       "      <td>26472000.0</td>\n",
       "      <td>21562000.0</td>\n",
       "      <td>22098000.0</td>\n",
       "      <td>21958000.0</td>\n",
       "      <td>25904000.0</td>\n",
       "      <td>17942000.0</td>\n",
       "      <td>24240000.0</td>\n",
       "      <td>24120000.0</td>\n",
       "      <td>...</td>\n",
       "      <td>51050000.0</td>\n",
       "      <td>57896000.0</td>\n",
       "      <td>42236000.0</td>\n",
       "      <td>63358000.0</td>\n",
       "      <td>38702000.0</td>\n",
       "      <td>54028000.0</td>\n",
       "      <td>40334000.0</td>\n",
       "      <td>61620000.0</td>\n",
       "      <td>2.187267e+07</td>\n",
       "      <td>121.743500</td>\n",
       "    </tr>\n",
       "    <tr>\n",
       "      <th>2</th>\n",
       "      <td>2021-06-18 00:00:00+00:00</td>\n",
       "      <td>121.303764</td>\n",
       "      <td>25842000.0</td>\n",
       "      <td>26472000.0</td>\n",
       "      <td>21562000.0</td>\n",
       "      <td>22098000.0</td>\n",
       "      <td>21958000.0</td>\n",
       "      <td>25904000.0</td>\n",
       "      <td>17942000.0</td>\n",
       "      <td>24240000.0</td>\n",
       "      <td>...</td>\n",
       "      <td>35292000.0</td>\n",
       "      <td>51050000.0</td>\n",
       "      <td>57896000.0</td>\n",
       "      <td>42236000.0</td>\n",
       "      <td>63358000.0</td>\n",
       "      <td>38702000.0</td>\n",
       "      <td>54028000.0</td>\n",
       "      <td>40334000.0</td>\n",
       "      <td>2.337733e+07</td>\n",
       "      <td>120.111000</td>\n",
       "    </tr>\n",
       "  </tbody>\n",
       "</table>\n",
       "<p>3 rows × 305 columns</p>\n",
       "</div>"
      ],
      "text/plain": [
       "                       Date   Adj Close      Volume  Volume_lag_1  \\\n",
       "0 2021-06-16 00:00:00+00:00  120.980934  21562000.0    22098000.0   \n",
       "1 2021-06-17 00:00:00+00:00  120.336266  26472000.0    21562000.0   \n",
       "2 2021-06-18 00:00:00+00:00  121.303764  25842000.0    26472000.0   \n",
       "\n",
       "   Volume_lag_2  Volume_lag_3  Volume_lag_4  Volume_lag_5  Volume_lag_6  \\\n",
       "0    21958000.0    25904000.0    17942000.0    24240000.0    24120000.0   \n",
       "1    22098000.0    21958000.0    25904000.0    17942000.0    24240000.0   \n",
       "2    21562000.0    22098000.0    21958000.0    25904000.0    17942000.0   \n",
       "\n",
       "   Volume_lag_7  ...  Volume_lag_293  Volume_lag_294  Volume_lag_295  \\\n",
       "0    24458000.0  ...      57896000.0      42236000.0      63358000.0   \n",
       "1    24120000.0  ...      51050000.0      57896000.0      42236000.0   \n",
       "2    24240000.0  ...      35292000.0      51050000.0      57896000.0   \n",
       "\n",
       "   Volume_lag_296  Volume_lag_297  Volume_lag_298  Volume_lag_299  \\\n",
       "0      38702000.0      54028000.0      40334000.0      61620000.0   \n",
       "1      63358000.0      38702000.0      54028000.0      40334000.0   \n",
       "2      42236000.0      63358000.0      38702000.0      54028000.0   \n",
       "\n",
       "   Volume_lag_300  Volume_rolling_mean_3      target  \n",
       "0      63320000.0           2.332000e+07  120.772499  \n",
       "1      61620000.0           2.187267e+07  121.743500  \n",
       "2      40334000.0           2.337733e+07  120.111000  \n",
       "\n",
       "[3 rows x 305 columns]"
      ]
     },
     "execution_count": 3,
     "metadata": {},
     "output_type": "execute_result"
    }
   ],
   "source": [
    "# Load historical data\n",
    "data_path = '../../data/mlops_stages/historical_features.csv'\n",
    "df = pd.read_csv(data_path)\n",
    "df['Date'] = pd.to_datetime(df['Date'])\n",
    "print(f\"Loaded data with {df.shape[0]} rows and {df.shape[1]} columns\")\n",
    "df.head(3)"
   ]
  },
  {
   "cell_type": "markdown",
   "metadata": {},
   "source": [
    "## 3. Prepare Data for Training\n",
    "\n",
    "We'll split our data into training and test sets, respecting the time series nature."
   ]
  },
  {
   "cell_type": "code",
   "execution_count": 4,
   "metadata": {},
   "outputs": [
    {
     "name": "stdout",
     "output_type": "stream",
     "text": [
      "Training data: 641 rows from 2021-06-16 00:00:00+00:00 to 2024-01-02 00:00:00+00:00\n",
      "Test data: 161 rows from 2024-01-03 00:00:00+00:00 to 2024-08-22 00:00:00+00:00\n"
     ]
    }
   ],
   "source": [
    "def time_based_split(df, test_size=0.2):\n",
    "    \"\"\"Split time series data respecting temporal order\"\"\"\n",
    "    # Sort by date\n",
    "    df = df.sort_values('Date')\n",
    "    \n",
    "    # Calculate split index\n",
    "    split_idx = int(len(df) * (1 - test_size))\n",
    "    \n",
    "    # Split the data\n",
    "    train_df = df.iloc[:split_idx].copy()\n",
    "    test_df = df.iloc[split_idx:].copy()\n",
    "    \n",
    "    return train_df, test_df\n",
    "\n",
    "# Split the data\n",
    "train_df, test_df = time_based_split(df)\n",
    "\n",
    "print(f\"Training data: {train_df.shape[0]} rows from {train_df['Date'].min()} to {train_df['Date'].max()}\")\n",
    "print(f\"Test data: {test_df.shape[0]} rows from {test_df['Date'].min()} to {test_df['Date'].max()}\")"
   ]
  },
  {
   "cell_type": "markdown",
   "metadata": {},
   "source": [
    "## 4. Prepare Features and Target\n",
    "\n",
    "Let's separate our features and target variable."
   ]
  },
  {
   "cell_type": "code",
   "execution_count": 5,
   "metadata": {},
   "outputs": [
    {
     "name": "stdout",
     "output_type": "stream",
     "text": [
      "Using 303 features\n"
     ]
    }
   ],
   "source": [
    "def prepare_features_target(df):\n",
    "    \"\"\"Prepare features and target\"\"\"\n",
    "    # Exclude Date and target columns\n",
    "    feature_cols = [col for col in df.columns if col not in ['Date', 'target']]\n",
    "    \n",
    "    # Extract features and target\n",
    "    X = df[feature_cols]\n",
    "    y = df['target']\n",
    "    \n",
    "    return X, y, feature_cols\n",
    "\n",
    "# Prepare data for modeling\n",
    "X_train, y_train, features = prepare_features_target(train_df)\n",
    "X_test, y_test, _ = prepare_features_target(test_df)\n",
    "\n",
    "print(f\"Using {len(features)} features\")"
   ]
  },
  {
   "cell_type": "markdown",
   "metadata": {},
   "source": [
    "## 5. Train and Register a Model\n",
    "\n",
    "Now we'll train a model and register it in the MLflow Model Registry."
   ]
  },
  {
   "cell_type": "code",
   "execution_count": null,
   "metadata": {},
   "outputs": [
    {
     "name": "stderr",
     "output_type": "stream",
     "text": [
      "c:\\Users\\hohoy\\OneDrive\\Desktop\\sagemaker-ncf-mlflow\\.venv\\Lib\\site-packages\\xgboost\\core.py:158: UserWarning: [15:09:45] WARNING: C:\\buildkite-agent\\builds\\buildkite-windows-cpu-autoscaling-group-i-08cbc0333d8d4aae1-1\\xgboost\\xgboost-ci-windows\\src\\c_api\\c_api.cc:1374: Saving model in the UBJSON format as default.  You can use file extension: `json`, `ubj` or `deprecated` to choose between formats.\n",
      "  warnings.warn(smsg, UserWarning)\n",
      "2025/02/19 15:09:55 WARNING mlflow.models.model: Model logged without a signature and input example. Please set `input_example` parameter when logging the model to auto infer the model signature.\n",
      "Successfully registered model 'google_stock_predictor'.\n",
      "2025/02/19 15:09:55 INFO mlflow.store.model_registry.abstract_store: Waiting up to 300 seconds for model version to finish creation. Model name: google_stock_predictor, version 1\n"
     ]
    },
    {
     "name": "stdout",
     "output_type": "stream",
     "text": [
      "Model training complete. Run ID: 9cb02419c710421d8acb26d2225750bd\n",
      "Test RMSE: $22.48\n",
      "Test R²: -1.0292\n",
      "🏃 View run registry_model_v1 at: http://localhost:5000/#/experiments/457499682337239906/runs/9cb02419c710421d8acb26d2225750bd\n",
      "🧪 View experiment at: http://localhost:5000/#/experiments/457499682337239906\n"
     ]
    },
    {
     "name": "stderr",
     "output_type": "stream",
     "text": [
      "Created version '1' of model 'google_stock_predictor'.\n"
     ]
    }
   ],
   "source": [
    "# Model parameters\n",
    "params = {\n",
    "    'objective': 'reg:squarederror',\n",
    "    'learning_rate': 0.1,\n",
    "    'max_depth': 6,\n",
    "    'n_estimators': 100,\n",
    "    'subsample': 0.8,\n",
    "    'colsample_bytree': 0.8,\n",
    "    'seed': 42\n",
    "}\n",
    "\n",
    "# Model name in registry\n",
    "model_name = \"google_stock_predictor\"\n",
    "\n",
    "# Start MLflow run\n",
    "with mlflow.start_run(run_name=\"registry_model_v1\") as run:\n",
    "    # Log parameters\n",
    "    mlflow.log_params(params)\n",
    "    \n",
    "    # Set tags\n",
    "    mlflow.set_tag(\"model_type\", \"xgboost\")\n",
    "    mlflow.set_tag(\"data_version\", \"v1\")\n",
    "    mlflow.set_tag(\"author\", \"student\")\n",
    "    \n",
    "    # Train model\n",
    "    model = xgb.XGBRegressor(**params)\n",
    "    model.fit(X_train, y_train)\n",
    "    \n",
    "    # Make predictions\n",
    "    y_pred = model.predict(X_test)\n",
    "    \n",
    "    # Calculate metrics\n",
    "    rmse = np.sqrt(mean_squared_error(y_test, y_pred))\n",
    "    r2 = r2_score(y_test, y_pred)\n",
    "    \n",
    "    # Log metrics\n",
    "    mlflow.log_metric(\"rmse\", rmse)\n",
    "    mlflow.log_metric(\"r2\", r2)\n",
    "    from mlflow.models.signature import infer_signature\n",
    "    signature = infer_signature(X_train, y_train_pred)\n",
    "    \n",
    "    # Provide input example\n",
    "    input_example = X_train[:4]\n",
    "    # Log model to registry\n",
    "    mlflow.xgboost.log_model(\n",
    "        model,\n",
    "        \"xgboost_model\",\n",
    "        registered_model_name=model_name.\n",
    "        signature=signature,\n",
    "        input_example=input_example,\n",
    "        model_format=\"json\"\n",
    "    )\n",
    "    \n",
    "    run_id = run.info.run_id\n",
    "    print(f\"Model training complete. Run ID: {run_id}\")\n",
    "    print(f\"Test RMSE: ${rmse:.2f}\")\n",
    "    print(f\"Test R²: {r2:.4f}\")"
   ]
  },
  {
   "cell_type": "markdown",
   "metadata": {},
   "source": [
    "## 6. Manage Model Versions\n",
    "\n",
    "Now let's train another model with different parameters and register it as a new version."
   ]
  },
  {
   "cell_type": "code",
   "execution_count": null,
   "metadata": {},
   "outputs": [
    {
     "name": "stderr",
     "output_type": "stream",
     "text": [
      "c:\\Users\\hohoy\\OneDrive\\Desktop\\sagemaker-ncf-mlflow\\.venv\\Lib\\site-packages\\xgboost\\core.py:158: UserWarning: [15:10:07] WARNING: C:\\buildkite-agent\\builds\\buildkite-windows-cpu-autoscaling-group-i-08cbc0333d8d4aae1-1\\xgboost\\xgboost-ci-windows\\src\\c_api\\c_api.cc:1374: Saving model in the UBJSON format as default.  You can use file extension: `json`, `ubj` or `deprecated` to choose between formats.\n",
      "  warnings.warn(smsg, UserWarning)\n",
      "2025/02/19 15:10:12 WARNING mlflow.models.model: Model logged without a signature and input example. Please set `input_example` parameter when logging the model to auto infer the model signature.\n",
      "Registered model 'google_stock_predictor' already exists. Creating a new version of this model...\n",
      "2025/02/19 15:10:13 INFO mlflow.store.model_registry.abstract_store: Waiting up to 300 seconds for model version to finish creation. Model name: google_stock_predictor, version 2\n",
      "Created version '2' of model 'google_stock_predictor'.\n"
     ]
    },
    {
     "name": "stdout",
     "output_type": "stream",
     "text": [
      "Model v2 training complete. Run ID: 2a0104b4dd5049dfbc947221feec732a\n",
      "Test RMSE: $23.00\n",
      "Test R²: -1.1245\n",
      "🏃 View run registry_model_v2 at: http://localhost:5000/#/experiments/457499682337239906/runs/2a0104b4dd5049dfbc947221feec732a\n",
      "🧪 View experiment at: http://localhost:5000/#/experiments/457499682337239906\n"
     ]
    }
   ],
   "source": [
    "# Updated parameters for second model\n",
    "params_v2 = {\n",
    "    'objective': 'reg:squarederror',\n",
    "    'learning_rate': 0.05,\n",
    "    'max_depth': 8,\n",
    "    'n_estimators': 200,\n",
    "    'subsample': 0.7,\n",
    "    'colsample_bytree': 0.7,\n",
    "    'seed': 42\n",
    "}\n",
    "\n",
    "# Train and register second model\n",
    "with mlflow.start_run(run_name=\"registry_model_v2\") as run:\n",
    "    # Log parameters\n",
    "    mlflow.log_params(params_v2)\n",
    "    \n",
    "    # Set tags\n",
    "    mlflow.set_tag(\"model_type\", \"xgboost\")\n",
    "    mlflow.set_tag(\"data_version\", \"v1\")\n",
    "    mlflow.set_tag(\"improvement\", \"deeper_trees\")\n",
    "    \n",
    "    # Train model\n",
    "    model_v2 = xgb.XGBRegressor(**params_v2)\n",
    "    model_v2.fit(X_train, y_train)\n",
    "    \n",
    "    # Make predictions\n",
    "    y_pred = model_v2.predict(X_test)\n",
    "    \n",
    "    # Calculate metrics\n",
    "    rmse = np.sqrt(mean_squared_error(y_test, y_pred))\n",
    "    r2 = r2_score(y_test, y_pred)\n",
    "    \n",
    "    # Log metrics\n",
    "    mlflow.log_metric(\"rmse\", rmse)\n",
    "    mlflow.log_metric(\"r2\", r2)\n",
    "    \n",
    "    # Log model to registry (same name creates new version)\n",
    "    from mlflow.models.signature import infer_signature\n",
    "    signature = infer_signature(X_train, y_train_pred)\n",
    "    \n",
    "    # Provide input example\n",
    "    input_example = X_train[:4]\n",
    "    mlflow.xgboost.log_model(\n",
    "        model_v2,\n",
    "        \"xgboost_model\",\n",
    "        registered_model_name=model_name,\n",
    "        signature=signature,\n",
    "        input_example=input_example,\n",
    "        model_format=\"json\"\n",
    "    )\n",
    "    \n",
    "    run_id = run.info.run_id\n",
    "    print(f\"Model v2 training complete. Run ID: {run_id}\")\n",
    "    print(f\"Test RMSE: ${rmse:.2f}\")\n",
    "    print(f\"Test R²: {r2:.4f}\")"
   ]
  },
  {
   "cell_type": "markdown",
   "metadata": {},
   "source": [
    "## 7. View Registered Models\n",
    "\n",
    "Let's examine the models we've registered."
   ]
  },
  {
   "cell_type": "code",
   "execution_count": 8,
   "metadata": {},
   "outputs": [
    {
     "name": "stdout",
     "output_type": "stream",
     "text": [
      "Model: google_stock_predictor\n",
      "Created: 1739948995314\n",
      "\n",
      "Found 2 model versions:\n",
      "Version: 2, Status: READY\n",
      "Version: 1, Status: READY\n"
     ]
    }
   ],
   "source": [
    "# Get registered model\n",
    "model_details = client.get_registered_model(model_name)\n",
    "print(f\"Model: {model_details.name}\")\n",
    "print(f\"Created: {model_details.creation_timestamp}\")\n",
    "\n",
    "# Get all versions\n",
    "versions = client.search_model_versions(f\"name='{model_name}'\")\n",
    "print(f\"\\nFound {len(versions)} model versions:\")\n",
    "for version in versions:\n",
    "    print(f\"Version: {version.version}, Status: {version.status}\")"
   ]
  },
  {
   "cell_type": "markdown",
   "metadata": {},
   "source": [
    "## 8. Manage Model Aliases\n",
    "\n",
    "Now let's assign aliases to our model versions to organize them for different environments."
   ]
  },
  {
   "cell_type": "code",
   "execution_count": 9,
   "metadata": {},
   "outputs": [
    {
     "name": "stdout",
     "output_type": "stream",
     "text": [
      "Assigned 'candidate' alias to Version 2\n"
     ]
    },
    {
     "data": {
      "text/plain": [
       "<ModelVersion: aliases=['candidate'], creation_timestamp=1739949013102, current_stage='None', description=('Improved model with deeper trees and lower learning rate. Assigned '\n",
       " \"'candidate' alias for validation.\"), last_updated_timestamp=1739949013507, name='google_stock_predictor', run_id='2a0104b4dd5049dfbc947221feec732a', run_link='', source='file:C:/Users/hohoy/OneDrive/Desktop/sagemaker-ncf-mlflow/tutorial_notebook/stage2/notebooks/../mlruns/google_stock_model_registry/2a0104b4dd5049dfbc947221feec732a/artifacts/xgboost_model', status='READY', status_message=None, tags={}, user_id='', version='2'>"
      ]
     },
     "execution_count": 9,
     "metadata": {},
     "output_type": "execute_result"
    }
   ],
   "source": [
    "# Get the latest version number\n",
    "latest_version = str(max([int(v.version) for v in versions]))\n",
    "\n",
    "# Assign 'candidate' alias to the latest version\n",
    "client.set_registered_model_alias(\n",
    "    name=model_name,\n",
    "    alias=\"candidate\",\n",
    "    version=latest_version\n",
    ")\n",
    "\n",
    "print(f\"Assigned 'candidate' alias to Version {latest_version}\")\n",
    "\n",
    "# Add description to explain why this model was promoted\n",
    "client.update_model_version(\n",
    "    name=model_name,\n",
    "    version=latest_version,\n",
    "    description=\"Improved model with deeper trees and lower learning rate. Assigned 'candidate' alias for validation.\"\n",
    ")"
   ]
  },
  {
   "cell_type": "markdown",
   "metadata": {},
   "source": [
    "## 9. Add Tags to Models\n",
    "\n",
    "Let's add tags to our model versions to track their status."
   ]
  },
  {
   "cell_type": "code",
   "execution_count": 10,
   "metadata": {},
   "outputs": [
    {
     "name": "stdout",
     "output_type": "stream",
     "text": [
      "Added tags to model and version 2\n"
     ]
    }
   ],
   "source": [
    "# Add validation status tag to our candidate model\n",
    "client.set_model_version_tag(\n",
    "    name=model_name,\n",
    "    version=latest_version,\n",
    "    key=\"validation_status\",\n",
    "    value=\"pending\"\n",
    ")\n",
    "\n",
    "# Add purpose tag to the registered model\n",
    "client.set_registered_model_tag(\n",
    "    name=model_name,\n",
    "    key=\"purpose\",\n",
    "    value=\"stock_price_prediction\"\n",
    ")\n",
    "\n",
    "print(f\"Added tags to model and version {latest_version}\")"
   ]
  },
  {
   "cell_type": "markdown",
   "metadata": {},
   "source": [
    "## 10. Load and Use a Model by Alias\n",
    "\n",
    "Now let's load our model from the registry by referencing its alias."
   ]
  },
  {
   "cell_type": "code",
   "execution_count": 11,
   "metadata": {},
   "outputs": [
    {
     "name": "stdout",
     "output_type": "stream",
     "text": [
      "Predictions from candidate model:\n"
     ]
    },
    {
     "data": {
      "text/html": [
       "<div>\n",
       "<style scoped>\n",
       "    .dataframe tbody tr th:only-of-type {\n",
       "        vertical-align: middle;\n",
       "    }\n",
       "\n",
       "    .dataframe tbody tr th {\n",
       "        vertical-align: top;\n",
       "    }\n",
       "\n",
       "    .dataframe thead th {\n",
       "        text-align: right;\n",
       "    }\n",
       "</style>\n",
       "<table border=\"1\" class=\"dataframe\">\n",
       "  <thead>\n",
       "    <tr style=\"text-align: right;\">\n",
       "      <th></th>\n",
       "      <th>Date</th>\n",
       "      <th>Actual</th>\n",
       "      <th>Predicted</th>\n",
       "    </tr>\n",
       "  </thead>\n",
       "  <tbody>\n",
       "    <tr>\n",
       "      <th>641</th>\n",
       "      <td>2024-01-03 00:00:00+00:00</td>\n",
       "      <td>138.919998</td>\n",
       "      <td>136.569473</td>\n",
       "    </tr>\n",
       "    <tr>\n",
       "      <th>642</th>\n",
       "      <td>2024-01-04 00:00:00+00:00</td>\n",
       "      <td>136.389999</td>\n",
       "      <td>135.772430</td>\n",
       "    </tr>\n",
       "    <tr>\n",
       "      <th>643</th>\n",
       "      <td>2024-01-05 00:00:00+00:00</td>\n",
       "      <td>135.729996</td>\n",
       "      <td>135.522675</td>\n",
       "    </tr>\n",
       "    <tr>\n",
       "      <th>644</th>\n",
       "      <td>2024-01-08 00:00:00+00:00</td>\n",
       "      <td>138.839996</td>\n",
       "      <td>133.182220</td>\n",
       "    </tr>\n",
       "    <tr>\n",
       "      <th>645</th>\n",
       "      <td>2024-01-09 00:00:00+00:00</td>\n",
       "      <td>140.949997</td>\n",
       "      <td>135.432846</td>\n",
       "    </tr>\n",
       "  </tbody>\n",
       "</table>\n",
       "</div>"
      ],
      "text/plain": [
       "                         Date      Actual   Predicted\n",
       "641 2024-01-03 00:00:00+00:00  138.919998  136.569473\n",
       "642 2024-01-04 00:00:00+00:00  136.389999  135.772430\n",
       "643 2024-01-05 00:00:00+00:00  135.729996  135.522675\n",
       "644 2024-01-08 00:00:00+00:00  138.839996  133.182220\n",
       "645 2024-01-09 00:00:00+00:00  140.949997  135.432846"
      ]
     },
     "execution_count": 11,
     "metadata": {},
     "output_type": "execute_result"
    }
   ],
   "source": [
    "# Load the model using the alias\n",
    "candidate_model = mlflow.xgboost.load_model(f\"models:/{model_name}@candidate\")\n",
    "\n",
    "# Make predictions with the candidate model\n",
    "candidate_predictions = candidate_model.predict(X_test[:5])\n",
    "\n",
    "# Show predictions\n",
    "results = pd.DataFrame({\n",
    "    'Date': test_df['Date'][:5],\n",
    "    'Actual': y_test[:5],\n",
    "    'Predicted': candidate_predictions\n",
    "})\n",
    "\n",
    "print(\"Predictions from candidate model:\")\n",
    "results"
   ]
  },
  {
   "cell_type": "markdown",
   "metadata": {},
   "source": [
    "## 11. Promote Model to Production\n",
    "\n",
    "After validation, let's promote our model to production by assigning the 'champion' alias."
   ]
  },
  {
   "cell_type": "code",
   "execution_count": 12,
   "metadata": {},
   "outputs": [
    {
     "name": "stdout",
     "output_type": "stream",
     "text": [
      "Assigned 'champion' alias to Version 2\n"
     ]
    },
    {
     "data": {
      "text/plain": [
       "<ModelVersion: aliases=['candidate', 'champion'], creation_timestamp=1739949013102, current_stage='None', description=('Promoted to champion after validation. Model shows improved RMSE over '\n",
       " 'previous version.'), last_updated_timestamp=1739949014187, name='google_stock_predictor', run_id='2a0104b4dd5049dfbc947221feec732a', run_link='', source='file:C:/Users/hohoy/OneDrive/Desktop/sagemaker-ncf-mlflow/tutorial_notebook/stage2/notebooks/../mlruns/google_stock_model_registry/2a0104b4dd5049dfbc947221feec732a/artifacts/xgboost_model', status='READY', status_message=None, tags={'validation_status': 'passed'}, user_id='', version='2'>"
      ]
     },
     "execution_count": 12,
     "metadata": {},
     "output_type": "execute_result"
    }
   ],
   "source": [
    "# First, simulate validation by updating the validation status tag\n",
    "client.set_model_version_tag(\n",
    "    name=model_name,\n",
    "    version=latest_version,\n",
    "    key=\"validation_status\",\n",
    "    value=\"passed\"\n",
    ")\n",
    "\n",
    "# Assign 'champion' alias to the validated model version\n",
    "client.set_registered_model_alias(\n",
    "    name=model_name,\n",
    "    alias=\"champion\",\n",
    "    version=latest_version\n",
    ")\n",
    "\n",
    "print(f\"Assigned 'champion' alias to Version {latest_version}\")\n",
    "\n",
    "# Update description\n",
    "client.update_model_version(\n",
    "    name=model_name,\n",
    "    version=latest_version,\n",
    "    description=\"Promoted to champion after validation. Model shows improved RMSE over previous version.\"\n",
    ")"
   ]
  },
  {
   "cell_type": "markdown",
   "metadata": {},
   "source": [
    "## 12. View Model Aliases\n",
    "\n",
    "Let's examine the aliases we've assigned to our model versions."
   ]
  },
  {
   "cell_type": "code",
   "execution_count": 13,
   "metadata": {},
   "outputs": [
    {
     "name": "stdout",
     "output_type": "stream",
     "text": [
      "Aliases for model 'google_stock_predictor':\n",
      "  - candidate: points to version 2\n",
      "  - champion: points to version 2\n",
      "\n",
      "Champion model: Version 2\n",
      "Creation timestamp: 1739949013102\n"
     ]
    }
   ],
   "source": [
    "\n",
    "# Get details of the registered model\n",
    "model_details = client.get_registered_model(model_name)\n",
    "\n",
    "# Print all aliases for the registered model\n",
    "print(f\"Aliases for model '{model_name}':\")\n",
    "for alias_name, version_number in model_details.aliases.items():\n",
    "    print(f\"  - {alias_name}: points to version {version_number}\")\n",
    "\n",
    "# Get model version by alias\n",
    "champion_version = client.get_model_version_by_alias(model_name, \"champion\")\n",
    "print(f\"\\nChampion model: Version {champion_version.version}\")\n",
    "print(f\"Creation timestamp: {champion_version.creation_timestamp}\")"
   ]
  },
  {
   "cell_type": "markdown",
   "metadata": {},
   "source": [
    "## 13. Rollback Process\n",
    "\n",
    "Let's simulate a rollback scenario where we need to revert to a previous model version."
   ]
  },
  {
   "cell_type": "code",
   "execution_count": 14,
   "metadata": {},
   "outputs": [
    {
     "name": "stdout",
     "output_type": "stream",
     "text": [
      "Simulating rollback from version 2 to version 1\n",
      "Rolled back 'champion' alias to version 1\n"
     ]
    }
   ],
   "source": [
    "# Get all model versions\n",
    "all_versions = client.search_model_versions(f\"name='{model_name}'\")\n",
    "if len(all_versions) > 1:\n",
    "    # Find the first version\n",
    "    previous_version = str(min([int(v.version) for v in all_versions]))\n",
    "    \n",
    "    print(f\"Simulating rollback from version {latest_version} to version {previous_version}\")\n",
    "    \n",
    "    # Reassign the champion alias to the previous version \n",
    "    client.set_registered_model_alias(\n",
    "        name=model_name,\n",
    "        alias=\"champion\",\n",
    "        version=previous_version\n",
    "    )\n",
    "    \n",
    "    # Add a tag to explain the rollback\n",
    "    client.set_model_version_tag(\n",
    "        name=model_name,\n",
    "        version=previous_version,\n",
    "        key=\"rollback_reason\",\n",
    "        value=\"Performance issues in newer model\"\n",
    "    )\n",
    "    \n",
    "    print(f\"Rolled back 'champion' alias to version {previous_version}\")\n",
    "else:\n",
    "    print(\"Need at least two model versions to demonstrate rollback\")"
   ]
  },
  {
   "cell_type": "markdown",
   "metadata": {},
   "source": [
    "## 14. Moving Models Between Environments\n",
    "\n",
    "For multi-environment setups, you can use different registered models with similar model aliases."
   ]
  },
  {
   "cell_type": "code",
   "execution_count": 15,
   "metadata": {},
   "outputs": [
    {
     "name": "stdout",
     "output_type": "stream",
     "text": [
      "In a real setup, we would create prod_google_stock_predictor and copy the version over\n",
      "\n",
      "Conceptual demonstration:\n",
      "1. Get candidate version from google_stock_predictor\n",
      "2. Use client.copy_model_version() to copy to prod_google_stock_predictor\n",
      "3. Assign 'champion' alias in the production environment\n",
      "\n",
      "Example code:\n",
      "\n",
      "    # Promote model from development to production (conceptual example)\n",
      "    candidate_version = client.get_model_version_by_alias(\"dev_model\", \"candidate\")\n",
      "    \n",
      "    # Copy the model version to production registered model\n",
      "    copied_version = client.copy_model_version(\n",
      "        src_model_uri=f\"models:/dev_model/{candidate_version.version}\",\n",
      "        dst_name=\"prod_model\"\n",
      "    )\n",
      "    \n",
      "    # Assign champion alias in production\n",
      "    client.set_registered_model_alias(\n",
      "        name=\"prod_model\",\n",
      "        alias=\"champion\",\n",
      "        version=copied_version.version\n",
      "    )\n",
      "    \n"
     ]
    }
   ],
   "source": [
    "# Simulate promoting a model from development to production environment\n",
    "dev_model_name = \"dev_google_stock_predictor\"\n",
    "prod_model_name = \"prod_google_stock_predictor\"\n",
    "\n",
    "# Check if the model exists, if not, create it and explain the concept\n",
    "try:\n",
    "    client.get_registered_model(prod_model_name)\n",
    "except:\n",
    "    # Create the production model (in practice, you'd use the client.create_registered_model() method)\n",
    "    print(f\"In a real setup, we would create {prod_model_name} and copy the version over\")\n",
    "    print(\"\\nConceptual demonstration:\")\n",
    "    print(f\"1. Get candidate version from {model_name}\")\n",
    "    print(f\"2. Use client.copy_model_version() to copy to {prod_model_name}\")\n",
    "    print(f\"3. Assign 'champion' alias in the production environment\")\n",
    "    \n",
    "    code_example = '''\n",
    "    # Promote model from development to production (conceptual example)\n",
    "    candidate_version = client.get_model_version_by_alias(\"dev_model\", \"candidate\")\n",
    "    \n",
    "    # Copy the model version to production registered model\n",
    "    copied_version = client.copy_model_version(\n",
    "        src_model_uri=f\"models:/dev_model/{candidate_version.version}\",\n",
    "        dst_name=\"prod_model\"\n",
    "    )\n",
    "    \n",
    "    # Assign champion alias in production\n",
    "    client.set_registered_model_alias(\n",
    "        name=\"prod_model\",\n",
    "        alias=\"champion\",\n",
    "        version=copied_version.version\n",
    "    )\n",
    "    '''\n",
    "    \n",
    "    print(f\"\\nExample code:\\n{code_example}\")"
   ]
  },
  {
   "cell_type": "markdown",
   "metadata": {},
   "source": [
    "## 15. Conclusion\n",
    "\n",
    "In this lesson, we learned how to:\n",
    "1. Register models in MLflow's Model Registry\n",
    "2. Create multiple versions of a model\n",
    "3. Use aliases to manage model deployments (instead of deprecated stages)\n",
    "4. Apply tags for tracking model status and metadata\n",
    "5. Load models using aliases\n",
    "6. Perform rollbacks by reassigning aliases\n",
    "\n",
    "These practices help maintain version control, ensure proper testing and validation, and create a clear workflow for deploying models to production without relying on deprecated stages."
   ]
  },
  {
   "cell_type": "code",
   "execution_count": null,
   "metadata": {},
   "outputs": [],
   "source": []
  }
 ],
 "metadata": {
  "kernelspec": {
   "display_name": "Python 3",
   "language": "python",
   "name": "python3"
  },
  "language_info": {
   "codemirror_mode": {
    "name": "ipython",
    "version": 3
   },
   "file_extension": ".py",
   "mimetype": "text/x-python",
   "name": "python",
   "nbconvert_exporter": "python",
   "pygments_lexer": "ipython3",
   "version": "3.8.0"
  }
 },
 "nbformat": 4,
 "nbformat_minor": 4
}
