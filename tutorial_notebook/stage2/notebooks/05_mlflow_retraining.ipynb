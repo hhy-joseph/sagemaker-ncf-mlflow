{
 "cells": [
  {
   "cell_type": "markdown",
   "metadata": {},
   "source": [
    "# Stage 2 - Lesson 5: Retraining with New Data\n",
    "\n",
    "In this notebook, we'll learn how to:\n",
    "1. Load our existing model from MLflow\n",
    "2. Simulate new data arriving over time\n",
    "3. Evaluate if retraining is needed\n",
    "4. Retrain the model when performance drops\n",
    "5. Register and version our models"
   ]
  },
  {
   "cell_type": "code",
   "execution_count": 1,
   "metadata": {},
   "outputs": [],
   "source": [
    "# Import libraries\n",
    "import os\n",
    "import pandas as pd\n",
    "import numpy as np\n",
    "import matplotlib.pyplot as plt\n",
    "from datetime import datetime, timedelta\n",
    "import xgboost as xgb\n",
    "from sklearn.metrics import mean_squared_error, r2_score\n",
    "\n",
    "# MLflow\n",
    "import mlflow\n",
    "import mlflow.xgboost\n",
    "from mlflow.tracking import MlflowClient\n",
    "\n",
    "# Set random seed for reproducibility\n",
    "np.random.seed(42)"
   ]
  },
  {
   "cell_type": "markdown",
   "metadata": {},
   "source": [
    "## 1. Connect to MLflow and load our best model"
   ]
  },
  {
   "cell_type": "code",
   "execution_count": 2,
   "metadata": {},
   "outputs": [
    {
     "name": "stdout",
     "output_type": "stream",
     "text": [
      "Working with experiment 'google_stock_prediction' (ID: 254540670382524557)\n"
     ]
    }
   ],
   "source": [
    "# Set MLflow tracking URI - this should match what you set up in Lesson 1\n",
    "mlflow.set_tracking_uri(\"http://localhost:5000\")\n",
    "\n",
    "# Set the experiment\n",
    "experiment_name = \"google_stock_prediction\"\n",
    "mlflow.set_experiment(experiment_name)\n",
    "\n",
    "# Get the experiment ID\n",
    "experiment = mlflow.get_experiment_by_name(experiment_name)\n",
    "experiment_id = experiment.experiment_id\n",
    "print(f\"Working with experiment '{experiment_name}' (ID: {experiment_id})\")"
   ]
  },
  {
   "cell_type": "code",
   "execution_count": 3,
   "metadata": {},
   "outputs": [
    {
     "name": "stdout",
     "output_type": "stream",
     "text": [
      "Best model found: Run ID 243f356629e74bfebdd65d00961d2c65\n",
      "Best test_rmse: 22.5710\n",
      "Successfully loaded model from run: 243f356629e74bfebdd65d00961d2c65\n"
     ]
    }
   ],
   "source": [
    "# Function to find our best model from previous runs\n",
    "def find_best_model(experiment_id, metric=\"test_rmse\", mode=\"min\"):\n",
    "    \"\"\"Find the best model based on a metric\"\"\"\n",
    "    client = MlflowClient()\n",
    "    \n",
    "    # Search for runs with models\n",
    "    runs = client.search_runs(\n",
    "        experiment_ids=[experiment_id],\n",
    "        filter_string=\"tags.mlflow.runName LIKE '%xgboost%'\"\n",
    "    )\n",
    "    \n",
    "    if not runs:\n",
    "        print(\"No model runs found!\")\n",
    "        return None\n",
    "    \n",
    "    # Find best run based on metric\n",
    "    if mode == \"min\":\n",
    "        best_run = min(runs, key=lambda run: run.data.metrics.get(metric, float('inf')))\n",
    "    else:\n",
    "        best_run = max(runs, key=lambda run: run.data.metrics.get(metric, float('-inf')))\n",
    "    \n",
    "    run_id = best_run.info.run_id\n",
    "    metric_value = best_run.data.metrics.get(metric)\n",
    "    print(f\"Best model found: Run ID {run_id}\")\n",
    "    print(f\"Best {metric}: {metric_value:.4f}\")\n",
    "    \n",
    "    return run_id\n",
    "\n",
    "# Find our best model\n",
    "best_run_id = find_best_model(experiment_id, metric=\"test_rmse\", mode=\"min\")\n",
    "\n",
    "if best_run_id:\n",
    "    # Load the best model\n",
    "    model_uri = f\"runs:/{best_run_id}/xgboost_model\"\n",
    "    current_model = mlflow.xgboost.load_model(model_uri)\n",
    "    print(f\"Successfully loaded model from run: {best_run_id}\")"
   ]
  },
  {
   "cell_type": "markdown",
   "metadata": {},
   "source": [
    "## 2. Load our historical and future data\n",
    "\n",
    "In a real-world scenario, new data arrives regularly. We'll simulate this by using our future data split from Lesson 1."
   ]
  },
  {
   "cell_type": "code",
   "execution_count": 4,
   "metadata": {},
   "outputs": [
    {
     "name": "stdout",
     "output_type": "stream",
     "text": [
      "Historical data: 802 records from 2021-06-16 00:00:00+00:00 to 2024-08-22 00:00:00+00:00\n",
      "Future data: 90 records from 2024-08-23 00:00:00+00:00 to 2024-12-31 00:00:00+00:00\n"
     ]
    }
   ],
   "source": [
    "# Load the historical and future data\n",
    "historical_data = pd.read_csv('../../data/mlops_stages/historical_features.csv')\n",
    "future_data = pd.read_csv('../../data/mlops_stages/future_features.csv')\n",
    "\n",
    "# Convert date columns to datetime\n",
    "historical_data['Date'] = pd.to_datetime(historical_data['Date'])\n",
    "future_data['Date'] = pd.to_datetime(future_data['Date'])\n",
    "\n",
    "print(f\"Historical data: {historical_data.shape[0]} records from {historical_data['Date'].min()} to {historical_data['Date'].max()}\")\n",
    "print(f\"Future data: {future_data.shape[0]} records from {future_data['Date'].min()} to {future_data['Date'].max()}\")"
   ]
  },
  {
   "cell_type": "markdown",
   "metadata": {},
   "source": [
    "## 3. Simulate data arriving in weekly batches"
   ]
  },
  {
   "cell_type": "code",
   "execution_count": 5,
   "metadata": {},
   "outputs": [
    {
     "name": "stdout",
     "output_type": "stream",
     "text": [
      "Split future data into 19 batches\n",
      "Batch 1: 5 records from 2024-08-23 00:00:00+00:00 to 2024-08-29 00:00:00+00:00\n",
      "Batch 2: 4 records from 2024-08-30 00:00:00+00:00 to 2024-09-05 00:00:00+00:00\n",
      "Batch 3: 5 records from 2024-09-06 00:00:00+00:00 to 2024-09-12 00:00:00+00:00\n"
     ]
    }
   ],
   "source": [
    "def split_future_data_into_batches(future_data, batch_size_days=7):\n",
    "    \"\"\"Split future data into weekly batches to simulate new data arriving\"\"\"\n",
    "    # Sort by date\n",
    "    future_data = future_data.sort_values('Date')\n",
    "    \n",
    "    # Get the start date\n",
    "    start_date = future_data['Date'].min()\n",
    "    \n",
    "    # Create batches\n",
    "    batches = []\n",
    "    current_date = start_date\n",
    "    \n",
    "    while current_date <= future_data['Date'].max():\n",
    "        end_date = current_date + timedelta(days=batch_size_days)\n",
    "        batch = future_data[\n",
    "            (future_data['Date'] >= current_date) & \n",
    "            (future_data['Date'] < end_date)\n",
    "        ].copy()\n",
    "        \n",
    "        if not batch.empty:\n",
    "            batches.append(batch)\n",
    "        \n",
    "        current_date = end_date\n",
    "    \n",
    "    print(f\"Split future data into {len(batches)} batches\")\n",
    "    return batches\n",
    "\n",
    "# Split future data into weekly batches\n",
    "data_batches = split_future_data_into_batches(future_data)\n",
    "\n",
    "# Show info about the first few batches\n",
    "for i, batch in enumerate(data_batches[:3]):\n",
    "    print(f\"Batch {i+1}: {len(batch)} records from {batch['Date'].min()} to {batch['Date'].max()}\")"
   ]
  },
  {
   "cell_type": "markdown",
   "metadata": {},
   "source": [
    "## 4. Define functions for model evaluation and retraining"
   ]
  },
  {
   "cell_type": "code",
   "execution_count": 6,
   "metadata": {},
   "outputs": [],
   "source": [
    "def prepare_features_target(df):\n",
    "    \"\"\"Prepare features and target from DataFrame\"\"\"\n",
    "    # Define feature columns (exclude Date and target)\n",
    "    feature_cols = [col for col in df.columns if col not in ['Date', 'target']]\n",
    "    \n",
    "    # Extract features and target\n",
    "    X = df[feature_cols].values\n",
    "    y = df['target'].values\n",
    "    \n",
    "    return X, y, feature_cols\n",
    "\n",
    "def evaluate_model(model, data, threshold=20.0):\n",
    "    \"\"\"Evaluate model on new data and decide if retraining is needed\"\"\"\n",
    "    X, y, _ = prepare_features_target(data)\n",
    "    \n",
    "    # Make predictions\n",
    "    y_pred = model.predict(X)\n",
    "    \n",
    "    # Calculate metrics\n",
    "    rmse = np.sqrt(mean_squared_error(y, y_pred))\n",
    "    r2 = r2_score(y, y_pred)\n",
    "    \n",
    "    # Direction accuracy\n",
    "    y_direction = np.diff(y) > 0\n",
    "    y_pred_direction = np.diff(y_pred) > 0\n",
    "    dir_acc = np.mean(y_direction == y_pred_direction) if len(y) > 1 else 0\n",
    "    \n",
    "    # Decide if retraining needed (if RMSE exceeds threshold)\n",
    "    needs_retraining = rmse > threshold\n",
    "    \n",
    "    return {\n",
    "        'rmse': rmse,\n",
    "        'r2': r2,\n",
    "        'direction_accuracy': dir_acc,\n",
    "        'needs_retraining': needs_retraining\n",
    "    }\n",
    "\n",
    "def retrain_model(historical_data, new_data):\n",
    "    \"\"\"Retrain model with historical data + new data\"\"\"\n",
    "    # Combine historical and new data\n",
    "    combined_data = pd.concat([historical_data, new_data])\n",
    "    combined_data = combined_data.sort_values('Date').reset_index(drop=True)\n",
    "    \n",
    "    # Prepare training data\n",
    "    X_train, y_train, _ = prepare_features_target(combined_data)\n",
    "    \n",
    "    # Define model parameters (same as our original model)\n",
    "    params = {\n",
    "        'objective': 'reg:squarederror',\n",
    "        'learning_rate': 0.1,\n",
    "        'max_depth': 5,\n",
    "        'n_estimators': 100,\n",
    "        'subsample': 0.4,\n",
    "        'colsample_bytree': 0.8,\n",
    "        'seed': 42\n",
    "    }\n",
    "    \n",
    "    # Train new model\n",
    "    new_model = xgb.XGBRegressor(**params)\n",
    "    new_model.fit(X_train, y_train)\n",
    "    \n",
    "    return new_model, combined_data"
   ]
  },
  {
   "cell_type": "markdown",
   "metadata": {},
   "source": [
    "## 5. Simulate production deployment with retraining"
   ]
  },
  {
   "cell_type": "code",
   "execution_count": 7,
   "metadata": {},
   "outputs": [],
   "source": [
    "def log_model_to_registry(model, data, metrics, version):\n",
    "    \"\"\"Log model to MLflow model registry\"\"\"\n",
    "    with mlflow.start_run(run_name=f\"retrained_model_v{version}\") as run:\n",
    "        # Log parameters\n",
    "        mlflow.log_param(\"training_data_end_date\", data['Date'].max())\n",
    "        mlflow.log_param(\"data_size\", len(data))\n",
    "        mlflow.log_param(\"model_version\", version)\n",
    "        \n",
    "        # Log metrics\n",
    "        mlflow.log_metric(\"rmse\", metrics['rmse'])\n",
    "        mlflow.log_metric(\"r2\", metrics['r2'])\n",
    "        mlflow.log_metric(\"direction_accuracy\", metrics['direction_accuracy'])\n",
    "        \n",
    "        # Set tags\n",
    "        mlflow.set_tag(\"model_stage\", \"Production\" if version > 1 else \"Staging\")\n",
    "        mlflow.set_tag(\"retrained\", \"True\")\n",
    "        \n",
    "        # Log model\n",
    "        mlflow.xgboost.log_model(\n",
    "            model, \n",
    "            f\"google_stock_model_v{version}\",\n",
    "            registered_model_name=\"google_stock_forecaster\",\n",
    "            model_format=\"json\"\n",
    "        )\n",
    "        \n",
    "        run_id = run.info.run_id\n",
    "        \n",
    "    return run_id"
   ]
  },
  {
   "cell_type": "code",
   "execution_count": 8,
   "metadata": {},
   "outputs": [
    {
     "name": "stderr",
     "output_type": "stream",
     "text": [
      "2025/02/19 16:01:19 WARNING mlflow.models.model: Model logged without a signature and input example. Please set `input_example` parameter when logging the model to auto infer the model signature.\n",
      "Registered model 'google_stock_forecaster' already exists. Creating a new version of this model...\n",
      "2025/02/19 16:01:19 INFO mlflow.store.model_registry.abstract_store: Waiting up to 300 seconds for model version to finish creation. Model name: google_stock_forecaster, version 4\n",
      "Created version '4' of model 'google_stock_forecaster'.\n"
     ]
    },
    {
     "name": "stdout",
     "output_type": "stream",
     "text": [
      "🏃 View run retrained_model_v1 at: http://localhost:5000/#/experiments/254540670382524557/runs/f5946b0850944474a0159bfcde75def6\n",
      "🧪 View experiment at: http://localhost:5000/#/experiments/254540670382524557\n",
      "\n",
      "Week 1: Processing data from 2024-08-23 00:00:00+00:00 to 2024-08-29 00:00:00+00:00\n",
      "  Current model (v1) performance on new data:\n",
      "  RMSE: $20.91\n",
      "  R²: -157.7448\n",
      "  Direction Accuracy: 0.00%\n",
      "  ✅ Model still performing well. No retraining needed.\n",
      "\n",
      "Week 2: Processing data from 2024-08-30 00:00:00+00:00 to 2024-09-05 00:00:00+00:00\n",
      "  Current model (v1) performance on new data:\n",
      "  RMSE: $18.52\n",
      "  R²: -25.9320\n",
      "  Direction Accuracy: 37.50%\n",
      "  ✅ Model still performing well. No retraining needed.\n",
      "\n",
      "Week 3: Processing data from 2024-09-06 00:00:00+00:00 to 2024-09-12 00:00:00+00:00\n",
      "  Current model (v1) performance on new data:\n",
      "  RMSE: $15.25\n",
      "  R²: -5.2561\n",
      "  Direction Accuracy: 38.46%\n",
      "  ✅ Model still performing well. No retraining needed.\n",
      "\n",
      "Week 4: Processing data from 2024-09-13 00:00:00+00:00 to 2024-09-19 00:00:00+00:00\n",
      "  Current model (v1) performance on new data:\n",
      "  RMSE: $15.01\n",
      "  R²: -6.8898\n",
      "  Direction Accuracy: 33.33%\n",
      "  ✅ Model still performing well. No retraining needed.\n",
      "\n",
      "Week 5: Processing data from 2024-09-20 00:00:00+00:00 to 2024-09-26 00:00:00+00:00\n",
      "  Current model (v1) performance on new data:\n",
      "  RMSE: $15.48\n",
      "  R²: -8.3777\n",
      "  Direction Accuracy: 34.78%\n",
      "  ✅ Model still performing well. No retraining needed.\n",
      "\n",
      "Week 6: Processing data from 2024-09-27 00:00:00+00:00 to 2024-10-03 00:00:00+00:00\n",
      "  Current model (v1) performance on new data:\n",
      "  RMSE: $16.71\n",
      "  R²: -9.1376\n",
      "  Direction Accuracy: 32.14%\n",
      "  ✅ Model still performing well. No retraining needed.\n",
      "\n",
      "Week 7: Processing data from 2024-10-04 00:00:00+00:00 to 2024-10-10 00:00:00+00:00\n",
      "  Current model (v1) performance on new data:\n",
      "  RMSE: $17.38\n",
      "  R²: -10.8472\n",
      "  Direction Accuracy: 36.36%\n",
      "  ✅ Model still performing well. No retraining needed.\n",
      "\n",
      "Week 8: Processing data from 2024-10-11 00:00:00+00:00 to 2024-10-17 00:00:00+00:00\n",
      "  Current model (v1) performance on new data:\n",
      "  RMSE: $18.02\n",
      "  R²: -12.6328\n",
      "  Direction Accuracy: 36.84%\n",
      "  ✅ Model still performing well. No retraining needed.\n",
      "\n",
      "Week 9: Processing data from 2024-10-18 00:00:00+00:00 to 2024-10-24 00:00:00+00:00\n",
      "  Current model (v1) performance on new data:\n",
      "  RMSE: $18.31\n",
      "  R²: -14.3751\n",
      "  Direction Accuracy: 39.53%\n",
      "  ✅ Model still performing well. No retraining needed.\n",
      "\n",
      "Week 10: Processing data from 2024-10-25 00:00:00+00:00 to 2024-10-31 00:00:00+00:00\n",
      "  Current model (v1) performance on new data:\n",
      "  RMSE: $19.17\n",
      "  R²: -12.8862\n",
      "  Direction Accuracy: 41.67%\n",
      "  ✅ Model still performing well. No retraining needed.\n",
      "\n",
      "Simulation completed after 10 weeks.\n"
     ]
    }
   ],
   "source": [
    "# Start our simulation\n",
    "current_model = current_model  # Our best model loaded earlier\n",
    "current_data = historical_data.copy()\n",
    "collected_data = []\n",
    "model_version = 1\n",
    "\n",
    "# Create a performance tracker\n",
    "performance_tracker = []\n",
    "\n",
    "# Register our initial model\n",
    "initial_metrics = evaluate_model(current_model, current_data)\n",
    "log_model_to_registry(current_model, current_data, initial_metrics, model_version)\n",
    "\n",
    "# Simulate new data arriving in batches\n",
    "for i, batch in enumerate(data_batches):\n",
    "    week_num = i + 1\n",
    "    print(f\"\\nWeek {week_num}: Processing data from {batch['Date'].min()} to {batch['Date'].max()}\")\n",
    "    \n",
    "    # Collect new data\n",
    "    collected_data.append(batch)\n",
    "    new_data = pd.concat(collected_data)\n",
    "    \n",
    "    # Evaluate current model on new data\n",
    "    metrics = evaluate_model(current_model, new_data)\n",
    "    performance_tracker.append({\n",
    "        'week': week_num,\n",
    "        'date': batch['Date'].max(),\n",
    "        'rmse': metrics['rmse'],\n",
    "        'r2': metrics['r2'],\n",
    "        'direction_accuracy': metrics['direction_accuracy'],\n",
    "        'model_version': model_version\n",
    "    })\n",
    "    \n",
    "    print(f\"  Current model (v{model_version}) performance on new data:\")\n",
    "    print(f\"  RMSE: ${metrics['rmse']:.2f}\")\n",
    "    print(f\"  R²: {metrics['r2']:.4f}\")\n",
    "    print(f\"  Direction Accuracy: {metrics['direction_accuracy']:.2%}\")\n",
    "    \n",
    "    # Check if retraining is needed\n",
    "    if metrics['needs_retraining'] and len(new_data) >= 20:  # Ensure we have enough new data\n",
    "        print(f\"  ⚠️ Model performance degraded! Retraining...\")\n",
    "        \n",
    "        # Retrain the model\n",
    "        model_version += 1\n",
    "        current_model, current_data = retrain_model(current_data, new_data)\n",
    "        \n",
    "        # Evaluate new model\n",
    "        new_metrics = evaluate_model(current_model, new_data)\n",
    "        print(f\"  New model (v{model_version}) performance:\")\n",
    "        print(f\"  RMSE: ${new_metrics['rmse']:.2f}\")\n",
    "        print(f\"  R²: {new_metrics['r2']:.4f}\")\n",
    "        print(f\"  Direction Accuracy: {new_metrics['direction_accuracy']:.2%}\")\n",
    "        \n",
    "        # Log the new model to MLflow\n",
    "        run_id = log_model_to_registry(current_model, current_data, new_metrics, model_version)\n",
    "        print(f\"  Registered new model version {model_version} (Run ID: {run_id})\")\n",
    "        \n",
    "        # Reset collected data after retraining\n",
    "        collected_data = []\n",
    "    else:\n",
    "        print(f\"  ✅ Model still performing well. No retraining needed.\")\n",
    "    \n",
    "    # For demo purposes, don't process all batches\n",
    "    if i >= 9:  # Process 10 weeks\n",
    "        print(\"\\nSimulation completed after 10 weeks.\")\n",
    "        break"
   ]
  },
  {
   "cell_type": "markdown",
   "metadata": {},
   "source": [
    "## 6. Visualize model performance over time"
   ]
  },
  {
   "cell_type": "code",
   "execution_count": 9,
   "metadata": {},
   "outputs": [
    {
     "data": {
      "image/png": "[encoded data removed]",
      "text/plain": [
       "<Figure size 1200x600 with 1 Axes>"
      ]
     },
     "metadata": {},
     "output_type": "display_data"
    }
   ],
   "source": [
    "# Convert tracker to DataFrame\n",
    "performance_df = pd.DataFrame(performance_tracker)\n",
    "\n",
    "# Highlight when model versions changed\n",
    "version_changes = performance_df['model_version'].diff().fillna(0) != 0\n",
    "\n",
    "# Plot RMSE over time\n",
    "plt.figure(figsize=(12, 6))\n",
    "plt.plot(performance_df['week'], performance_df['rmse'], marker='o', linewidth=2)\n",
    "\n",
    "# Add vertical lines when model was retrained\n",
    "for i, changed in enumerate(version_changes):\n",
    "    if changed and i > 0:\n",
    "        plt.axvline(x=performance_df['week'][i], color='red', linestyle='--', alpha=0.7)\n",
    "        plt.text(performance_df['week'][i]+0.1, plt.ylim()[1]*0.9, \n",
    "                 f\"Model v{performance_df['model_version'][i]}\", rotation=90)\n",
    "\n",
    "plt.title('Model Performance Over Time', fontsize=15)\n",
    "plt.xlabel('Week', fontsize=12)\n",
    "plt.ylabel('RMSE ($)', fontsize=12)\n",
    "plt.grid(True, alpha=0.3)\n",
    "plt.tight_layout()\n",
    "plt.show()"
   ]
  },
  {
   "cell_type": "markdown",
   "metadata": {},
   "source": [
    "## 7. Get model versions from MLflow Registry"
   ]
  },
  {
   "cell_type": "code",
   "execution_count": 10,
   "metadata": {},
   "outputs": [
    {
     "name": "stdout",
     "output_type": "stream",
     "text": [
      "Models in registry for 'google_stock_forecaster':\n",
      "  Version: 4, Created: 2025-02-19 16:01:19.512000\n",
      "  Run ID: f5946b0850944474a0159bfcde75def6\n",
      "  Status: READY, Stage: None\n",
      "\n",
      "  Version: 3, Created: 2025-02-19 15:59:29.737000\n",
      "  Run ID: 4097a476dac24a94a4edcca6f4602a78\n",
      "  Status: READY, Stage: None\n",
      "\n",
      "  Version: 2, Created: 2025-02-19 15:59:02.099000\n",
      "  Run ID: fc1803e26ec540fda2eb84a652e13c80\n",
      "  Status: READY, Stage: None\n",
      "\n",
      "  Version: 1, Created: 2025-02-19 15:55:03.213000\n",
      "  Run ID: fbc00ce92a3542918f2e4b0b2f42fa21\n",
      "  Status: READY, Stage: None\n",
      "\n"
     ]
    }
   ],
   "source": [
    "# Get registered model versions\n",
    "client = MlflowClient()\n",
    "model_name = \"google_stock_forecaster\"\n",
    "\n",
    "try:\n",
    "    model_versions = client.search_model_versions(f\"name='{model_name}'\")\n",
    "    \n",
    "    if model_versions:\n",
    "        print(f\"Models in registry for '{model_name}':\")\n",
    "        for mv in model_versions:\n",
    "            print(f\"  Version: {mv.version}, Created: {datetime.fromtimestamp(mv.creation_timestamp/1000)}\")\n",
    "            print(f\"  Run ID: {mv.run_id}\")\n",
    "            print(f\"  Status: {mv.status}, Stage: {mv.current_stage}\")\n",
    "            print()\n",
    "    else:\n",
    "        print(f\"No models found with name '{model_name}'\")\n",
    "except Exception as e:\n",
    "    print(f\"Error retrieving models: {e}\")"
   ]
  },
  {
   "cell_type": "markdown",
   "metadata": {},
   "source": [
    "## 8. (Optional) Promote the best model to production\n",
    "\n",
    "In a real-world scenario, you might want to manually review the model before promoting it to production."
   ]
  },
  {
   "cell_type": "code",
   "execution_count": 11,
   "metadata": {},
   "outputs": [
    {
     "name": "stdout",
     "output_type": "stream",
     "text": [
      "Best performing model: Version 1 with RMSE $15.01\n"
     ]
    }
   ],
   "source": [
    "# Find the model version with the lowest RMSE\n",
    "# (In a real scenario, you would review multiple metrics and possibly perform A/B testing)\n",
    "if len(performance_df) > 0:\n",
    "    best_version = performance_df.loc[performance_df['rmse'].idxmin(), 'model_version']\n",
    "    best_rmse = performance_df['rmse'].min()\n",
    "    \n",
    "    print(f\"Best performing model: Version {best_version} with RMSE ${best_rmse:.2f}\")\n",
    "    \n",
    "    # Uncomment to actually promote the model\n",
    "    # try:\n",
    "    #     client.transition_model_version_stage(\n",
    "    #         name=model_name,\n",
    "    #         version=int(best_version),\n",
    "    #         stage=\"Production\"\n",
    "    #     )\n",
    "    #     print(f\"Promoted model version {best_version} to Production\")\n",
    "    # except Exception as e:\n",
    "    #     print(f\"Error promoting model: {e}\")"
   ]
  },
  {
   "cell_type": "markdown",
   "metadata": {},
   "source": [
    "## 9. Summary: Key Concepts Learned\n",
    "\n",
    "In this lesson, we've learned how to:\n",
    "\n",
    "1. **Monitor model performance over time** - Tracking metrics like RMSE and directional accuracy  \n",
    "2. **Set up retraining triggers** - Defining thresholds that indicate when to retrain  \n",
    "3. **Automate the retraining process** - Creating a pipeline that retrains when needed  \n",
    "4. **Manage model versions** - Using MLflow's model registry to track versions  \n",
    "5. **Promote models to production** - Moving well-performing models to production  \n",
    "\n",
    "These concepts form the foundation of a robust MLOps system that can maintain model performance as data changes over time."
   ]
  }
 ],
 "metadata": {
  "kernelspec": {
   "display_name": ".venv",
   "language": "python",
   "name": "python3"
  },
  "language_info": {
   "codemirror_mode": {
    "name": "ipython",
    "version": 3
   },
   "file_extension": ".py",
   "mimetype": "text/x-python",
   "name": "python",
   "nbconvert_exporter": "python",
   "pygments_lexer": "ipython3",
   "version": "3.12.9"
  }
 },
 "nbformat": 4,
 "nbformat_minor": 4
}
