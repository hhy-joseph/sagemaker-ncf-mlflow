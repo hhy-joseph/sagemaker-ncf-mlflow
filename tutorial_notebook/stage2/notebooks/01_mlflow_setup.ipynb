{
 "cells": [
  {
   "cell_type": "markdown",
   "metadata": {},
   "source": [
    "# Stage 2 - Lesson 1: MLflow Setup\n",
    "\n",
    "## What is MLflow?\n",
    "\n",
    "MLflow is an open-source platform designed to manage the complete machine learning lifecycle. It provides tools for tracking experiments, packaging code into reproducible runs, and sharing and deploying models. MLflow addresses key challenges in machine learning development by providing:\n",
    "\n",
    "1. **Experiment Tracking**: Log parameters, metrics, artifacts, and models during training\n",
    "2. **Model Registry**: Version control for ML models with lifecycle stage transitions\n",
    "3. **Model Packaging**: Package models in various formats for deployment\n",
    "4. **Model Deployment**: Deploy models across various platforms\n",
    "\n",
    "## Why Use MLflow for Model Life Cycle/Time Series Forecasting?\n",
    "\n",
    "Time series forecasting presents unique challenges that make experiment tracking particularly valuable:\n",
    "\n",
    "1. **Temporal Dependencies**: Time series models rely on temporal features and windows that need careful tracking\n",
    "2. **Multiple Evaluation Periods**: We often evaluate on different time periods (validation sets)\n",
    "3. **Feature Engineering Complexity**: Time series features include lags, rolling statistics, and seasonality components\n",
    "4. **Hyperparameter Sensitivity**: Time series models can be highly sensitive to hyperparameters\n",
    "5. **Production Monitoring**: Time series models require continuous monitoring for drift\n",
    "\n",
    "## Importance of MLOps Tools in ML Engineering\n",
    "\n",
    "As machine learning projects move from experimentation to production, MLOps tools like MLflow become essential for:\n",
    "\n",
    "1. **Reproducibility**: Ensuring experiments can be reproduced exactly\n",
    "2. **Collaboration**: Allowing team members to share experiments, models, and results\n",
    "3. **Governance**: Maintaining audit trails for model development and deployment\n",
    "4. **Scalability**: Managing hundreds or thousands of experiments efficiently\n",
    "5. **Model Lifecycle Management**: Handling model versions from development to retirement\n",
    "6. **Compliance**: Meeting regulatory requirements for model documentation and validation\n",
    "\n",
    "Without proper MLOps tools, data scientists face challenges like:\n",
    "- Lost experiments and results\n",
    "- Difficulty comparing model versions\n",
    "- Inability to reproduce previous results\n",
    "- Poor collaboration and knowledge sharing\n",
    "- Manual, error-prone deployment processes\n",
    "\n",
    "In our Google stock price prediction project, MLflow will help us track experiments systematically, compare different feature engineering approaches, and manage model versions as we progress."
   ]
  },
  {
   "cell_type": "markdown",
   "metadata": {},
   "source": [
    "## Library Imports"
   ]
  },
  {
   "cell_type": "code",
   "execution_count": 1,
   "metadata": {},
   "outputs": [],
   "source": [
    "# !pip install -q mlflow"
   ]
  },
  {
   "cell_type": "code",
   "execution_count": 2,
   "metadata": {},
   "outputs": [],
   "source": [
    "# Core libraries\n",
    "import os\n",
    "import pandas as pd\n",
    "import numpy as np\n",
    "from datetime import datetime\n",
    "import matplotlib.pyplot as plt\n",
    "import seaborn as sns\n",
    "import joblib\n",
    "\n",
    "# MLflow\n",
    "import mlflow\n",
    "import mlflow.xgboost\n",
    "from mlflow.tracking import MlflowClient\n",
    "\n",
    "# Model related\n",
    "import xgboost as xgb\n",
    "from sklearn.metrics import mean_squared_error, mean_absolute_error, r2_score\n",
    "from sklearn.model_selection import train_test_split\n",
    "\n",
    "# Visualization settings\n",
    "sns.set_context(\"talk\")\n",
    "\n",
    "# Set random seed for reproducibility\n",
    "np.random.seed(42)\n",
    "\n",
    "import os \n",
    "if not os.path.exists(\"mlruns\"): \n",
    "    os.makedirs(\"mlruns\") \n",
    "if not os.path.exists(\"outputs\"): \n",
    "    os.makedirs(\"outputs\") "
   ]
  },
  {
   "cell_type": "markdown",
   "metadata": {},
   "source": [
    "## 1. Loading and Exploring Data"
   ]
  },
  {
   "cell_type": "markdown",
   "metadata": {},
   "source": [
    "#### What This Code Does\n",
    "- Splits your stock price dataset chronologically:\n",
    "  - First 90%: \"Historical data\" (for initial training)\n",
    "  - Last 10%: \"Future data\" (simulates new data arriving later)\n",
    "- Creates separate CSV files and a documentation README\n",
    "\n",
    "#### Why We Need This\n",
    "- **Real-world simulation**: Production models receive new data over time\n",
    "- **Time-aware validation**: Prevents data leakage from future to past\n",
    "- **MLOps practice**: Enables you to test monitoring and retraining workflows\n",
    "\n",
    "#### How You'll Use It\n",
    "- **Stage 1**: Train initial models on historical data only\n",
    "- **Stage 2**: Set up MLflow tracking and prepare for new data\n",
    "- **Stage 3**: Evaluate deployed models against \"future\" data\n",
    "\n",
    "This approach teaches proper time series handling while compressing months of real-world model lifecycle events into your course timeline."
   ]
  },
  {
   "cell_type": "code",
   "execution_count": 3,
   "metadata": {},
   "outputs": [
    {
     "name": "stdout",
     "output_type": "stream",
     "text": [
      "Loaded data with shape: (892, 305)\n",
      "Date range: 2021-06-16 00:00:00+00:00 to 2024-12-31 00:00:00+00:00\n",
      "\n",
      "Data split complete:\n",
      "Historical data: 802 records (89.9%)\n",
      "  Date range: 2021-06-16 00:00:00+00:00 to 2024-08-22 00:00:00+00:00\n",
      "Future data: 90 records (10.1%)\n",
      "  Date range: 2024-08-23 00:00:00+00:00 to 2024-12-31 00:00:00+00:00\n",
      "\n",
      "Files saved:\n",
      "  Historical data: ../../data/mlops_stages/historical_features.csv\n",
      "  Future data: ../../data/mlops_stages/future_features.csv\n",
      "  README: ../../data/mlops_stages/README.md\n"
     ]
    }
   ],
   "source": [
    "def split_data_for_mlops_stages():\n",
    "    \"\"\"\n",
    "    Load processed features data and split it into:\n",
    "    1. Historical data (90% of timeline)\n",
    "    2. Future data (latest 10% of timeline)\n",
    "    \n",
    "    This simulates having future data for MLOps stages 2 and 3 learning purposes.\n",
    "    \"\"\"\n",
    "    # Load the processed features\n",
    "    file_path = '../../data/processed_features.csv'\n",
    "    \n",
    "    if not os.path.exists(file_path):\n",
    "        print(f\"Error: File {file_path} not found!\")\n",
    "        return\n",
    "    \n",
    "    # Load data\n",
    "    df = pd.read_csv(file_path)\n",
    "    df['Date'] = pd.to_datetime(df['Date'])\n",
    "    print(f\"Loaded data with shape: {df.shape}\")\n",
    "    print(f\"Date range: {df['Date'].min()} to {df['Date'].max()}\")\n",
    "    \n",
    "    # Sort by date to ensure chronological order\n",
    "    df = df.sort_values('Date').reset_index(drop=True)\n",
    "    \n",
    "    # Calculate split point (90% historical, 10% future)\n",
    "    total_days = len(df)\n",
    "    split_idx = int(total_days * 0.9)\n",
    "    \n",
    "    # Split the data\n",
    "    historical_data = df.iloc[:split_idx].copy()\n",
    "    future_data = df.iloc[split_idx:].copy()\n",
    "    \n",
    "    print(f\"\\nData split complete:\")\n",
    "    print(f\"Historical data: {historical_data.shape[0]} records ({historical_data.shape[0]/total_days:.1%})\")\n",
    "    print(f\"  Date range: {historical_data['Date'].min()} to {historical_data['Date'].max()}\")\n",
    "    print(f\"Future data: {future_data.shape[0]} records ({future_data.shape[0]/total_days:.1%})\")\n",
    "    print(f\"  Date range: {future_data['Date'].min()} to {future_data['Date'].max()}\")\n",
    "    \n",
    "    # Save the split datasets\n",
    "    os.makedirs('../../data/mlops_stages', exist_ok=True)\n",
    "    historical_data.to_csv('../../data/mlops_stages/historical_features.csv', index=False)\n",
    "    future_data.to_csv('../../data/mlops_stages/future_features.csv', index=False)\n",
    "    \n",
    "    print(f\"\\nFiles saved:\")\n",
    "    print(f\"  Historical data: ../../data/mlops_stages/historical_features.csv\")\n",
    "    print(f\"  Future data: ../../data/mlops_stages/future_features.csv\")\n",
    "    \n",
    "    # Create a README file explaining the split\n",
    "    readme_content = f\"\"\"# Data Split for MLOps Stages\n",
    "\n",
    "## Overview\n",
    "This data has been split to simulate a real-world MLOps scenario:\n",
    "- **Historical data (90%)**: Used for initial model development (Stage 1)\n",
    "- **Future data (10%)**: Represents \"unseen\" future data for MLOps training (Stages 2-3)\n",
    "\n",
    "## Split Information\n",
    "- Original dataset: {total_days} trading days\n",
    "- Historical data: {historical_data.shape[0]} trading days ({historical_data.shape[0]/total_days:.1%})\n",
    "  - Date range: {historical_data['Date'].min()} to {historical_data['Date'].max()}\n",
    "- Future data: {future_data.shape[0]} trading days ({future_data.shape[0]/total_days:.1%})\n",
    "  - Date range: {future_data['Date'].min()} to {future_data['Date'].max()}\n",
    "\n",
    "## Usage Guidelines\n",
    "1. **Stage 1**: Use only historical_features.csv\n",
    "2. **Stage 2**: Use historical_features.csv for training, simulate \"new\" data arriving with future_features.csv\n",
    "3. **Stage 3**: Implement production pipeline using historical_features.csv, then validate using future_features.csv\n",
    "\n",
    "## Important Notes\n",
    "- Do not use future data for initial model training\n",
    "- Feature engineering should be consistent across both datasets\n",
    "- Use the future data to simulate real-world model performance evaluation\n",
    "\n",
    "Created on: {datetime.now().strftime('%Y-%m-%d')}\n",
    "\"\"\"\n",
    "    \n",
    "    with open('../../data/mlops_stages/README.md', 'w') as f:\n",
    "        f.write(readme_content)\n",
    "    \n",
    "    print(f\"  README: ../../data/mlops_stages/README.md\")\n",
    "    \n",
    "    return historical_data, future_data\n",
    "\n",
    "# Execute the function if running as main script\n",
    "historical_data, future_data = split_data_for_mlops_stages()"
   ]
  },
  {
   "cell_type": "markdown",
   "metadata": {},
   "source": [
    "## 2. Setting Up MLflow"
   ]
  },
  {
   "cell_type": "markdown",
   "metadata": {},
   "source": [
    "MLflow provides several components, but we'll focus primarily on two for our Google stock prediction project:\n",
    "\n",
    "1. **MLflow Tracking**: To log parameters, metrics, and artifacts during model training\n",
    "2. **MLflow Models**: To package our models for later deployment\n",
    "\n",
    "First, we'll configure MLflow to store tracking data locally in the `mlruns` directory. In a production setting, you might use a remote tracking server, but local storage works well for this tutorial.\n",
    "\n",
    "In your terminal, activate your virtual env, then start mlflow as the following:\n",
    "```\n",
    "cd tutorial_notebook/stage2/notebooks\n",
    "mlflow server --port 5000  \n",
    "```"
   ]
  },
  {
   "cell_type": "code",
   "execution_count": 4,
   "metadata": {},
   "outputs": [
    {
     "name": "stdout",
     "output_type": "stream",
     "text": [
      "Created new experiment: google_stock_prediction with ID: 791398403736460061\n"
     ]
    },
    {
     "data": {
      "text/plain": [
       "<Experiment: artifact_location='file:C:/Users/hohoy/OneDrive/Desktop/sagemaker-ncf-mlflow/tutorial_notebook/stage2/notebooks/../mlruns/google_stock_prediction', creation_time=1739945600274, experiment_id='791398403736460061', last_update_time=1739945600274, lifecycle_stage='active', name='google_stock_prediction', tags={}>"
      ]
     },
     "execution_count": 4,
     "metadata": {},
     "output_type": "execute_result"
    }
   ],
   "source": [
    "# Configure MLflow tracking URI\n",
    "# Using a local directory - in production, this might be a database URL\n",
    "mlflow_tracking_file = \"../mlruns\"\n",
    "mlflow.set_tracking_uri(\"http://localhost:5000\")\n",
    "\n",
    "# Create a new experiment for our Google stock prediction project\n",
    "experiment_name = \"google_stock_prediction\"\n",
    "\n",
    "# Create the experiment if it doesn't exist\n",
    "if mlflow.get_experiment_by_name(experiment_name) is None:\n",
    "    experiment_id = mlflow.create_experiment(\n",
    "        name=experiment_name,\n",
    "        artifact_location=os.path.join(mlflow_tracking_file, experiment_name)\n",
    "    )\n",
    "    print(f\"Created new experiment: {experiment_name} with ID: {experiment_id}\")\n",
    "else:\n",
    "    experiment_id = mlflow.get_experiment_by_name(experiment_name).experiment_id\n",
    "    print(f\"Using existing experiment: {experiment_name} with ID: {experiment_id}\")\n",
    "\n",
    "# Set the active experiment\n",
    "mlflow.set_experiment(experiment_name)"
   ]
  },
  {
   "cell_type": "markdown",
   "metadata": {},
   "source": [
    "## 3. Setting Up MLflow Tags and Metadata\n",
    "\n",
    "MLflow allows us to add tags to experiments and runs, which helps with organization and filtering. Let's define some useful tags for our time series forecasting project."
   ]
  },
  {
   "cell_type": "code",
   "execution_count": 5,
   "metadata": {},
   "outputs": [
    {
     "name": "stdout",
     "output_type": "stream",
     "text": [
      "Set 6 tags on experiment 791398403736460061\n"
     ]
    }
   ],
   "source": [
    "# Define standard tags for our experiment\n",
    "default_tags = {\n",
    "    \"project\": \"google_stock_prediction\",\n",
    "    \"data_source\": \"GOOGL 2020-2025\",\n",
    "    \"model_type\": \"time_series\",\n",
    "    \"target\": \"next_day_close\",\n",
    "    \"framework\": \"xgboost\",\n",
    "    \"stage\": \"development\"\n",
    "}\n",
    "\n",
    "# Function to set tags on the experiment\n",
    "def set_experiment_tags(experiment_id, tags):\n",
    "    client = MlflowClient()\n",
    "    for key, value in tags.items():\n",
    "        client.set_experiment_tag(experiment_id, key, value)\n",
    "    print(f\"Set {len(tags)} tags on experiment {experiment_id}\")\n",
    "\n",
    "# Apply tags to our experiment\n",
    "set_experiment_tags(experiment_id, default_tags)"
   ]
  },
  {
   "cell_type": "markdown",
   "metadata": {},
   "source": [
    "## 4. Creating Training and Validation Sets for Time Series\n",
    "\n",
    "For time series data, we need to be careful about how we split our data. Unlike traditional machine learning, we can't shuffle our data randomly because of temporal dependencies. Instead, we'll use time-based splits.\n",
    "\n",
    "We only split on historical_data.\n",
    "\n",
    "Unlike stage one, we do additional step here.\n",
    "\n",
    "We added a validation set and work as early stopping when training the model."
   ]
  },
  {
   "cell_type": "code",
   "execution_count": 6,
   "metadata": {},
   "outputs": [
    {
     "name": "stdout",
     "output_type": "stream",
     "text": [
      "Train period: 2021-06-16 00:00:00+00:00 to 2023-09-28 00:00:00+00:00 (576 days)\n",
      "Validation period: 2023-09-29 00:00:00+00:00 to 2024-01-02 00:00:00+00:00 (65 days)\n",
      "Test period: 2024-01-03 00:00:00+00:00 to 2024-08-22 00:00:00+00:00 (161 days)\n"
     ]
    }
   ],
   "source": [
    "def time_based_train_test_split(df, test_size=0.2, validation_size=0.1):\n",
    "    \"\"\"\n",
    "    Split time series data respecting temporal order.\n",
    "    Returns train, validation, and test sets.\n",
    "    \"\"\"\n",
    "    # Sort by date\n",
    "    df = df.sort_values('Date')\n",
    "    \n",
    "    # Calculate split indices\n",
    "    n = len(df)\n",
    "    test_idx = int(n * (1 - test_size))\n",
    "    val_idx = int(test_idx * (1 - validation_size))\n",
    "    \n",
    "    # Split the data\n",
    "    train_df = df.iloc[:val_idx].copy()\n",
    "    val_df = df.iloc[val_idx:test_idx].copy()\n",
    "    test_df = df.iloc[test_idx:].copy()\n",
    "    \n",
    "    print(f\"Train period: {train_df['Date'].min()} to {train_df['Date'].max()} ({len(train_df)} days)\")\n",
    "    print(f\"Validation period: {val_df['Date'].min()} to {val_df['Date'].max()} ({len(val_df)} days)\")\n",
    "    print(f\"Test period: {test_df['Date'].min()} to {test_df['Date'].max()} ({len(test_df)} days)\")\n",
    "    \n",
    "    return train_df, val_df, test_df\n",
    "\n",
    "# Split the data\n",
    "train_df, val_df, test_df = time_based_train_test_split(historical_data)"
   ]
  },
  {
   "cell_type": "markdown",
   "metadata": {},
   "source": [
    "Let's visualize our train/validation/test split to make sure it looks reasonable:"
   ]
  },
  {
   "cell_type": "code",
   "execution_count": 7,
   "metadata": {},
   "outputs": [
    {
     "data": {
      "image/png": "[encoded data removed]",
      "text/plain": [
       "<Figure size 1500x700 with 1 Axes>"
      ]
     },
     "metadata": {},
     "output_type": "display_data"
    }
   ],
   "source": [
    "def plot_time_series_split(train_df, val_df, test_df, target_col='target'):\n",
    "    plt.figure(figsize=(15, 7))\n",
    "    \n",
    "    # Plot each segment\n",
    "    plt.plot(train_df['Date'], train_df[target_col], label='Training', color='blue')\n",
    "    plt.plot(val_df['Date'], val_df[target_col], label='Validation', color='green')\n",
    "    plt.plot(test_df['Date'], test_df[target_col], label='Test', color='red')\n",
    "    \n",
    "    # Add vertical lines at split points\n",
    "    plt.axvline(x=val_df['Date'].min(), color='black', linestyle='--')\n",
    "    plt.axvline(x=test_df['Date'].min(), color='black', linestyle='--')\n",
    "    \n",
    "    plt.title('Time Series Train-Validation-Test Split', fontsize=15)\n",
    "    plt.xlabel('Date', fontsize=12)\n",
    "    plt.ylabel('Google Stock Price (USD)', fontsize=12)\n",
    "    plt.legend(fontsize=12)\n",
    "    plt.xticks(rotation=45)\n",
    "    plt.tight_layout()\n",
    "    plt.grid(True, alpha=0.3)\n",
    "    plt.show()\n",
    "\n",
    "# Plot the split\n",
    "plot_time_series_split(train_df, val_df, test_df)"
   ]
  },
  {
   "cell_type": "markdown",
   "metadata": {},
   "source": [
    "## 5. Your First MLflow Run\n",
    "\n",
    "Now let's create a simple MLflow run to log some basic information. This will help us understand how MLflow tracking works."
   ]
  },
  {
   "cell_type": "code",
   "execution_count": 8,
   "metadata": {},
   "outputs": [
    {
     "name": "stdout",
     "output_type": "stream",
     "text": [
      "Completed run with ID: 5e029d20b7ba4a9cbc9529ee5bc29250\n",
      "🏃 View run first_run at: http://localhost:5000/#/experiments/791398403736460061/runs/5e029d20b7ba4a9cbc9529ee5bc29250\n",
      "🧪 View experiment at: http://localhost:5000/#/experiments/791398403736460061\n"
     ]
    }
   ],
   "source": [
    "# Start an MLflow run\n",
    "with mlflow.start_run(run_name=\"first_run\") as run:\n",
    "    # Log parameters\n",
    "    mlflow.log_param(\"train_size\", len(train_df))\n",
    "    mlflow.log_param(\"val_size\", len(val_df))\n",
    "    mlflow.log_param(\"test_size\", len(test_df))\n",
    "    mlflow.log_param(\"train_start_date\", train_df['Date'].min())\n",
    "    mlflow.log_param(\"train_end_date\", train_df['Date'].max())\n",
    "    \n",
    "    # Log tags\n",
    "    mlflow.set_tag(\"data_version\", \"v1\")\n",
    "    mlflow.set_tag(\"description\", \"Initial exploration\")\n",
    "    \n",
    "    # Log metrics (even simple statistics count as metrics)\n",
    "    mlflow.log_metric(\"mean_price\", train_df['target'].mean())\n",
    "    mlflow.log_metric(\"median_price\", train_df['target'].median())\n",
    "    mlflow.log_metric(\"price_std\", train_df['target'].std())\n",
    "    \n",
    "    # Create a simple plot to log as an artifact\n",
    "    plt.figure(figsize=(10, 6))\n",
    "    plt.plot(train_df['Date'], train_df['target'])\n",
    "    plt.title('Google Stock Price Training Data')\n",
    "    plt.xlabel('Date')\n",
    "    plt.ylabel('Price (USD)')\n",
    "    plt.grid(True, alpha=0.3)\n",
    "    plt.tight_layout()\n",
    "    \n",
    "    # Save the figure\n",
    "    plt.savefig(\"outputs/train_price_plot.png\")\n",
    "    plt.close()\n",
    "    \n",
    "    # Log the saved figure as an artifact\n",
    "    mlflow.log_artifact(\"outputs/train_price_plot.png\")\n",
    "    \n",
    "    # Get run ID for reference\n",
    "    run_id = run.info.run_id\n",
    "    print(f\"Completed run with ID: {run_id}\")"
   ]
  },
  {
   "cell_type": "markdown",
   "metadata": {},
   "source": [
    "## 6. Using MLflow to Track a Simple Model Training\n",
    "\n",
    "Let's train a basic XGBoost model and use MLflow to track its performance."
   ]
  },
  {
   "cell_type": "code",
   "execution_count": 9,
   "metadata": {},
   "outputs": [
    {
     "name": "stdout",
     "output_type": "stream",
     "text": [
      "Training with 303 features and 576 samples\n"
     ]
    }
   ],
   "source": [
    "def prepare_features_target(df):\n",
    "    \"\"\"Prepare features and target for model training\"\"\"\n",
    "    # Define feature columns (exclude Date and target)\n",
    "    feature_cols = [col for col in df.columns if col not in ['Date', 'target']]\n",
    "    \n",
    "    # Extract features and target\n",
    "    X = df[feature_cols].values\n",
    "    y = df['target'].values\n",
    "    \n",
    "    return X, y, feature_cols\n",
    "\n",
    "# Prepare data for modeling\n",
    "X_train, y_train, features = prepare_features_target(train_df)\n",
    "X_val, y_val, _ = prepare_features_target(val_df)\n",
    "X_test, y_test, _ = prepare_features_target(test_df)\n",
    "\n",
    "print(f\"Training with {X_train.shape[1]} features and {X_train.shape[0]} samples\")"
   ]
  },
  {
   "cell_type": "code",
   "execution_count": 10,
   "metadata": {},
   "outputs": [
    {
     "name": "stdout",
     "output_type": "stream",
     "text": [
      "Model training completed. Run ID: e622573fe1ab47499a65bd721e778871\n",
      "\n",
      "Model Performance:\n",
      "  Train RMSE: $1.29\n",
      "  Validation RMSE: $3.00\n",
      "  Test RMSE: $22.57\n",
      "🏃 View run simple_xgboost_model at: http://localhost:5000/#/experiments/791398403736460061/runs/e622573fe1ab47499a65bd721e778871\n",
      "🧪 View experiment at: http://localhost:5000/#/experiments/791398403736460061\n"
     ]
    }
   ],
   "source": [
    "# Define model parameters\n",
    "params = {\n",
    "    'objective': 'reg:squarederror',\n",
    "    'learning_rate': 0.1,\n",
    "    'max_depth': 5,\n",
    "    'n_estimators': 100,\n",
    "    'subsample': 0.4,\n",
    "    'colsample_bytree': 0.8,\n",
    "    'seed': 42,\n",
    "    'early_stopping_rounds': 20,\n",
    "}\n",
    "\n",
    "# Start an MLflow run for model training\n",
    "with mlflow.start_run(run_name=\"simple_xgboost_model\") as run:\n",
    "    # Log model parameters\n",
    "    for param, value in params.items():\n",
    "        mlflow.log_param(param, value)\n",
    "    \n",
    "    # Set relevant tags\n",
    "    mlflow.set_tag(\"model_type\", \"xgboost\")\n",
    "    mlflow.set_tag(\"purpose\", \"baseline\")\n",
    "    \n",
    "    # Train the model\n",
    "    model = xgb.XGBRegressor(**params)\n",
    "    model.fit(\n",
    "        X_train, y_train,\n",
    "        eval_set=[(X_val, y_val)],\n",
    "        verbose=False\n",
    "    )\n",
    "    \n",
    "    # Make predictions\n",
    "    y_train_pred = model.predict(X_train)\n",
    "    y_val_pred = model.predict(X_val)\n",
    "    y_test_pred = model.predict(X_test)\n",
    "    \n",
    "    # Calculate metrics\n",
    "    train_rmse = np.sqrt(mean_squared_error(y_train, y_train_pred))\n",
    "    val_rmse = np.sqrt(mean_squared_error(y_val, y_val_pred))\n",
    "    test_rmse = np.sqrt(mean_squared_error(y_test, y_test_pred))\n",
    "    \n",
    "    train_r2 = r2_score(y_train, y_train_pred)\n",
    "    val_r2 = r2_score(y_val, y_val_pred)\n",
    "    test_r2 = r2_score(y_test, y_test_pred)\n",
    "    \n",
    "    # Log metrics\n",
    "    mlflow.log_metric(\"train_rmse\", train_rmse)\n",
    "    mlflow.log_metric(\"val_rmse\", val_rmse)\n",
    "    mlflow.log_metric(\"test_rmse\", test_rmse)\n",
    "    mlflow.log_metric(\"train_r2\", train_r2)\n",
    "    mlflow.log_metric(\"val_r2\", val_r2)\n",
    "    mlflow.log_metric(\"test_r2\", test_r2)\n",
    "    \n",
    "    # Create and log a simple prediction plot\n",
    "    plt.figure(figsize=(12, 6))\n",
    "    plt.plot(test_df['Date'], y_test, label='Actual', color='blue')\n",
    "    plt.plot(test_df['Date'], y_test_pred, label='Predicted', color='red', alpha=0.7)\n",
    "    plt.title('Test Set: Actual vs Predicted Stock Price')\n",
    "    plt.xlabel('Date')\n",
    "    plt.ylabel('Price (USD)')\n",
    "    plt.legend()\n",
    "    plt.grid(True, alpha=0.3)\n",
    "    plt.tight_layout()\n",
    "    plt.savefig(\"outputs/test_predictions.png\")\n",
    "    plt.close()\n",
    "    \n",
    "    # Log the plot as an artifact\n",
    "    mlflow.log_artifact(\"outputs/test_predictions.png\", \"plots\")\n",
    "    \n",
    "    # Create model signature\n",
    "    from mlflow.models.signature import infer_signature\n",
    "    signature = infer_signature(X_train, y_train_pred)\n",
    "    \n",
    "    # Provide input example\n",
    "    input_example = X_train[:4]\n",
    "    \n",
    "    # Log the model with signature and input example\n",
    "    mlflow.xgboost.log_model(\n",
    "        model, \n",
    "        \"xgboost_model\",\n",
    "        signature=signature,\n",
    "        input_example=input_example,\n",
    "        model_format=\"json\"\n",
    "    )\n",
    "    \n",
    "    # Get run ID for reference\n",
    "    run_id = run.info.run_id\n",
    "    print(f\"Model training completed. Run ID: {run_id}\")\n",
    "    print(f\"\\nModel Performance:\")\n",
    "    print(f\"  Train RMSE: ${train_rmse:.2f}\")\n",
    "    print(f\"  Validation RMSE: ${val_rmse:.2f}\")\n",
    "    print(f\"  Test RMSE: ${test_rmse:.2f}\")"
   ]
  },
  {
   "cell_type": "markdown",
   "metadata": {},
   "source": [
    "## 7. Exploring Your MLflow Runs\n",
    "\n",
    "Let's look at how to retrieve and examine our MLflow runs."
   ]
  },
  {
   "cell_type": "code",
   "execution_count": 11,
   "metadata": {},
   "outputs": [
    {
     "data": {
      "text/html": [
       "<div>\n",
       "<style scoped>\n",
       "    .dataframe tbody tr th:only-of-type {\n",
       "        vertical-align: middle;\n",
       "    }\n",
       "\n",
       "    .dataframe tbody tr th {\n",
       "        vertical-align: top;\n",
       "    }\n",
       "\n",
       "    .dataframe thead th {\n",
       "        text-align: right;\n",
       "    }\n",
       "</style>\n",
       "<table border=\"1\" class=\"dataframe\">\n",
       "  <thead>\n",
       "    <tr style=\"text-align: right;\">\n",
       "      <th></th>\n",
       "      <th>run_id</th>\n",
       "      <th>run_name</th>\n",
       "      <th>status</th>\n",
       "      <th>start_time</th>\n",
       "      <th>test_rmse</th>\n",
       "      <th>test_r2</th>\n",
       "    </tr>\n",
       "  </thead>\n",
       "  <tbody>\n",
       "    <tr>\n",
       "      <th>0</th>\n",
       "      <td>e622573fe1ab47499a65bd721e778871</td>\n",
       "      <td>simple_xgboost_model</td>\n",
       "      <td>FINISHED</td>\n",
       "      <td>2025-02-19 14:13:21</td>\n",
       "      <td>22.570971</td>\n",
       "      <td>-1.046365</td>\n",
       "    </tr>\n",
       "    <tr>\n",
       "      <th>1</th>\n",
       "      <td>5e029d20b7ba4a9cbc9529ee5bc29250</td>\n",
       "      <td>first_run</td>\n",
       "      <td>FINISHED</td>\n",
       "      <td>2025-02-19 14:13:21</td>\n",
       "      <td>NaN</td>\n",
       "      <td>NaN</td>\n",
       "    </tr>\n",
       "  </tbody>\n",
       "</table>\n",
       "</div>"
      ],
      "text/plain": [
       "                             run_id              run_name    status  \\\n",
       "0  e622573fe1ab47499a65bd721e778871  simple_xgboost_model  FINISHED   \n",
       "1  5e029d20b7ba4a9cbc9529ee5bc29250             first_run  FINISHED   \n",
       "\n",
       "            start_time  test_rmse   test_r2  \n",
       "0  2025-02-19 14:13:21  22.570971 -1.046365  \n",
       "1  2025-02-19 14:13:21        NaN       NaN  "
      ]
     },
     "metadata": {},
     "output_type": "display_data"
    }
   ],
   "source": [
    "# Get information about all runs in our experiment\n",
    "client = MlflowClient()\n",
    "\n",
    "# Search for runs in our experiment\n",
    "runs = client.search_runs(\n",
    "    experiment_ids=[experiment_id],\n",
    "    max_results=100\n",
    ")\n",
    "\n",
    "# Display run information\n",
    "if runs:\n",
    "    # Convert to dataframe for better display\n",
    "    runs_data = []\n",
    "    for run in runs:\n",
    "        run_data = {\n",
    "            \"run_id\": run.info.run_id,\n",
    "            \"run_name\": run.data.tags.get(\"mlflow.runName\", \"[unnamed]\"),\n",
    "            \"status\": run.info.status,\n",
    "            \"start_time\": datetime.fromtimestamp(run.info.start_time/1000).strftime('%Y-%m-%d %H:%M:%S'),\n",
    "        }\n",
    "        \n",
    "        # Add metrics if they exist\n",
    "        if \"test_rmse\" in run.data.metrics:\n",
    "            run_data[\"test_rmse\"] = run.data.metrics[\"test_rmse\"]\n",
    "        if \"test_r2\" in run.data.metrics:\n",
    "            run_data[\"test_r2\"] = run.data.metrics[\"test_r2\"]\n",
    "            \n",
    "        runs_data.append(run_data)\n",
    "    \n",
    "    runs_df = pd.DataFrame(runs_data)\n",
    "    display(runs_df)\n",
    "else:\n",
    "    print(\"No runs found in this experiment\")"
   ]
  },
  {
   "cell_type": "markdown",
   "metadata": {},
   "source": [
    "## 8. Loading a Model from MLflow\n",
    "\n",
    "One of the key benefits of MLflow is that it allows you to easily load saved models."
   ]
  },
  {
   "cell_type": "code",
   "execution_count": 12,
   "metadata": {},
   "outputs": [
    {
     "name": "stdout",
     "output_type": "stream",
     "text": [
      "Successfully loaded model from run: e622573fe1ab47499a65bd721e778871\n",
      "\n",
      "Sample predictions: [136.70418 138.09763 133.13115]\n",
      "Actual values: [138.9199982 136.3899994 135.7299957]\n"
     ]
    }
   ],
   "source": [
    "# Let's load our model from the latest run\n",
    "if runs:\n",
    "    # Get the run ID with the model\n",
    "    latest_model_run_id = [run.info.run_id for run in runs \n",
    "                      if run.data.tags.get(\"mlflow.runName\") == \"simple_xgboost_model\"][0]\n",
    "    \n",
    "    # Construct the model URI\n",
    "    model_uri = f\"runs:/{latest_model_run_id}/xgboost_model\"\n",
    "    \n",
    "    # Load the model\n",
    "    loaded_model = mlflow.xgboost.load_model(model_uri)\n",
    "    print(f\"Successfully loaded model from run: {latest_model_run_id}\")\n",
    "    \n",
    "    # Make a sample prediction to verify it works\n",
    "    sample_pred = loaded_model.predict(X_test[:3])\n",
    "    print(f\"\\nSample predictions: {sample_pred}\")\n",
    "    print(f\"Actual values: {y_test[:3]}\")\n",
    "else:\n",
    "    print(\"No runs found with models to load\")"
   ]
  },
  {
   "cell_type": "markdown",
   "metadata": {},
   "source": [
    "## 9. Organizing MLflow Experiments\n",
    "\n",
    "As your project grows, you'll want to organize experiments by purpose. Let's create additional experiments for different aspects of our modeling process."
   ]
  },
  {
   "cell_type": "code",
   "execution_count": 13,
   "metadata": {},
   "outputs": [
    {
     "name": "stdout",
     "output_type": "stream",
     "text": [
      "Created new experiment: google_stock_feature_engineering with ID: 866255455360708975\n",
      "Created new experiment: google_stock_model_optimization with ID: 411132893485505118\n",
      "Created new experiment: google_stock_model_registry with ID: 481615501224794552\n"
     ]
    }
   ],
   "source": [
    "# Create experiments for different purposes\n",
    "experiment_names = [\n",
    "    \"google_stock_feature_engineering\",  # For tracking feature creation and selection\n",
    "    \"google_stock_model_optimization\",   # For hyperparameter tuning\n",
    "    \"google_stock_model_registry\"        # For production models\n",
    "]\n",
    "\n",
    "for name in experiment_names:\n",
    "    if mlflow.get_experiment_by_name(name) is None:\n",
    "        experiment_id = mlflow.create_experiment(\n",
    "            name=name,\n",
    "            artifact_location=os.path.join(mlflow_tracking_file, name.replace(\" \", \"_\"))\n",
    "        )\n",
    "        print(f\"Created new experiment: {name} with ID: {experiment_id}\")\n",
    "    else:\n",
    "        experiment_id = mlflow.get_experiment_by_name(name).experiment_id\n",
    "        print(f\"Experiment already exists: {name} with ID: {experiment_id}\")"
   ]
  },
  {
   "cell_type": "markdown",
   "metadata": {},
   "source": [
    "## 10. Best Practices for MLflow with Time Series\n",
    "\n",
    "Here are some best practices specific to time series projects:"
   ]
  },
  {
   "cell_type": "markdown",
   "metadata": {},
   "source": [
    "### 1. Log Time Windows\n",
    "\n",
    "Always log the time ranges for your training, validation, and test sets. This is crucial for time series because performance can vary dramatically across different time periods."
   ]
  },
  {
   "cell_type": "code",
   "execution_count": 14,
   "metadata": {},
   "outputs": [
    {
     "name": "stdout",
     "output_type": "stream",
     "text": [
      "Logged time window information in run: 109110ed927f42fbaccc18b78faa4374\n",
      "🏃 View run time_window_example at: http://localhost:5000/#/experiments/791398403736460061/runs/109110ed927f42fbaccc18b78faa4374\n",
      "🧪 View experiment at: http://localhost:5000/#/experiments/791398403736460061\n"
     ]
    }
   ],
   "source": [
    "# Example of logging time windows\n",
    "with mlflow.start_run(run_name=\"time_window_example\") as run:\n",
    "    # Log time windows as parameters\n",
    "    mlflow.log_param(\"train_start_date\", train_df['Date'].min())\n",
    "    mlflow.log_param(\"train_end_date\", train_df['Date'].max())\n",
    "    mlflow.log_param(\"val_start_date\", val_df['Date'].min())\n",
    "    mlflow.log_param(\"val_end_date\", val_df['Date'].max())\n",
    "    mlflow.log_param(\"test_start_date\", test_df['Date'].min())\n",
    "    mlflow.log_param(\"test_end_date\", test_df['Date'].max())\n",
    "    \n",
    "    # Set a tag for evaluation type\n",
    "    mlflow.set_tag(\"evaluation_type\", \"walk_forward\")\n",
    "    \n",
    "    print(f\"Logged time window information in run: {run.info.run_id}\")"
   ]
  },
  {
   "cell_type": "markdown",
   "metadata": {},
   "source": [
    "### 2. Track Feature Engineering Steps\n",
    "\n",
    "Feature engineering is especially important for time series. Log your feature creation process."
   ]
  },
  {
   "cell_type": "code",
   "execution_count": 15,
   "metadata": {},
   "outputs": [
    {
     "name": "stdout",
     "output_type": "stream",
     "text": [
      "Logged feature engineering information in run: 01659ce3c037444f82ba75a299608670\n",
      "🏃 View run lag_features at: http://localhost:5000/#/experiments/866255455360708975/runs/01659ce3c037444f82ba75a299608670\n",
      "🧪 View experiment at: http://localhost:5000/#/experiments/866255455360708975\n"
     ]
    }
   ],
   "source": [
    "# Example of tracking feature engineering\n",
    "mlflow.set_experiment(\"google_stock_feature_engineering\")\n",
    "\n",
    "with mlflow.start_run(run_name=\"lag_features\") as run:\n",
    "    # Log feature parameters\n",
    "    mlflow.log_param(\"max_lag\", 365)\n",
    "    mlflow.log_param(\"use_price_lags\", True)\n",
    "    mlflow.log_param(\"use_volume_lags\", True)\n",
    "    \n",
    "    # Log metrics about features\n",
    "    num_features = len([col for col in historical_data.columns \n",
    "                         if col not in ['Date', 'target']])\n",
    "    mlflow.log_metric(\"num_features\", num_features)\n",
    "    \n",
    "    # Set descriptive tags\n",
    "    mlflow.set_tag(\"feature_type\", \"lag_based\")\n",
    "    mlflow.set_tag(\"feature_version\", \"v1\")\n",
    "    \n",
    "    # Create and log a sample feature list\n",
    "    lag_features = [col for col in historical_data.columns if '_lag_' in col]\n",
    "    with open(\"outputs/lag_feature_list.txt\", \"w\") as f:\n",
    "        f.write(\"\\n\".join(lag_features[:10]))\n",
    "    \n",
    "    mlflow.log_artifact(\"outputs/lag_feature_list.txt\")\n",
    "    \n",
    "    print(f\"Logged feature engineering information in run: {run.info.run_id}\")"
   ]
  },
  {
   "cell_type": "markdown",
   "metadata": {},
   "source": [
    "### 3. Use Time Series Specific Metrics\n",
    "\n",
    "Track metrics that matter for time series, like direction accuracy (how often we correctly predict up/down movement)."
   ]
  },
  {
   "cell_type": "code",
   "execution_count": 16,
   "metadata": {},
   "outputs": [
    {
     "name": "stdout",
     "output_type": "stream",
     "text": [
      "Test set direction accuracy: 49.38%\n",
      "Logged time series specific metrics in run: 62d8857bd9544ba6899d94e47829bea2\n",
      "🏃 View run ts_specific_metrics at: http://localhost:5000/#/experiments/791398403736460061/runs/62d8857bd9544ba6899d94e47829bea2\n",
      "🧪 View experiment at: http://localhost:5000/#/experiments/791398403736460061\n"
     ]
    }
   ],
   "source": [
    "def calculate_direction_accuracy(y_true, y_pred):\n",
    "    \"\"\"Calculate how often we correctly predict price movement direction\"\"\"\n",
    "    # Create arrays of price changes\n",
    "    y_true_direction = np.diff(y_true) > 0  # True if price went up\n",
    "    y_pred_direction = np.diff(y_pred) > 0  # True if we predicted price would go up\n",
    "    \n",
    "    # Calculate accuracy\n",
    "    accuracy = np.mean(y_true_direction == y_pred_direction)\n",
    "    return accuracy\n",
    "\n",
    "# Return to our main experiment\n",
    "mlflow.set_experiment(\"google_stock_prediction\")\n",
    "\n",
    "with mlflow.start_run(run_name=\"ts_specific_metrics\") as run:\n",
    "    # Use our previously loaded model to make predictions\n",
    "    if 'loaded_model' in locals():\n",
    "        # Make predictions\n",
    "        y_train_pred = loaded_model.predict(X_train)\n",
    "        y_val_pred = loaded_model.predict(X_val)\n",
    "        y_test_pred = loaded_model.predict(X_test)\n",
    "        \n",
    "        # Calculate direction accuracy\n",
    "        train_dir_acc = calculate_direction_accuracy(y_train, y_train_pred)\n",
    "        val_dir_acc = calculate_direction_accuracy(y_val, y_val_pred)\n",
    "        test_dir_acc = calculate_direction_accuracy(y_test, y_test_pred)\n",
    "        \n",
    "        # Log these metrics\n",
    "        mlflow.log_metric(\"train_direction_accuracy\", train_dir_acc)\n",
    "        mlflow.log_metric(\"val_direction_accuracy\", val_dir_acc)\n",
    "        mlflow.log_metric(\"test_direction_accuracy\", test_dir_acc)\n",
    "        \n",
    "        print(f\"Test set direction accuracy: {test_dir_acc:.2%}\")\n",
    "        print(f\"Logged time series specific metrics in run: {run.info.run_id}\")\n",
    "    else:\n",
    "        print(\"No model available for metric calculation\")"
   ]
  },
  {
   "cell_type": "markdown",
   "metadata": {},
   "source": [
    "## 11. Summary and Next Steps\n",
    "\n",
    "In this lesson, we've set up MLflow for our time series forecasting project and learned the basics of experiment tracking. Here's what we covered:\n",
    "\n",
    "1. **MLflow Setup**: Configured MLflow to track experiments locally\n",
    "2. **Data Preparation**: Split our data chronologically for time series modeling\n",
    "3. **Basic Logging**: Created runs to track parameters, metrics, and artifacts\n",
    "4. **Model Tracking**: Trained and logged a simple XGBoost model\n",
    "5. **Model Loading**: Loaded a model from MLflow for inference\n",
    "6. **Experiment Organization**: Created separate experiments for different project phases\n",
    "7. **Time Series Best Practices**: Learned specific approaches for time series projects\n",
    "\n",
    "### Next Steps\n",
    "\n",
    "In the upcoming lessons, we'll build on this foundation:\n",
    "\n",
    "- **Lesson 2: MLflow Feature Engineering** - Track and compare different feature sets\n",
    "- **Lesson 3: Model Registry and Versioning** - Manage model lifecycle with MLflow\n",
    "- **Lesson 4: Automated Backtesting** - Create backtesting pipelines with MLflow tracking\n",
    "- **Lesson 5: Retraining with New Data** - Implement continuous retraining workflows\n",
    "\n",
    "MLflow will help us maintain reproducibility and organization as our stock price prediction project grows in complexity."
   ]
  },
  {
   "cell_type": "markdown",
   "metadata": {},
   "source": []
  }
 ],
 "metadata": {
  "kernelspec": {
   "display_name": "Python 3",
   "language": "python",
   "name": "python3"
  },
  "language_info": {
   "codemirror_mode": {
    "name": "ipython",
    "version": 3
   },
   "file_extension": ".py",
   "mimetype": "text/x-python",
   "name": "python",
   "nbconvert_exporter": "python",
   "pygments_lexer": "ipython3",
   "version": "3.8.0"
  }
 },
 "nbformat": 4,
 "nbformat_minor": 4
}
