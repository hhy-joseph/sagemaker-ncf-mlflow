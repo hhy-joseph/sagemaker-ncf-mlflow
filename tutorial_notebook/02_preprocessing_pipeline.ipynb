{
 "cells": [
  {
   "cell_type": "markdown",
   "metadata": {},
   "source": [
    "# Data Preprocessing Pipeline with SageMaker Local Mode\n",
    "\n",
    "This notebook implements a data preprocessing pipeline for our tourism recommendation system using SageMaker local mode. We'll create a container that handles data validation, cleaning, and feature engineering.\n",
    "\n",
    "## Data Source\n",
    "\n",
    "\n",
    "[Cultural Tourism Dataset in Kaggle](https://www.kaggle.com/datasets/ziya07/cultural-tourism-dataset)\n",
    "\n",
    "Please down the data as csv and save into data dir.\n",
    "\n",
    "## Pipeline Overview\n",
    "1. Data Validation\n",
    "2. Data Cleaning\n",
    "3. Feature Engineering\n",
    "4. Data Splitting\n",
    "5. Quality Checks"
   ]
  },
  {
   "cell_type": "markdown",
   "metadata": {},
   "source": [
    "## Setup and Imports"
   ]
  },
  {
   "cell_type": "code",
   "execution_count": 1,
   "metadata": {},
   "outputs": [
    {
     "name": "stderr",
     "output_type": "stream",
     "text": [
      "c:\\Users\\hohoy\\OneDrive\\Desktop\\sagemaker-ncf-mlflow\\.venv\\Lib\\site-packages\\pydantic\\_internal\\_fields.py:192: UserWarning: Field name \"json\" in \"MonitoringDatasetFormat\" shadows an attribute in parent \"Base\"\n",
      "  warnings.warn(\n"
     ]
    },
    {
     "data": {
      "text/html": [
       "<pre style=\"white-space:pre;overflow-x:auto;line-height:normal;font-family:Menlo,'DejaVu Sans Mono',consolas,'Courier New',monospace\"><span style=\"color: #7fbfbf; text-decoration-color: #7fbfbf\">[02/16/25 21:54:34] </span><span style=\"color: #0069ff; text-decoration-color: #0069ff; font-weight: bold\">INFO    </span> Found credentials in shared credentials file: ~<span style=\"color: #e100e1; text-decoration-color: #e100e1\">/.aws/credentials</span>   <a href=\"file://c:\\Users\\hohoy\\OneDrive\\Desktop\\sagemaker-ncf-mlflow\\.venv\\Lib\\site-packages\\botocore\\credentials.py\" target=\"_blank\"><span style=\"color: #7f7f7f; text-decoration-color: #7f7f7f\">credentials.py</span></a><span style=\"color: #7f7f7f; text-decoration-color: #7f7f7f\">:</span><a href=\"file://c:\\Users\\hohoy\\OneDrive\\Desktop\\sagemaker-ncf-mlflow\\.venv\\Lib\\site-packages\\botocore\\credentials.py#1278\" target=\"_blank\"><span style=\"color: #7f7f7f; text-decoration-color: #7f7f7f\">1278</span></a>\n",
       "</pre>\n"
      ],
      "text/plain": [
       "\u001b[2;36m[02/16/25 21:54:34]\u001b[0m\u001b[2;36m \u001b[0m\u001b[1;38;2;0;105;255mINFO    \u001b[0m Found credentials in shared credentials file: ~\u001b[38;2;225;0;225m/.aws/\u001b[0m\u001b[38;2;225;0;225mcredentials\u001b[0m   \u001b]8;id=321278;file://c:\\Users\\hohoy\\OneDrive\\Desktop\\sagemaker-ncf-mlflow\\.venv\\Lib\\site-packages\\botocore\\credentials.py\u001b\\\u001b[2mcredentials.py\u001b[0m\u001b]8;;\u001b\\\u001b[2m:\u001b[0m\u001b]8;id=24731;file://c:\\Users\\hohoy\\OneDrive\\Desktop\\sagemaker-ncf-mlflow\\.venv\\Lib\\site-packages\\botocore\\credentials.py#1278\u001b\\\u001b[2m1278\u001b[0m\u001b]8;;\u001b\\\n"
      ]
     },
     "metadata": {},
     "output_type": "display_data"
    },
    {
     "name": "stdout",
     "output_type": "stream",
     "text": [
      "sagemaker.config INFO - Not applying SDK defaults from location: C:\\ProgramData\\sagemaker\\sagemaker\\config.yaml\n",
      "sagemaker.config INFO - Not applying SDK defaults from location: C:\\Users\\hohoy\\AppData\\Local\\sagemaker\\sagemaker\\config.yaml\n"
     ]
    },
    {
     "data": {
      "text/html": [
       "<pre style=\"white-space:pre;overflow-x:auto;line-height:normal;font-family:Menlo,'DejaVu Sans Mono',consolas,'Courier New',monospace\"><span style=\"color: #7fbfbf; text-decoration-color: #7fbfbf\">[02/16/25 21:54:35] </span><span style=\"color: #0069ff; text-decoration-color: #0069ff; font-weight: bold\">INFO    </span> Found credentials in shared credentials file: ~<span style=\"color: #e100e1; text-decoration-color: #e100e1\">/.aws/credentials</span>   <a href=\"file://c:\\Users\\hohoy\\OneDrive\\Desktop\\sagemaker-ncf-mlflow\\.venv\\Lib\\site-packages\\botocore\\credentials.py\" target=\"_blank\"><span style=\"color: #7f7f7f; text-decoration-color: #7f7f7f\">credentials.py</span></a><span style=\"color: #7f7f7f; text-decoration-color: #7f7f7f\">:</span><a href=\"file://c:\\Users\\hohoy\\OneDrive\\Desktop\\sagemaker-ncf-mlflow\\.venv\\Lib\\site-packages\\botocore\\credentials.py#1278\" target=\"_blank\"><span style=\"color: #7f7f7f; text-decoration-color: #7f7f7f\">1278</span></a>\n",
       "</pre>\n"
      ],
      "text/plain": [
       "\u001b[2;36m[02/16/25 21:54:35]\u001b[0m\u001b[2;36m \u001b[0m\u001b[1;38;2;0;105;255mINFO    \u001b[0m Found credentials in shared credentials file: ~\u001b[38;2;225;0;225m/.aws/\u001b[0m\u001b[38;2;225;0;225mcredentials\u001b[0m   \u001b]8;id=167203;file://c:\\Users\\hohoy\\OneDrive\\Desktop\\sagemaker-ncf-mlflow\\.venv\\Lib\\site-packages\\botocore\\credentials.py\u001b\\\u001b[2mcredentials.py\u001b[0m\u001b]8;;\u001b\\\u001b[2m:\u001b[0m\u001b]8;id=969037;file://c:\\Users\\hohoy\\OneDrive\\Desktop\\sagemaker-ncf-mlflow\\.venv\\Lib\\site-packages\\botocore\\credentials.py#1278\u001b\\\u001b[2m1278\u001b[0m\u001b]8;;\u001b\\\n"
      ]
     },
     "metadata": {},
     "output_type": "display_data"
    },
    {
     "data": {
      "text/html": [
       "<pre style=\"white-space:pre;overflow-x:auto;line-height:normal;font-family:Menlo,'DejaVu Sans Mono',consolas,'Courier New',monospace\"><span style=\"color: #7fbfbf; text-decoration-color: #7fbfbf\">                    </span><span style=\"color: #d7af00; text-decoration-color: #d7af00; font-weight: bold\">WARNING </span> Windows Support for Local Mode is Experimental                    <a href=\"file://c:\\Users\\hohoy\\OneDrive\\Desktop\\sagemaker-ncf-mlflow\\.venv\\Lib\\site-packages\\sagemaker\\local\\local_session.py\" target=\"_blank\"><span style=\"color: #7f7f7f; text-decoration-color: #7f7f7f\">local_session.py</span></a><span style=\"color: #7f7f7f; text-decoration-color: #7f7f7f\">:</span><a href=\"file://c:\\Users\\hohoy\\OneDrive\\Desktop\\sagemaker-ncf-mlflow\\.venv\\Lib\\site-packages\\sagemaker\\local\\local_session.py#698\" target=\"_blank\"><span style=\"color: #7f7f7f; text-decoration-color: #7f7f7f\">698</span></a>\n",
       "</pre>\n"
      ],
      "text/plain": [
       "\u001b[2;36m                   \u001b[0m\u001b[2;36m \u001b[0m\u001b[1;38;2;215;175;0mWARNING \u001b[0m Windows Support for Local Mode is Experimental                    \u001b]8;id=300773;file://c:\\Users\\hohoy\\OneDrive\\Desktop\\sagemaker-ncf-mlflow\\.venv\\Lib\\site-packages\\sagemaker\\local\\local_session.py\u001b\\\u001b[2mlocal_session.py\u001b[0m\u001b]8;;\u001b\\\u001b[2m:\u001b[0m\u001b]8;id=520939;file://c:\\Users\\hohoy\\OneDrive\\Desktop\\sagemaker-ncf-mlflow\\.venv\\Lib\\site-packages\\sagemaker\\local\\local_session.py#698\u001b\\\u001b[2m698\u001b[0m\u001b]8;;\u001b\\\n"
      ]
     },
     "metadata": {},
     "output_type": "display_data"
    }
   ],
   "source": [
    "import sagemaker\n",
    "import boto3\n",
    "import pandas as pd\n",
    "import numpy as np\n",
    "import json\n",
    "from sagemaker.processing import ScriptProcessor\n",
    "from sagemaker.processing import ProcessingInput, ProcessingOutput\n",
    "import logging\n",
    "\n",
    "# Configure logging\n",
    "logging.basicConfig(level=logging.INFO)\n",
    "logger = logging.getLogger(__name__)\n",
    "\n",
    "# Initialize SageMaker session\n",
    "sagemaker_session = sagemaker.LocalSession()\n",
    "boto_session = boto3.Session(region_name='ap-southeast-2')\n",
    "role = 'arn:aws:iam::111111111111:role/service-role/AmazonSageMaker-ExecutionRole-20200101T000001'"
   ]
  },
  {
   "cell_type": "markdown",
   "metadata": {},
   "source": [
    "## Load and Examine Data"
   ]
  },
  {
   "cell_type": "code",
   "execution_count": 2,
   "metadata": {},
   "outputs": [
    {
     "name": "stdout",
     "output_type": "stream",
     "text": [
      "Dataset Info:\n",
      "<class 'pandas.core.frame.DataFrame'>\n",
      "RangeIndex: 5000 entries, 0 to 4999\n",
      "Data columns (total 14 columns):\n",
      " #   Column                   Non-Null Count  Dtype  \n",
      "---  ------                   --------------  -----  \n",
      " 0   Tourist ID               5000 non-null   int64  \n",
      " 1   Age                      5000 non-null   int64  \n",
      " 2   Interests                5000 non-null   object \n",
      " 3   Preferred Tour Duration  5000 non-null   int64  \n",
      " 4   Accessibility            5000 non-null   bool   \n",
      " 5   Site Name                5000 non-null   object \n",
      " 6   Sites Visited            5000 non-null   object \n",
      " 7   Tour Duration            5000 non-null   int64  \n",
      " 8   Route ID                 5000 non-null   int64  \n",
      " 9   Tourist Rating           5000 non-null   float64\n",
      " 10  System Response Time     5000 non-null   float64\n",
      " 11  Recommendation Accuracy  5000 non-null   int64  \n",
      " 12  VR Experience Quality    5000 non-null   float64\n",
      " 13  Satisfaction             5000 non-null   int64  \n",
      "dtypes: bool(1), float64(3), int64(7), object(3)\n",
      "memory usage: 512.8+ KB\n",
      "\n",
      "Sample Data:\n",
      "   Tourist ID  Age                            Interests  \\\n",
      "0           1   48   ['Architecture', 'Art', 'History']   \n",
      "1           2   37               ['Cultural', 'Nature']   \n",
      "2           3   43   ['History', 'Art', 'Architecture']   \n",
      "3           4   46  ['Cultural', 'Art', 'Architecture']   \n",
      "4           5   53              ['Architecture', 'Art']   \n",
      "\n",
      "   Preferred Tour Duration  Accessibility     Site Name  \\\n",
      "0                        5          False  Eiffel Tower   \n",
      "1                        6          False     Colosseum   \n",
      "2                        6           True  Machu Picchu   \n",
      "3                        8          False     Colosseum   \n",
      "4                        5           True     Colosseum   \n",
      "\n",
      "                                       Sites Visited  Tour Duration  Route ID  \\\n",
      "0  ['Eiffel Tower', 'Great Wall of China', 'Taj M...              7      1000   \n",
      "1                            ['Great Wall of China']              1      2000   \n",
      "2                                   ['Eiffel Tower']              2      3000   \n",
      "3                      ['Machu Picchu', 'Taj Mahal']              5      4000   \n",
      "4  ['Machu Picchu', 'Taj Mahal', 'Great Wall of C...              7      5000   \n",
      "\n",
      "   Tourist Rating  System Response Time  Recommendation Accuracy  \\\n",
      "0             1.6                  3.73                       97   \n",
      "1             2.6                  2.89                       90   \n",
      "2             1.7                  2.22                       94   \n",
      "3             2.0                  2.34                       92   \n",
      "4             3.7                  2.00                       96   \n",
      "\n",
      "   VR Experience Quality  Satisfaction  \n",
      "0                    4.5             3  \n",
      "1                    4.5             3  \n",
      "2                    4.7             3  \n",
      "3                    4.7             3  \n",
      "4                    4.8             4  \n"
     ]
    }
   ],
   "source": [
    "# Load tourism data\n",
    "tourism_data = pd.read_csv('data/tourism_dataset_5000.csv')\n",
    "\n",
    "# Display basic information about the dataset\n",
    "print(\"Dataset Info:\")\n",
    "tourism_data.info()\n",
    "\n",
    "print(\"\\nSample Data:\")\n",
    "print(tourism_data.head())"
   ]
  },
  {
   "cell_type": "code",
   "execution_count": 3,
   "metadata": {},
   "outputs": [
    {
     "data": {
      "text/html": [
       "<div>\n",
       "<style scoped>\n",
       "    .dataframe tbody tr th:only-of-type {\n",
       "        vertical-align: middle;\n",
       "    }\n",
       "\n",
       "    .dataframe tbody tr th {\n",
       "        vertical-align: top;\n",
       "    }\n",
       "\n",
       "    .dataframe thead th {\n",
       "        text-align: right;\n",
       "    }\n",
       "</style>\n",
       "<table border=\"1\" class=\"dataframe\">\n",
       "  <thead>\n",
       "    <tr style=\"text-align: right;\">\n",
       "      <th></th>\n",
       "      <th>Tourist ID</th>\n",
       "      <th>Age</th>\n",
       "      <th>Interests</th>\n",
       "      <th>Preferred Tour Duration</th>\n",
       "      <th>Accessibility</th>\n",
       "      <th>Site Name</th>\n",
       "      <th>Sites Visited</th>\n",
       "      <th>Tour Duration</th>\n",
       "      <th>Route ID</th>\n",
       "      <th>Tourist Rating</th>\n",
       "      <th>System Response Time</th>\n",
       "      <th>Recommendation Accuracy</th>\n",
       "      <th>VR Experience Quality</th>\n",
       "      <th>Satisfaction</th>\n",
       "    </tr>\n",
       "  </thead>\n",
       "  <tbody>\n",
       "    <tr>\n",
       "      <th>0</th>\n",
       "      <td>1</td>\n",
       "      <td>48</td>\n",
       "      <td>['Architecture', 'Art', 'History']</td>\n",
       "      <td>5</td>\n",
       "      <td>False</td>\n",
       "      <td>Eiffel Tower</td>\n",
       "      <td>['Eiffel Tower', 'Great Wall of China', 'Taj M...</td>\n",
       "      <td>7</td>\n",
       "      <td>1000</td>\n",
       "      <td>1.6</td>\n",
       "      <td>3.73</td>\n",
       "      <td>97</td>\n",
       "      <td>4.5</td>\n",
       "      <td>3</td>\n",
       "    </tr>\n",
       "    <tr>\n",
       "      <th>1</th>\n",
       "      <td>2</td>\n",
       "      <td>37</td>\n",
       "      <td>['Cultural', 'Nature']</td>\n",
       "      <td>6</td>\n",
       "      <td>False</td>\n",
       "      <td>Colosseum</td>\n",
       "      <td>['Great Wall of China']</td>\n",
       "      <td>1</td>\n",
       "      <td>2000</td>\n",
       "      <td>2.6</td>\n",
       "      <td>2.89</td>\n",
       "      <td>90</td>\n",
       "      <td>4.5</td>\n",
       "      <td>3</td>\n",
       "    </tr>\n",
       "    <tr>\n",
       "      <th>2</th>\n",
       "      <td>3</td>\n",
       "      <td>43</td>\n",
       "      <td>['History', 'Art', 'Architecture']</td>\n",
       "      <td>6</td>\n",
       "      <td>True</td>\n",
       "      <td>Machu Picchu</td>\n",
       "      <td>['Eiffel Tower']</td>\n",
       "      <td>2</td>\n",
       "      <td>3000</td>\n",
       "      <td>1.7</td>\n",
       "      <td>2.22</td>\n",
       "      <td>94</td>\n",
       "      <td>4.7</td>\n",
       "      <td>3</td>\n",
       "    </tr>\n",
       "    <tr>\n",
       "      <th>3</th>\n",
       "      <td>4</td>\n",
       "      <td>46</td>\n",
       "      <td>['Cultural', 'Art', 'Architecture']</td>\n",
       "      <td>8</td>\n",
       "      <td>False</td>\n",
       "      <td>Colosseum</td>\n",
       "      <td>['Machu Picchu', 'Taj Mahal']</td>\n",
       "      <td>5</td>\n",
       "      <td>4000</td>\n",
       "      <td>2.0</td>\n",
       "      <td>2.34</td>\n",
       "      <td>92</td>\n",
       "      <td>4.7</td>\n",
       "      <td>3</td>\n",
       "    </tr>\n",
       "    <tr>\n",
       "      <th>4</th>\n",
       "      <td>5</td>\n",
       "      <td>53</td>\n",
       "      <td>['Architecture', 'Art']</td>\n",
       "      <td>5</td>\n",
       "      <td>True</td>\n",
       "      <td>Colosseum</td>\n",
       "      <td>['Machu Picchu', 'Taj Mahal', 'Great Wall of C...</td>\n",
       "      <td>7</td>\n",
       "      <td>5000</td>\n",
       "      <td>3.7</td>\n",
       "      <td>2.00</td>\n",
       "      <td>96</td>\n",
       "      <td>4.8</td>\n",
       "      <td>4</td>\n",
       "    </tr>\n",
       "  </tbody>\n",
       "</table>\n",
       "</div>"
      ],
      "text/plain": [
       "   Tourist ID  Age                            Interests  \\\n",
       "0           1   48   ['Architecture', 'Art', 'History']   \n",
       "1           2   37               ['Cultural', 'Nature']   \n",
       "2           3   43   ['History', 'Art', 'Architecture']   \n",
       "3           4   46  ['Cultural', 'Art', 'Architecture']   \n",
       "4           5   53              ['Architecture', 'Art']   \n",
       "\n",
       "   Preferred Tour Duration  Accessibility     Site Name  \\\n",
       "0                        5          False  Eiffel Tower   \n",
       "1                        6          False     Colosseum   \n",
       "2                        6           True  Machu Picchu   \n",
       "3                        8          False     Colosseum   \n",
       "4                        5           True     Colosseum   \n",
       "\n",
       "                                       Sites Visited  Tour Duration  Route ID  \\\n",
       "0  ['Eiffel Tower', 'Great Wall of China', 'Taj M...              7      1000   \n",
       "1                            ['Great Wall of China']              1      2000   \n",
       "2                                   ['Eiffel Tower']              2      3000   \n",
       "3                      ['Machu Picchu', 'Taj Mahal']              5      4000   \n",
       "4  ['Machu Picchu', 'Taj Mahal', 'Great Wall of C...              7      5000   \n",
       "\n",
       "   Tourist Rating  System Response Time  Recommendation Accuracy  \\\n",
       "0             1.6                  3.73                       97   \n",
       "1             2.6                  2.89                       90   \n",
       "2             1.7                  2.22                       94   \n",
       "3             2.0                  2.34                       92   \n",
       "4             3.7                  2.00                       96   \n",
       "\n",
       "   VR Experience Quality  Satisfaction  \n",
       "0                    4.5             3  \n",
       "1                    4.5             3  \n",
       "2                    4.7             3  \n",
       "3                    4.7             3  \n",
       "4                    4.8             4  "
      ]
     },
     "execution_count": 3,
     "metadata": {},
     "output_type": "execute_result"
    }
   ],
   "source": [
    "tourism_data.head()"
   ]
  },
  {
   "cell_type": "markdown",
   "metadata": {},
   "source": [
    "## Create Preprocessing Scripts\n",
    "\n",
    "Let's create the necessary preprocessing scripts that will run in our container."
   ]
  },
  {
   "cell_type": "markdown",
   "metadata": {},
   "source": [
    "For those who are new to sagemaker, for each of the processing, eg pre-processing, training and inference, each of them will run in a container *OUTSIDE* this notebook. The notebook will starts the containers to process those tasks. And results in each stage, eg data and model artifact will be save in s3 or locally."
   ]
  },
  {
   "cell_type": "code",
   "execution_count": 4,
   "metadata": {},
   "outputs": [
    {
     "name": "stderr",
     "output_type": "stream",
     "text": [
      "�l�ؿ����ɮ� preprocessing �w�g�s�b�C\n"
     ]
    }
   ],
   "source": [
    "\n",
    "!mkdir preprocessing"
   ]
  },
  {
   "cell_type": "code",
   "execution_count": 29,
   "metadata": {},
   "outputs": [
    {
     "name": "stdout",
     "output_type": "stream",
     "text": [
      "Overwriting preprocessing/preprocess.py\n"
     ]
    }
   ],
   "source": [
    "%%writefile preprocessing/preprocess.py\n",
    "\n",
    "import pandas as pd\n",
    "import numpy as np\n",
    "import json\n",
    "import os\n",
    "import ast\n",
    "from sklearn.model_selection import train_test_split\n",
    "\n",
    "def validate_data(df):\n",
    "    \"\"\"Validate input data structure and types.\"\"\"\n",
    "    required_columns = [\n",
    "        'Tourist ID', 'Age', 'Interests', 'Preferred Tour Duration',\n",
    "        'Accessibility', 'Site Name', 'Sites Visited', 'Tour Duration',\n",
    "        'Tourist Rating', 'Satisfaction'\n",
    "    ]\n",
    "    \n",
    "    # Check for required columns\n",
    "    missing_cols = [col for col in required_columns if col not in df.columns]\n",
    "    if missing_cols:\n",
    "        raise ValueError(f\"Missing required columns: {missing_cols}\")\n",
    "    \n",
    "    # Validate data types\n",
    "    assert df['Tourist ID'].dtype in ['int64', 'int32'], \"Tourist ID must be integer\"\n",
    "    assert df['Age'].dtype in ['int64', 'int32', 'float64'], \"Age must be numeric\"\n",
    "    \n",
    "    return True\n",
    "\n",
    "def clean_data(df):\n",
    "    \"\"\"Clean and preprocess the data.\"\"\"\n",
    "    # Create a copy to avoid modifying the original\n",
    "    df_clean = df.copy()\n",
    "    \n",
    "    # Convert string lists to actual lists\n",
    "    df_clean['Interests'] = df_clean['Interests'].apply(ast.literal_eval)\n",
    "    df_clean['Sites Visited'] = df_clean['Sites Visited'].apply(ast.literal_eval)\n",
    "    \n",
    "    # Handle missing values\n",
    "    df_clean['Age'].fillna(df_clean['Age'].median(), inplace=True)\n",
    "    df_clean['Tourist Rating'].fillna(df_clean['Tourist Rating'].mean(), inplace=True)\n",
    "    \n",
    "    # Remove duplicates\n",
    "    df_clean.drop_duplicates(subset=['Tourist ID', 'Site Name'], inplace=True)\n",
    "    \n",
    "    return df_clean\n",
    "\n",
    "def engineer_features(df):\n",
    "    \"\"\"Create new features for the model.\"\"\"\n",
    "    df_featured = df.copy()\n",
    "    \n",
    "    # Create interest count feature\n",
    "    df_featured['Interest_Count'] = df_featured['Interests'].apply(len)\n",
    "    \n",
    "    # Create previous sites count\n",
    "    df_featured['Previous_Sites_Count'] = df_featured['Sites Visited'].apply(len)\n",
    "    \n",
    "    # Calculate tour duration difference\n",
    "    df_featured['Duration_Difference'] = \\\n",
    "        df_featured['Tour Duration'] - df_featured['Preferred Tour Duration']\n",
    "    \n",
    "    # One-hot encode interests\n",
    "    all_interests = set()\n",
    "    for interests in df_featured['Interests']:\n",
    "        all_interests.update(interests)\n",
    "    \n",
    "    for interest in all_interests:\n",
    "        df_featured[f'Interest_{interest}'] = \\\n",
    "            df_featured['Interests'].apply(lambda x: 1 if interest in x else 0)\n",
    "    \n",
    "    return df_featured\n",
    "\n",
    "def main():\n",
    "    # Read input data\n",
    "    base_dir = \"/opt/ml/processing\"\n",
    "    input_data_path =  f\"{base_dir}/input/tourism_dataset_5000.csv\"\n",
    "    df = pd.read_csv(input_data_path)\n",
    "    \n",
    "    # Validate data\n",
    "    validate_data(df)\n",
    "    \n",
    "    # Clean data\n",
    "    df_clean = clean_data(df)\n",
    "    \n",
    "    # Engineer features\n",
    "    df_featured = engineer_features(df_clean)\n",
    "    \n",
    "    # Split data\n",
    "    train_data, test_data = train_test_split(\n",
    "        df_featured, test_size=0.2, random_state=42\n",
    "    )\n",
    "    if not os.path.exists(f'{base_dir}/train/'):\n",
    "        os.makedirs(f'{base_dir}/train')\n",
    "    if not os.path.exists(f'{base_dir}/test/'):\n",
    "        os.makedirs(f'{base_dir}/test')\n",
    "    # Save processed datasets\n",
    "    train_data.to_csv(f'{base_dir}/train/train.csv', header=False, index=False)\n",
    "    test_data.to_csv(f'{base_dir}/test/test.csv', header=False, index=False)\n",
    "    print('Saving Done')\n",
    "if __name__ == \"__main__\":\n",
    "    import os \n",
    "    path = \"/opt/ml/processing/input\"\n",
    "    dirs = os.listdir( path )\n",
    "    for file in dirs:\n",
    "        print(file)\n",
    "    main()"
   ]
  },
  {
   "cell_type": "markdown",
   "metadata": {},
   "source": [
    "## Create Dockerfile for Preprocessing Container"
   ]
  },
  {
   "cell_type": "code",
   "execution_count": 30,
   "metadata": {},
   "outputs": [
    {
     "name": "stdout",
     "output_type": "stream",
     "text": [
      "Overwriting preprocessing/Dockerfile\n"
     ]
    }
   ],
   "source": [
    "%%writefile preprocessing/Dockerfile\n",
    "\n",
    "FROM python:3.10-slim\n",
    "\n",
    "# Install required packages\n",
    "COPY requirements.txt /opt/ml/requirements.txt\n",
    "RUN pip install -r /opt/ml/requirements.txt\n",
    "\n",
    "# Copy preprocessing script\n",
    "COPY preprocess.py /opt/ml/processing/preprocess.py\n",
    "\n",
    "ENTRYPOINT [\"python\", \"/opt/ml/processing/preprocess.py\"]"
   ]
  },
  {
   "cell_type": "code",
   "execution_count": 31,
   "metadata": {},
   "outputs": [
    {
     "name": "stdout",
     "output_type": "stream",
     "text": [
      "Overwriting preprocessing/requirements.txt\n"
     ]
    }
   ],
   "source": [
    "%%writefile preprocessing/requirements.txt\n",
    "pandas>=2.0.0\n",
    "numpy>=1.24.0\n",
    "scikit-learn>=1.3.0"
   ]
  },
  {
   "cell_type": "code",
   "execution_count": 32,
   "metadata": {},
   "outputs": [
    {
     "name": "stdout",
     "output_type": "stream",
     "text": [
      "Successfully created SageMaker config file at: C:\\Users\\hohoy\\.sagemaker-code-config\n"
     ]
    },
    {
     "data": {
      "text/plain": [
       "True"
      ]
     },
     "execution_count": 32,
     "metadata": {},
     "output_type": "execute_result"
    }
   ],
   "source": [
    "import os\n",
    "import sys\n",
    "from pathlib import Path\n",
    "\n",
    "def create_sagemaker_config():\n",
    "    try:\n",
    "        # Use user's home directory instead of C:\\\n",
    "        home_dir = Path.home()\n",
    "        config_path = home_dir / '.sagemaker-code-config'\n",
    "        \n",
    "        # Create an empty config file\n",
    "        config_path.touch(exist_ok=True)\n",
    "        \n",
    "        print(f\"Successfully created SageMaker config file at: {config_path}\")\n",
    "        return True\n",
    "    except Exception as e:\n",
    "        print(f\"Error creating config file: {str(e)}\")\n",
    "        print(\"\\nAlternative options:\")\n",
    "        print(\"1. Run this script with administrative privileges\")\n",
    "        print(\"2. Specify a different directory with write permissions\")\n",
    "        return False\n",
    "\n",
    "create_sagemaker_config()"
   ]
  },
  {
   "cell_type": "markdown",
   "metadata": {},
   "source": [
    "## Build and Test Preprocessing Container Locally"
   ]
  },
  {
   "cell_type": "code",
   "execution_count": 46,
   "metadata": {},
   "outputs": [
    {
     "name": "stderr",
     "output_type": "stream",
     "text": [
      "#0 building with \"desktop-linux\" instance using docker driver\n",
      "\n",
      "#1 [internal] load build definition from Dockerfile\n",
      "#1 transferring dockerfile: 333B done\n",
      "#1 DONE 0.0s\n",
      "\n",
      "#2 [internal] load metadata for docker.io/library/python:3.10-slim\n",
      "#2 DONE 1.1s\n",
      "\n",
      "#3 [internal] load .dockerignore\n",
      "#3 transferring context: 2B done\n",
      "#3 DONE 0.0s\n",
      "\n",
      "#4 [1/4] FROM docker.io/library/python:3.10-slim@sha256:66aad90b231f011cb80e1966e03526a7175f0586724981969b23903abac19081\n",
      "#4 DONE 0.0s\n",
      "\n",
      "#5 [internal] load build context\n",
      "#5 transferring context: 70B done\n",
      "#5 DONE 0.0s\n",
      "\n",
      "#6 [2/4] COPY requirements.txt /opt/ml/requirements.txt\n",
      "#6 CACHED\n",
      "\n",
      "#7 [3/4] RUN pip install -r /opt/ml/requirements.txt\n",
      "#7 CACHED\n",
      "\n",
      "#8 [4/4] COPY preprocess.py /opt/ml/processing/preprocess.py\n",
      "#8 CACHED\n",
      "\n",
      "#9 exporting to image\n",
      "#9 exporting layers done\n",
      "#9 writing image sha256:04929f2ebbc6ad53f4a70cb1b9d11440deeb30bfda99509dfdc2b55d926914b0 done\n",
      "#9 naming to docker.io/library/tourism-preprocessing done\n",
      "#9 DONE 0.0s\n",
      "\n",
      "View build details: docker-desktop://dashboard/build/desktop-linux/desktop-linux/oe5hrkp1rhv70ah85qad1i22n\n"
     ]
    },
    {
     "data": {
      "text/html": [
       "<pre style=\"white-space:pre;overflow-x:auto;line-height:normal;font-family:Menlo,'DejaVu Sans Mono',consolas,'Courier New',monospace\"><span style=\"color: #7fbfbf; text-decoration-color: #7fbfbf\">[02/16/25 22:30:28] </span><span style=\"color: #0069ff; text-decoration-color: #0069ff; font-weight: bold\">INFO    </span> Found credentials in shared credentials file: ~<span style=\"color: #e100e1; text-decoration-color: #e100e1\">/.aws/credentials</span>   <a href=\"file://c:\\Users\\hohoy\\OneDrive\\Desktop\\sagemaker-ncf-mlflow\\.venv\\Lib\\site-packages\\botocore\\credentials.py\" target=\"_blank\"><span style=\"color: #7f7f7f; text-decoration-color: #7f7f7f\">credentials.py</span></a><span style=\"color: #7f7f7f; text-decoration-color: #7f7f7f\">:</span><a href=\"file://c:\\Users\\hohoy\\OneDrive\\Desktop\\sagemaker-ncf-mlflow\\.venv\\Lib\\site-packages\\botocore\\credentials.py#1278\" target=\"_blank\"><span style=\"color: #7f7f7f; text-decoration-color: #7f7f7f\">1278</span></a>\n",
       "</pre>\n"
      ],
      "text/plain": [
       "\u001b[2;36m[02/16/25 22:30:28]\u001b[0m\u001b[2;36m \u001b[0m\u001b[1;38;2;0;105;255mINFO    \u001b[0m Found credentials in shared credentials file: ~\u001b[38;2;225;0;225m/.aws/\u001b[0m\u001b[38;2;225;0;225mcredentials\u001b[0m   \u001b]8;id=776197;file://c:\\Users\\hohoy\\OneDrive\\Desktop\\sagemaker-ncf-mlflow\\.venv\\Lib\\site-packages\\botocore\\credentials.py\u001b\\\u001b[2mcredentials.py\u001b[0m\u001b]8;;\u001b\\\u001b[2m:\u001b[0m\u001b]8;id=741757;file://c:\\Users\\hohoy\\OneDrive\\Desktop\\sagemaker-ncf-mlflow\\.venv\\Lib\\site-packages\\botocore\\credentials.py#1278\u001b\\\u001b[2m1278\u001b[0m\u001b]8;;\u001b\\\n"
      ]
     },
     "metadata": {},
     "output_type": "display_data"
    },
    {
     "data": {
      "text/html": [
       "<pre style=\"white-space:pre;overflow-x:auto;line-height:normal;font-family:Menlo,'DejaVu Sans Mono',consolas,'Courier New',monospace\"><span style=\"color: #7fbfbf; text-decoration-color: #7fbfbf\">                    </span><span style=\"color: #d7af00; text-decoration-color: #d7af00; font-weight: bold\">WARNING </span> Windows Support for Local Mode is Experimental                    <a href=\"file://c:\\Users\\hohoy\\OneDrive\\Desktop\\sagemaker-ncf-mlflow\\.venv\\Lib\\site-packages\\sagemaker\\local\\local_session.py\" target=\"_blank\"><span style=\"color: #7f7f7f; text-decoration-color: #7f7f7f\">local_session.py</span></a><span style=\"color: #7f7f7f; text-decoration-color: #7f7f7f\">:</span><a href=\"file://c:\\Users\\hohoy\\OneDrive\\Desktop\\sagemaker-ncf-mlflow\\.venv\\Lib\\site-packages\\sagemaker\\local\\local_session.py#698\" target=\"_blank\"><span style=\"color: #7f7f7f; text-decoration-color: #7f7f7f\">698</span></a>\n",
       "</pre>\n"
      ],
      "text/plain": [
       "\u001b[2;36m                   \u001b[0m\u001b[2;36m \u001b[0m\u001b[1;38;2;215;175;0mWARNING \u001b[0m Windows Support for Local Mode is Experimental                    \u001b]8;id=565975;file://c:\\Users\\hohoy\\OneDrive\\Desktop\\sagemaker-ncf-mlflow\\.venv\\Lib\\site-packages\\sagemaker\\local\\local_session.py\u001b\\\u001b[2mlocal_session.py\u001b[0m\u001b]8;;\u001b\\\u001b[2m:\u001b[0m\u001b]8;id=775107;file://c:\\Users\\hohoy\\OneDrive\\Desktop\\sagemaker-ncf-mlflow\\.venv\\Lib\\site-packages\\sagemaker\\local\\local_session.py#698\u001b\\\u001b[2m698\u001b[0m\u001b]8;;\u001b\\\n"
      ]
     },
     "metadata": {},
     "output_type": "display_data"
    },
    {
     "data": {
      "text/html": [
       "<pre style=\"white-space:pre;overflow-x:auto;line-height:normal;font-family:Menlo,'DejaVu Sans Mono',consolas,'Courier New',monospace\"><span style=\"color: #7fbfbf; text-decoration-color: #7fbfbf\">                    </span><span style=\"color: #0069ff; text-decoration-color: #0069ff; font-weight: bold\">INFO    </span> Found credentials in shared credentials file: ~<span style=\"color: #e100e1; text-decoration-color: #e100e1\">/.aws/credentials</span>   <a href=\"file://c:\\Users\\hohoy\\OneDrive\\Desktop\\sagemaker-ncf-mlflow\\.venv\\Lib\\site-packages\\botocore\\credentials.py\" target=\"_blank\"><span style=\"color: #7f7f7f; text-decoration-color: #7f7f7f\">credentials.py</span></a><span style=\"color: #7f7f7f; text-decoration-color: #7f7f7f\">:</span><a href=\"file://c:\\Users\\hohoy\\OneDrive\\Desktop\\sagemaker-ncf-mlflow\\.venv\\Lib\\site-packages\\botocore\\credentials.py#1278\" target=\"_blank\"><span style=\"color: #7f7f7f; text-decoration-color: #7f7f7f\">1278</span></a>\n",
       "</pre>\n"
      ],
      "text/plain": [
       "\u001b[2;36m                   \u001b[0m\u001b[2;36m \u001b[0m\u001b[1;38;2;0;105;255mINFO    \u001b[0m Found credentials in shared credentials file: ~\u001b[38;2;225;0;225m/.aws/\u001b[0m\u001b[38;2;225;0;225mcredentials\u001b[0m   \u001b]8;id=565916;file://c:\\Users\\hohoy\\OneDrive\\Desktop\\sagemaker-ncf-mlflow\\.venv\\Lib\\site-packages\\botocore\\credentials.py\u001b\\\u001b[2mcredentials.py\u001b[0m\u001b]8;;\u001b\\\u001b[2m:\u001b[0m\u001b]8;id=913978;file://c:\\Users\\hohoy\\OneDrive\\Desktop\\sagemaker-ncf-mlflow\\.venv\\Lib\\site-packages\\botocore\\credentials.py#1278\u001b\\\u001b[2m1278\u001b[0m\u001b]8;;\u001b\\\n"
      ]
     },
     "metadata": {},
     "output_type": "display_data"
    },
    {
     "data": {
      "text/html": [
       "<pre style=\"white-space:pre;overflow-x:auto;line-height:normal;font-family:Menlo,'DejaVu Sans Mono',consolas,'Courier New',monospace\"><span style=\"color: #7fbfbf; text-decoration-color: #7fbfbf\">                    </span><span style=\"color: #d7af00; text-decoration-color: #d7af00; font-weight: bold\">WARNING </span> Windows Support for Local Mode is Experimental                    <a href=\"file://c:\\Users\\hohoy\\OneDrive\\Desktop\\sagemaker-ncf-mlflow\\.venv\\Lib\\site-packages\\sagemaker\\local\\local_session.py\" target=\"_blank\"><span style=\"color: #7f7f7f; text-decoration-color: #7f7f7f\">local_session.py</span></a><span style=\"color: #7f7f7f; text-decoration-color: #7f7f7f\">:</span><a href=\"file://c:\\Users\\hohoy\\OneDrive\\Desktop\\sagemaker-ncf-mlflow\\.venv\\Lib\\site-packages\\sagemaker\\local\\local_session.py#698\" target=\"_blank\"><span style=\"color: #7f7f7f; text-decoration-color: #7f7f7f\">698</span></a>\n",
       "</pre>\n"
      ],
      "text/plain": [
       "\u001b[2;36m                   \u001b[0m\u001b[2;36m \u001b[0m\u001b[1;38;2;215;175;0mWARNING \u001b[0m Windows Support for Local Mode is Experimental                    \u001b]8;id=106677;file://c:\\Users\\hohoy\\OneDrive\\Desktop\\sagemaker-ncf-mlflow\\.venv\\Lib\\site-packages\\sagemaker\\local\\local_session.py\u001b\\\u001b[2mlocal_session.py\u001b[0m\u001b]8;;\u001b\\\u001b[2m:\u001b[0m\u001b]8;id=612773;file://c:\\Users\\hohoy\\OneDrive\\Desktop\\sagemaker-ncf-mlflow\\.venv\\Lib\\site-packages\\sagemaker\\local\\local_session.py#698\u001b\\\u001b[2m698\u001b[0m\u001b]8;;\u001b\\\n"
      ]
     },
     "metadata": {},
     "output_type": "display_data"
    },
    {
     "data": {
      "text/html": [
       "<pre style=\"white-space:pre;overflow-x:auto;line-height:normal;font-family:Menlo,'DejaVu Sans Mono',consolas,'Courier New',monospace\"><span style=\"color: #7fbfbf; text-decoration-color: #7fbfbf\">[02/16/25 22:30:31] </span><span style=\"color: #0069ff; text-decoration-color: #0069ff; font-weight: bold\">INFO    </span> Creating processing-job with name                                      <a href=\"file://c:\\Users\\hohoy\\OneDrive\\Desktop\\sagemaker-ncf-mlflow\\.venv\\Lib\\site-packages\\sagemaker\\session.py\" target=\"_blank\"><span style=\"color: #7f7f7f; text-decoration-color: #7f7f7f\">session.py</span></a><span style=\"color: #7f7f7f; text-decoration-color: #7f7f7f\">:</span><a href=\"file://c:\\Users\\hohoy\\OneDrive\\Desktop\\sagemaker-ncf-mlflow\\.venv\\Lib\\site-packages\\sagemaker\\session.py#1575\" target=\"_blank\"><span style=\"color: #7f7f7f; text-decoration-color: #7f7f7f\">1575</span></a>\n",
       "<span style=\"color: #7fbfbf; text-decoration-color: #7fbfbf\">                    </span>         tourism-preprocessing-<span style=\"color: #008080; text-decoration-color: #008080; font-weight: bold\">2025</span>-02-16-14-30-28-893                          <span style=\"color: #7f7f7f; text-decoration-color: #7f7f7f\">               </span>\n",
       "</pre>\n"
      ],
      "text/plain": [
       "\u001b[2;36m[02/16/25 22:30:31]\u001b[0m\u001b[2;36m \u001b[0m\u001b[1;38;2;0;105;255mINFO    \u001b[0m Creating processing-job with name                                      \u001b]8;id=504344;file://c:\\Users\\hohoy\\OneDrive\\Desktop\\sagemaker-ncf-mlflow\\.venv\\Lib\\site-packages\\sagemaker\\session.py\u001b\\\u001b[2msession.py\u001b[0m\u001b]8;;\u001b\\\u001b[2m:\u001b[0m\u001b]8;id=252679;file://c:\\Users\\hohoy\\OneDrive\\Desktop\\sagemaker-ncf-mlflow\\.venv\\Lib\\site-packages\\sagemaker\\session.py#1575\u001b\\\u001b[2m1575\u001b[0m\u001b]8;;\u001b\\\n",
       "\u001b[2;36m                    \u001b[0m         tourism-preprocessing-\u001b[1;36m2025\u001b[0m-02-16-14-30-28-893                          \u001b[2m               \u001b[0m\n"
      ]
     },
     "metadata": {},
     "output_type": "display_data"
    },
    {
     "data": {
      "text/html": [
       "<pre style=\"white-space:pre;overflow-x:auto;line-height:normal;font-family:Menlo,'DejaVu Sans Mono',consolas,'Courier New',monospace\"><span style=\"color: #7fbfbf; text-decoration-color: #7fbfbf\">                    </span><span style=\"color: #0069ff; text-decoration-color: #0069ff; font-weight: bold\">INFO    </span> SageMaker Python SDK will collect telemetry to help us better  <a href=\"file://c:\\Users\\hohoy\\OneDrive\\Desktop\\sagemaker-ncf-mlflow\\.venv\\Lib\\site-packages\\sagemaker\\telemetry\\telemetry_logging.py\" target=\"_blank\"><span style=\"color: #7f7f7f; text-decoration-color: #7f7f7f\">telemetry_logging.py</span></a><span style=\"color: #7f7f7f; text-decoration-color: #7f7f7f\">:</span><a href=\"file://c:\\Users\\hohoy\\OneDrive\\Desktop\\sagemaker-ncf-mlflow\\.venv\\Lib\\site-packages\\sagemaker\\telemetry\\telemetry_logging.py#91\" target=\"_blank\"><span style=\"color: #7f7f7f; text-decoration-color: #7f7f7f\">91</span></a>\n",
       "<span style=\"color: #7fbfbf; text-decoration-color: #7fbfbf\">                    </span>         understand our user's needs, diagnose issues, and deliver      <span style=\"color: #7f7f7f; text-decoration-color: #7f7f7f\">                       </span>\n",
       "<span style=\"color: #7fbfbf; text-decoration-color: #7fbfbf\">                    </span>         additional features.                                           <span style=\"color: #7f7f7f; text-decoration-color: #7f7f7f\">                       </span>\n",
       "<span style=\"color: #7fbfbf; text-decoration-color: #7fbfbf\">                    </span>         To opt out of telemetry, please disable via TelemetryOptOut    <span style=\"color: #7f7f7f; text-decoration-color: #7f7f7f\">                       </span>\n",
       "<span style=\"color: #7fbfbf; text-decoration-color: #7fbfbf\">                    </span>         parameter in SDK defaults config. For more information, refer  <span style=\"color: #7f7f7f; text-decoration-color: #7f7f7f\">                       </span>\n",
       "<span style=\"color: #7fbfbf; text-decoration-color: #7fbfbf\">                    </span>         to                                                             <span style=\"color: #7f7f7f; text-decoration-color: #7f7f7f\">                       </span>\n",
       "<span style=\"color: #7fbfbf; text-decoration-color: #7fbfbf\">                    </span>         <span style=\"color: #0069ff; text-decoration-color: #0069ff; text-decoration: underline\">https://sagemaker.readthedocs.io/en/stable/overview.html#confi</span> <span style=\"color: #7f7f7f; text-decoration-color: #7f7f7f\">                       </span>\n",
       "<span style=\"color: #7fbfbf; text-decoration-color: #7fbfbf\">                    </span>         <span style=\"color: #0069ff; text-decoration-color: #0069ff; text-decoration: underline\">guring-and-using-defaults-with-the-sagemaker-python-sdk.</span>       <span style=\"color: #7f7f7f; text-decoration-color: #7f7f7f\">                       </span>\n",
       "</pre>\n"
      ],
      "text/plain": [
       "\u001b[2;36m                   \u001b[0m\u001b[2;36m \u001b[0m\u001b[1;38;2;0;105;255mINFO    \u001b[0m SageMaker Python SDK will collect telemetry to help us better  \u001b]8;id=414133;file://c:\\Users\\hohoy\\OneDrive\\Desktop\\sagemaker-ncf-mlflow\\.venv\\Lib\\site-packages\\sagemaker\\telemetry\\telemetry_logging.py\u001b\\\u001b[2mtelemetry_logging.py\u001b[0m\u001b]8;;\u001b\\\u001b[2m:\u001b[0m\u001b]8;id=57180;file://c:\\Users\\hohoy\\OneDrive\\Desktop\\sagemaker-ncf-mlflow\\.venv\\Lib\\site-packages\\sagemaker\\telemetry\\telemetry_logging.py#91\u001b\\\u001b[2m91\u001b[0m\u001b]8;;\u001b\\\n",
       "\u001b[2;36m                    \u001b[0m         understand our user's needs, diagnose issues, and deliver      \u001b[2m                       \u001b[0m\n",
       "\u001b[2;36m                    \u001b[0m         additional features.                                           \u001b[2m                       \u001b[0m\n",
       "\u001b[2;36m                    \u001b[0m         To opt out of telemetry, please disable via TelemetryOptOut    \u001b[2m                       \u001b[0m\n",
       "\u001b[2;36m                    \u001b[0m         parameter in SDK defaults config. For more information, refer  \u001b[2m                       \u001b[0m\n",
       "\u001b[2;36m                    \u001b[0m         to                                                             \u001b[2m                       \u001b[0m\n",
       "\u001b[2;36m                    \u001b[0m         \u001b[4;38;2;0;105;255mhttps://sagemaker.readthedocs.io/en/stable/overview.html#confi\u001b[0m \u001b[2m                       \u001b[0m\n",
       "\u001b[2;36m                    \u001b[0m         \u001b[4;38;2;0;105;255mguring-and-using-defaults-with-the-sagemaker-python-sdk.\u001b[0m       \u001b[2m                       \u001b[0m\n"
      ]
     },
     "metadata": {},
     "output_type": "display_data"
    },
    {
     "data": {
      "text/html": [
       "<pre style=\"white-space:pre;overflow-x:auto;line-height:normal;font-family:Menlo,'DejaVu Sans Mono',consolas,'Courier New',monospace\"><span style=\"color: #7fbfbf; text-decoration-color: #7fbfbf\">[02/16/25 22:30:32] </span><span style=\"color: #0069ff; text-decoration-color: #0069ff; font-weight: bold\">INFO    </span> <span style=\"color: #008700; text-decoration-color: #008700\">'Docker Compose'</span> found using Docker CLI.                                  <a href=\"file://c:\\Users\\hohoy\\OneDrive\\Desktop\\sagemaker-ncf-mlflow\\.venv\\Lib\\site-packages\\sagemaker\\local\\image.py\" target=\"_blank\"><span style=\"color: #7f7f7f; text-decoration-color: #7f7f7f\">image.py</span></a><span style=\"color: #7f7f7f; text-decoration-color: #7f7f7f\">:</span><a href=\"file://c:\\Users\\hohoy\\OneDrive\\Desktop\\sagemaker-ncf-mlflow\\.venv\\Lib\\site-packages\\sagemaker\\local\\image.py#168\" target=\"_blank\"><span style=\"color: #7f7f7f; text-decoration-color: #7f7f7f\">168</span></a>\n",
       "</pre>\n"
      ],
      "text/plain": [
       "\u001b[2;36m[02/16/25 22:30:32]\u001b[0m\u001b[2;36m \u001b[0m\u001b[1;38;2;0;105;255mINFO    \u001b[0m \u001b[38;2;0;135;0m'Docker Compose'\u001b[0m found using Docker CLI.                                  \u001b]8;id=407004;file://c:\\Users\\hohoy\\OneDrive\\Desktop\\sagemaker-ncf-mlflow\\.venv\\Lib\\site-packages\\sagemaker\\local\\image.py\u001b\\\u001b[2mimage.py\u001b[0m\u001b]8;;\u001b\\\u001b[2m:\u001b[0m\u001b]8;id=781478;file://c:\\Users\\hohoy\\OneDrive\\Desktop\\sagemaker-ncf-mlflow\\.venv\\Lib\\site-packages\\sagemaker\\local\\image.py#168\u001b\\\u001b[2m168\u001b[0m\u001b]8;;\u001b\\\n"
      ]
     },
     "metadata": {},
     "output_type": "display_data"
    },
    {
     "data": {
      "text/html": [
       "<pre style=\"white-space:pre;overflow-x:auto;line-height:normal;font-family:Menlo,'DejaVu Sans Mono',consolas,'Courier New',monospace\"><span style=\"color: #7fbfbf; text-decoration-color: #7fbfbf\">                    </span><span style=\"color: #0069ff; text-decoration-color: #0069ff; font-weight: bold\">INFO    </span> Starting processing job                                           <a href=\"file://c:\\Users\\hohoy\\OneDrive\\Desktop\\sagemaker-ncf-mlflow\\.venv\\Lib\\site-packages\\sagemaker\\local\\local_session.py\" target=\"_blank\"><span style=\"color: #7f7f7f; text-decoration-color: #7f7f7f\">local_session.py</span></a><span style=\"color: #7f7f7f; text-decoration-color: #7f7f7f\">:</span><a href=\"file://c:\\Users\\hohoy\\OneDrive\\Desktop\\sagemaker-ncf-mlflow\\.venv\\Lib\\site-packages\\sagemaker\\local\\local_session.py#144\" target=\"_blank\"><span style=\"color: #7f7f7f; text-decoration-color: #7f7f7f\">144</span></a>\n",
       "</pre>\n"
      ],
      "text/plain": [
       "\u001b[2;36m                   \u001b[0m\u001b[2;36m \u001b[0m\u001b[1;38;2;0;105;255mINFO    \u001b[0m Starting processing job                                           \u001b]8;id=560210;file://c:\\Users\\hohoy\\OneDrive\\Desktop\\sagemaker-ncf-mlflow\\.venv\\Lib\\site-packages\\sagemaker\\local\\local_session.py\u001b\\\u001b[2mlocal_session.py\u001b[0m\u001b]8;;\u001b\\\u001b[2m:\u001b[0m\u001b]8;id=829425;file://c:\\Users\\hohoy\\OneDrive\\Desktop\\sagemaker-ncf-mlflow\\.venv\\Lib\\site-packages\\sagemaker\\local\\local_session.py#144\u001b\\\u001b[2m144\u001b[0m\u001b]8;;\u001b\\\n"
      ]
     },
     "metadata": {},
     "output_type": "display_data"
    },
    {
     "data": {
      "text/html": [
       "<pre style=\"white-space:pre;overflow-x:auto;line-height:normal;font-family:Menlo,'DejaVu Sans Mono',consolas,'Courier New',monospace\"><span style=\"color: #7fbfbf; text-decoration-color: #7fbfbf\">[02/16/25 22:30:34] </span><span style=\"color: #0069ff; text-decoration-color: #0069ff; font-weight: bold\">INFO    </span> Using the long-lived AWS credentials found in session                    <a href=\"file://c:\\Users\\hohoy\\OneDrive\\Desktop\\sagemaker-ncf-mlflow\\.venv\\Lib\\site-packages\\sagemaker\\local\\image.py\" target=\"_blank\"><span style=\"color: #7f7f7f; text-decoration-color: #7f7f7f\">image.py</span></a><span style=\"color: #7f7f7f; text-decoration-color: #7f7f7f\">:</span><a href=\"file://c:\\Users\\hohoy\\OneDrive\\Desktop\\sagemaker-ncf-mlflow\\.venv\\Lib\\site-packages\\sagemaker\\local\\image.py#1126\" target=\"_blank\"><span style=\"color: #7f7f7f; text-decoration-color: #7f7f7f\">1126</span></a>\n",
       "</pre>\n"
      ],
      "text/plain": [
       "\u001b[2;36m[02/16/25 22:30:34]\u001b[0m\u001b[2;36m \u001b[0m\u001b[1;38;2;0;105;255mINFO    \u001b[0m Using the long-lived AWS credentials found in session                    \u001b]8;id=246816;file://c:\\Users\\hohoy\\OneDrive\\Desktop\\sagemaker-ncf-mlflow\\.venv\\Lib\\site-packages\\sagemaker\\local\\image.py\u001b\\\u001b[2mimage.py\u001b[0m\u001b]8;;\u001b\\\u001b[2m:\u001b[0m\u001b]8;id=773433;file://c:\\Users\\hohoy\\OneDrive\\Desktop\\sagemaker-ncf-mlflow\\.venv\\Lib\\site-packages\\sagemaker\\local\\image.py#1126\u001b\\\u001b[2m1126\u001b[0m\u001b]8;;\u001b\\\n"
      ]
     },
     "metadata": {},
     "output_type": "display_data"
    },
    {
     "data": {
      "text/html": [
       "<pre style=\"white-space:pre;overflow-x:auto;line-height:normal;font-family:Menlo,'DejaVu Sans Mono',consolas,'Courier New',monospace\"><span style=\"color: #7fbfbf; text-decoration-color: #7fbfbf\">                    </span><span style=\"color: #0069ff; text-decoration-color: #0069ff; font-weight: bold\">INFO    </span> docker compose file:                                                      <a href=\"file://c:\\Users\\hohoy\\OneDrive\\Desktop\\sagemaker-ncf-mlflow\\.venv\\Lib\\site-packages\\sagemaker\\local\\image.py\" target=\"_blank\"><span style=\"color: #7f7f7f; text-decoration-color: #7f7f7f\">image.py</span></a><span style=\"color: #7f7f7f; text-decoration-color: #7f7f7f\">:</span><a href=\"file://c:\\Users\\hohoy\\OneDrive\\Desktop\\sagemaker-ncf-mlflow\\.venv\\Lib\\site-packages\\sagemaker\\local\\image.py#781\" target=\"_blank\"><span style=\"color: #7f7f7f; text-decoration-color: #7f7f7f\">781</span></a>\n",
       "<span style=\"color: #7fbfbf; text-decoration-color: #7fbfbf\">                    </span>         networks:                                                                 <span style=\"color: #7f7f7f; text-decoration-color: #7f7f7f\">            </span>\n",
       "<span style=\"color: #7fbfbf; text-decoration-color: #7fbfbf\">                    </span>           sagemaker-local:                                                        <span style=\"color: #7f7f7f; text-decoration-color: #7f7f7f\">            </span>\n",
       "<span style=\"color: #7fbfbf; text-decoration-color: #7fbfbf\">                    </span>             name: sagemaker-local                                                 <span style=\"color: #7f7f7f; text-decoration-color: #7f7f7f\">            </span>\n",
       "<span style=\"color: #7fbfbf; text-decoration-color: #7fbfbf\">                    </span>         services:                                                                 <span style=\"color: #7f7f7f; text-decoration-color: #7f7f7f\">            </span>\n",
       "<span style=\"color: #7fbfbf; text-decoration-color: #7fbfbf\">                    </span>           algo-<span style=\"color: #008080; text-decoration-color: #008080; font-weight: bold\">1</span>-3a417:                                                           <span style=\"color: #7f7f7f; text-decoration-color: #7f7f7f\">            </span>\n",
       "<span style=\"color: #7fbfbf; text-decoration-color: #7fbfbf\">                    </span>             container_name: bxv04ux6ve-algo-<span style=\"color: #008080; text-decoration-color: #008080; font-weight: bold\">1</span>-3a417                               <span style=\"color: #7f7f7f; text-decoration-color: #7f7f7f\">            </span>\n",
       "<span style=\"color: #7fbfbf; text-decoration-color: #7fbfbf\">                    </span>             entrypoint:                                                           <span style=\"color: #7f7f7f; text-decoration-color: #7f7f7f\">            </span>\n",
       "<span style=\"color: #7fbfbf; text-decoration-color: #7fbfbf\">                    </span>             - python3                                                             <span style=\"color: #7f7f7f; text-decoration-color: #7f7f7f\">            </span>\n",
       "<span style=\"color: #7fbfbf; text-decoration-color: #7fbfbf\">                    </span>             - <span style=\"color: #e100e1; text-decoration-color: #e100e1\">/opt/ml/processing/input/code/preprocess.py</span>                         <span style=\"color: #7f7f7f; text-decoration-color: #7f7f7f\">            </span>\n",
       "<span style=\"color: #7fbfbf; text-decoration-color: #7fbfbf\">                    </span>             environment:                                                          <span style=\"color: #7f7f7f; text-decoration-color: #7f7f7f\">            </span>\n",
       "<span style=\"color: #7fbfbf; text-decoration-color: #7fbfbf\">                    </span>             - <span style=\"color: #008700; text-decoration-color: #008700\">'</span><span style=\"color: #008700; text-decoration-color: #008700; font-weight: bold\">[</span><span style=\"color: #008700; text-decoration-color: #008700\">Masked</span><span style=\"color: #008700; text-decoration-color: #008700; font-weight: bold\">]</span><span style=\"color: #008700; text-decoration-color: #008700\">'</span>                                                          <span style=\"color: #7f7f7f; text-decoration-color: #7f7f7f\">            </span>\n",
       "<span style=\"color: #7fbfbf; text-decoration-color: #7fbfbf\">                    </span>             - <span style=\"color: #008700; text-decoration-color: #008700\">'</span><span style=\"color: #008700; text-decoration-color: #008700; font-weight: bold\">[</span><span style=\"color: #008700; text-decoration-color: #008700\">Masked</span><span style=\"color: #008700; text-decoration-color: #008700; font-weight: bold\">]</span><span style=\"color: #008700; text-decoration-color: #008700\">'</span>                                                          <span style=\"color: #7f7f7f; text-decoration-color: #7f7f7f\">            </span>\n",
       "<span style=\"color: #7fbfbf; text-decoration-color: #7fbfbf\">                    </span>             image: tourism-preprocessing:latest                                   <span style=\"color: #7f7f7f; text-decoration-color: #7f7f7f\">            </span>\n",
       "<span style=\"color: #7fbfbf; text-decoration-color: #7fbfbf\">                    </span>             networks:                                                             <span style=\"color: #7f7f7f; text-decoration-color: #7f7f7f\">            </span>\n",
       "<span style=\"color: #7fbfbf; text-decoration-color: #7fbfbf\">                    </span>               sagemaker-local:                                                    <span style=\"color: #7f7f7f; text-decoration-color: #7f7f7f\">            </span>\n",
       "<span style=\"color: #7fbfbf; text-decoration-color: #7fbfbf\">                    </span>                 aliases:                                                          <span style=\"color: #7f7f7f; text-decoration-color: #7f7f7f\">            </span>\n",
       "<span style=\"color: #7fbfbf; text-decoration-color: #7fbfbf\">                    </span>                 - algo-<span style=\"color: #008080; text-decoration-color: #008080; font-weight: bold\">1</span>-3a417                                                    <span style=\"color: #7f7f7f; text-decoration-color: #7f7f7f\">            </span>\n",
       "<span style=\"color: #7fbfbf; text-decoration-color: #7fbfbf\">                    </span>             stdin_open: true                                                      <span style=\"color: #7f7f7f; text-decoration-color: #7f7f7f\">            </span>\n",
       "<span style=\"color: #7fbfbf; text-decoration-color: #7fbfbf\">                    </span>             tty: true                                                             <span style=\"color: #7f7f7f; text-decoration-color: #7f7f7f\">            </span>\n",
       "<span style=\"color: #7fbfbf; text-decoration-color: #7fbfbf\">                    </span>             volumes:                                                              <span style=\"color: #7f7f7f; text-decoration-color: #7f7f7f\">            </span>\n",
       "<span style=\"color: #7fbfbf; text-decoration-color: #7fbfbf\">                    </span>             -                                                                     <span style=\"color: #7f7f7f; text-decoration-color: #7f7f7f\">            </span>\n",
       "<span style=\"color: #7fbfbf; text-decoration-color: #7fbfbf\">                    </span>         C:\\Users\\hohoy\\AppData\\Local\\Temp\\tmp8vrim7fk\\algo-<span style=\"color: #008080; text-decoration-color: #008080; font-weight: bold\">1</span>-3a417\\config:<span style=\"color: #e100e1; text-decoration-color: #e100e1\">/opt/ml</span> <span style=\"color: #7f7f7f; text-decoration-color: #7f7f7f\">            </span>\n",
       "<span style=\"color: #7fbfbf; text-decoration-color: #7fbfbf\">                    </span>         <span style=\"color: #e100e1; text-decoration-color: #e100e1\">/config</span>                                                                   <span style=\"color: #7f7f7f; text-decoration-color: #7f7f7f\">            </span>\n",
       "<span style=\"color: #7fbfbf; text-decoration-color: #7fbfbf\">                    </span>             -                                                                     <span style=\"color: #7f7f7f; text-decoration-color: #7f7f7f\">            </span>\n",
       "<span style=\"color: #7fbfbf; text-decoration-color: #7fbfbf\">                    </span>         C:\\Users\\hohoy\\AppData\\Local\\Temp\\tmp8vrim7fk\\algo-<span style=\"color: #008080; text-decoration-color: #008080; font-weight: bold\">1</span>-3a417\\output:<span style=\"color: #e100e1; text-decoration-color: #e100e1\">/opt/ml</span> <span style=\"color: #7f7f7f; text-decoration-color: #7f7f7f\">            </span>\n",
       "<span style=\"color: #7fbfbf; text-decoration-color: #7fbfbf\">                    </span>         <span style=\"color: #e100e1; text-decoration-color: #e100e1\">/output</span>                                                                   <span style=\"color: #7f7f7f; text-decoration-color: #7f7f7f\">            </span>\n",
       "<span style=\"color: #7fbfbf; text-decoration-color: #7fbfbf\">                    </span>             -                                                                     <span style=\"color: #7f7f7f; text-decoration-color: #7f7f7f\">            </span>\n",
       "<span style=\"color: #7fbfbf; text-decoration-color: #7fbfbf\">                    </span>         C:\\Users\\hohoy\\AppData\\Local\\Temp\\tmpp08hks6k:<span style=\"color: #e100e1; text-decoration-color: #e100e1\">/opt/ml/processing/input</span>    <span style=\"color: #7f7f7f; text-decoration-color: #7f7f7f\">            </span>\n",
       "<span style=\"color: #7fbfbf; text-decoration-color: #7fbfbf\">                    </span>             -                                                                     <span style=\"color: #7f7f7f; text-decoration-color: #7f7f7f\">            </span>\n",
       "<span style=\"color: #7fbfbf; text-decoration-color: #7fbfbf\">                    </span>         C:\\Users\\hohoy\\AppData\\Local\\Temp\\tmpzgl1w223:<span style=\"color: #e100e1; text-decoration-color: #e100e1\">/opt/ml/processing/input/co</span> <span style=\"color: #7f7f7f; text-decoration-color: #7f7f7f\">            </span>\n",
       "<span style=\"color: #7fbfbf; text-decoration-color: #7fbfbf\">                    </span>         <span style=\"color: #e100e1; text-decoration-color: #e100e1\">de</span>                                                                        <span style=\"color: #7f7f7f; text-decoration-color: #7f7f7f\">            </span>\n",
       "<span style=\"color: #7fbfbf; text-decoration-color: #7fbfbf\">                    </span>             -                                                                     <span style=\"color: #7f7f7f; text-decoration-color: #7f7f7f\">            </span>\n",
       "<span style=\"color: #7fbfbf; text-decoration-color: #7fbfbf\">                    </span>         C:\\Users\\hohoy\\AppData\\Local\\Temp\\tmph40c5bc2\\output\\train:<span style=\"color: #e100e1; text-decoration-color: #e100e1\">/opt/ml/proces</span> <span style=\"color: #7f7f7f; text-decoration-color: #7f7f7f\">            </span>\n",
       "<span style=\"color: #7fbfbf; text-decoration-color: #7fbfbf\">                    </span>         <span style=\"color: #e100e1; text-decoration-color: #e100e1\">sing/train</span>                                                                <span style=\"color: #7f7f7f; text-decoration-color: #7f7f7f\">            </span>\n",
       "<span style=\"color: #7fbfbf; text-decoration-color: #7fbfbf\">                    </span>             -                                                                     <span style=\"color: #7f7f7f; text-decoration-color: #7f7f7f\">            </span>\n",
       "<span style=\"color: #7fbfbf; text-decoration-color: #7fbfbf\">                    </span>         C:\\Users\\hohoy\\AppData\\Local\\Temp\\tmph40c5bc2\\output\\test:<span style=\"color: #e100e1; text-decoration-color: #e100e1\">/opt/ml/process</span> <span style=\"color: #7f7f7f; text-decoration-color: #7f7f7f\">            </span>\n",
       "<span style=\"color: #7fbfbf; text-decoration-color: #7fbfbf\">                    </span>         <span style=\"color: #e100e1; text-decoration-color: #e100e1\">ing/test</span>                                                                  <span style=\"color: #7f7f7f; text-decoration-color: #7f7f7f\">            </span>\n",
       "<span style=\"color: #7fbfbf; text-decoration-color: #7fbfbf\">                    </span>             - C:\\Users\\hohoy\\AppData\\Local\\Temp\\tmp8vrim7fk\\shared:<span style=\"color: #e100e1; text-decoration-color: #e100e1\">/opt/ml/shared</span> <span style=\"color: #7f7f7f; text-decoration-color: #7f7f7f\">            </span>\n",
       "<span style=\"color: #7fbfbf; text-decoration-color: #7fbfbf\">                    </span>         version: <span style=\"color: #008700; text-decoration-color: #008700\">'2.3'</span>                                                            <span style=\"color: #7f7f7f; text-decoration-color: #7f7f7f\">            </span>\n",
       "<span style=\"color: #7fbfbf; text-decoration-color: #7fbfbf\">                    </span>                                                                                   <span style=\"color: #7f7f7f; text-decoration-color: #7f7f7f\">            </span>\n",
       "</pre>\n"
      ],
      "text/plain": [
       "\u001b[2;36m                   \u001b[0m\u001b[2;36m \u001b[0m\u001b[1;38;2;0;105;255mINFO    \u001b[0m docker compose file:                                                      \u001b]8;id=681639;file://c:\\Users\\hohoy\\OneDrive\\Desktop\\sagemaker-ncf-mlflow\\.venv\\Lib\\site-packages\\sagemaker\\local\\image.py\u001b\\\u001b[2mimage.py\u001b[0m\u001b]8;;\u001b\\\u001b[2m:\u001b[0m\u001b]8;id=375010;file://c:\\Users\\hohoy\\OneDrive\\Desktop\\sagemaker-ncf-mlflow\\.venv\\Lib\\site-packages\\sagemaker\\local\\image.py#781\u001b\\\u001b[2m781\u001b[0m\u001b]8;;\u001b\\\n",
       "\u001b[2;36m                    \u001b[0m         networks:                                                                 \u001b[2m            \u001b[0m\n",
       "\u001b[2;36m                    \u001b[0m           sagemaker-local:                                                        \u001b[2m            \u001b[0m\n",
       "\u001b[2;36m                    \u001b[0m             name: sagemaker-local                                                 \u001b[2m            \u001b[0m\n",
       "\u001b[2;36m                    \u001b[0m         services:                                                                 \u001b[2m            \u001b[0m\n",
       "\u001b[2;36m                    \u001b[0m           algo-\u001b[1;36m1\u001b[0m-3a417:                                                           \u001b[2m            \u001b[0m\n",
       "\u001b[2;36m                    \u001b[0m             container_name: bxv04ux6ve-algo-\u001b[1;36m1\u001b[0m-3a417                               \u001b[2m            \u001b[0m\n",
       "\u001b[2;36m                    \u001b[0m             entrypoint:                                                           \u001b[2m            \u001b[0m\n",
       "\u001b[2;36m                    \u001b[0m             - python3                                                             \u001b[2m            \u001b[0m\n",
       "\u001b[2;36m                    \u001b[0m             - \u001b[38;2;225;0;225m/opt/ml/processing/input/code/\u001b[0m\u001b[38;2;225;0;225mpreprocess.py\u001b[0m                         \u001b[2m            \u001b[0m\n",
       "\u001b[2;36m                    \u001b[0m             environment:                                                          \u001b[2m            \u001b[0m\n",
       "\u001b[2;36m                    \u001b[0m             - \u001b[38;2;0;135;0m'\u001b[0m\u001b[1;38;2;0;135;0m[\u001b[0m\u001b[38;2;0;135;0mMasked\u001b[0m\u001b[1;38;2;0;135;0m]\u001b[0m\u001b[38;2;0;135;0m'\u001b[0m                                                          \u001b[2m            \u001b[0m\n",
       "\u001b[2;36m                    \u001b[0m             - \u001b[38;2;0;135;0m'\u001b[0m\u001b[1;38;2;0;135;0m[\u001b[0m\u001b[38;2;0;135;0mMasked\u001b[0m\u001b[1;38;2;0;135;0m]\u001b[0m\u001b[38;2;0;135;0m'\u001b[0m                                                          \u001b[2m            \u001b[0m\n",
       "\u001b[2;36m                    \u001b[0m             image: tourism-preprocessing:latest                                   \u001b[2m            \u001b[0m\n",
       "\u001b[2;36m                    \u001b[0m             networks:                                                             \u001b[2m            \u001b[0m\n",
       "\u001b[2;36m                    \u001b[0m               sagemaker-local:                                                    \u001b[2m            \u001b[0m\n",
       "\u001b[2;36m                    \u001b[0m                 aliases:                                                          \u001b[2m            \u001b[0m\n",
       "\u001b[2;36m                    \u001b[0m                 - algo-\u001b[1;36m1\u001b[0m-3a417                                                    \u001b[2m            \u001b[0m\n",
       "\u001b[2;36m                    \u001b[0m             stdin_open: true                                                      \u001b[2m            \u001b[0m\n",
       "\u001b[2;36m                    \u001b[0m             tty: true                                                             \u001b[2m            \u001b[0m\n",
       "\u001b[2;36m                    \u001b[0m             volumes:                                                              \u001b[2m            \u001b[0m\n",
       "\u001b[2;36m                    \u001b[0m             -                                                                     \u001b[2m            \u001b[0m\n",
       "\u001b[2;36m                    \u001b[0m         C:\\Users\\hohoy\\AppData\\Local\\Temp\\tmp8vrim7fk\\algo-\u001b[1;36m1\u001b[0m-3a417\\config:\u001b[38;2;225;0;225m/opt/ml\u001b[0m \u001b[2m            \u001b[0m\n",
       "\u001b[2;36m                    \u001b[0m         \u001b[38;2;225;0;225m/\u001b[0m\u001b[38;2;225;0;225mconfig\u001b[0m                                                                   \u001b[2m            \u001b[0m\n",
       "\u001b[2;36m                    \u001b[0m             -                                                                     \u001b[2m            \u001b[0m\n",
       "\u001b[2;36m                    \u001b[0m         C:\\Users\\hohoy\\AppData\\Local\\Temp\\tmp8vrim7fk\\algo-\u001b[1;36m1\u001b[0m-3a417\\output:\u001b[38;2;225;0;225m/opt/ml\u001b[0m \u001b[2m            \u001b[0m\n",
       "\u001b[2;36m                    \u001b[0m         \u001b[38;2;225;0;225m/\u001b[0m\u001b[38;2;225;0;225moutput\u001b[0m                                                                   \u001b[2m            \u001b[0m\n",
       "\u001b[2;36m                    \u001b[0m             -                                                                     \u001b[2m            \u001b[0m\n",
       "\u001b[2;36m                    \u001b[0m         C:\\Users\\hohoy\\AppData\\Local\\Temp\\tmpp08hks6k:\u001b[38;2;225;0;225m/opt/ml/processing/\u001b[0m\u001b[38;2;225;0;225minput\u001b[0m    \u001b[2m            \u001b[0m\n",
       "\u001b[2;36m                    \u001b[0m             -                                                                     \u001b[2m            \u001b[0m\n",
       "\u001b[2;36m                    \u001b[0m         C:\\Users\\hohoy\\AppData\\Local\\Temp\\tmpzgl1w223:\u001b[38;2;225;0;225m/opt/ml/processing/input/\u001b[0m\u001b[38;2;225;0;225mco\u001b[0m \u001b[2m            \u001b[0m\n",
       "\u001b[2;36m                    \u001b[0m         \u001b[38;2;225;0;225mde\u001b[0m                                                                        \u001b[2m            \u001b[0m\n",
       "\u001b[2;36m                    \u001b[0m             -                                                                     \u001b[2m            \u001b[0m\n",
       "\u001b[2;36m                    \u001b[0m         C:\\Users\\hohoy\\AppData\\Local\\Temp\\tmph40c5bc2\\output\\train:\u001b[38;2;225;0;225m/opt/ml/proces\u001b[0m \u001b[2m            \u001b[0m\n",
       "\u001b[2;36m                    \u001b[0m         \u001b[38;2;225;0;225msing/\u001b[0m\u001b[38;2;225;0;225mtrain\u001b[0m                                                                \u001b[2m            \u001b[0m\n",
       "\u001b[2;36m                    \u001b[0m             -                                                                     \u001b[2m            \u001b[0m\n",
       "\u001b[2;36m                    \u001b[0m         C:\\Users\\hohoy\\AppData\\Local\\Temp\\tmph40c5bc2\\output\\test:\u001b[38;2;225;0;225m/opt/ml/process\u001b[0m \u001b[2m            \u001b[0m\n",
       "\u001b[2;36m                    \u001b[0m         \u001b[38;2;225;0;225ming/\u001b[0m\u001b[38;2;225;0;225mtest\u001b[0m                                                                  \u001b[2m            \u001b[0m\n",
       "\u001b[2;36m                    \u001b[0m             - C:\\Users\\hohoy\\AppData\\Local\\Temp\\tmp8vrim7fk\\shared:\u001b[38;2;225;0;225m/opt/ml/\u001b[0m\u001b[38;2;225;0;225mshared\u001b[0m \u001b[2m            \u001b[0m\n",
       "\u001b[2;36m                    \u001b[0m         version: \u001b[38;2;0;135;0m'2.3'\u001b[0m                                                            \u001b[2m            \u001b[0m\n",
       "\u001b[2;36m                    \u001b[0m                                                                                   \u001b[2m            \u001b[0m\n"
      ]
     },
     "metadata": {},
     "output_type": "display_data"
    },
    {
     "data": {
      "text/html": [
       "<pre style=\"white-space:pre;overflow-x:auto;line-height:normal;font-family:Menlo,'DejaVu Sans Mono',consolas,'Courier New',monospace\"><span style=\"color: #7fbfbf; text-decoration-color: #7fbfbf\">                    </span><span style=\"color: #0069ff; text-decoration-color: #0069ff; font-weight: bold\">INFO    </span> docker command: docker compose -f                                         <a href=\"file://c:\\Users\\hohoy\\OneDrive\\Desktop\\sagemaker-ncf-mlflow\\.venv\\Lib\\site-packages\\sagemaker\\local\\image.py\" target=\"_blank\"><span style=\"color: #7f7f7f; text-decoration-color: #7f7f7f\">image.py</span></a><span style=\"color: #7f7f7f; text-decoration-color: #7f7f7f\">:</span><a href=\"file://c:\\Users\\hohoy\\OneDrive\\Desktop\\sagemaker-ncf-mlflow\\.venv\\Lib\\site-packages\\sagemaker\\local\\image.py#805\" target=\"_blank\"><span style=\"color: #7f7f7f; text-decoration-color: #7f7f7f\">805</span></a>\n",
       "<span style=\"color: #7fbfbf; text-decoration-color: #7fbfbf\">                    </span>         C:\\Users\\hohoy\\AppData\\Local\\Temp\\tmp8vrim7fk\\docker-compose.yaml up      <span style=\"color: #7f7f7f; text-decoration-color: #7f7f7f\">            </span>\n",
       "<span style=\"color: #7fbfbf; text-decoration-color: #7fbfbf\">                    </span>         --build --abort-on-container-exit                                         <span style=\"color: #7f7f7f; text-decoration-color: #7f7f7f\">            </span>\n",
       "</pre>\n"
      ],
      "text/plain": [
       "\u001b[2;36m                   \u001b[0m\u001b[2;36m \u001b[0m\u001b[1;38;2;0;105;255mINFO    \u001b[0m docker command: docker compose -f                                         \u001b]8;id=419555;file://c:\\Users\\hohoy\\OneDrive\\Desktop\\sagemaker-ncf-mlflow\\.venv\\Lib\\site-packages\\sagemaker\\local\\image.py\u001b\\\u001b[2mimage.py\u001b[0m\u001b]8;;\u001b\\\u001b[2m:\u001b[0m\u001b]8;id=109022;file://c:\\Users\\hohoy\\OneDrive\\Desktop\\sagemaker-ncf-mlflow\\.venv\\Lib\\site-packages\\sagemaker\\local\\image.py#805\u001b\\\u001b[2m805\u001b[0m\u001b]8;;\u001b\\\n",
       "\u001b[2;36m                    \u001b[0m         C:\\Users\\hohoy\\AppData\\Local\\Temp\\tmp8vrim7fk\\docker-compose.yaml up      \u001b[2m            \u001b[0m\n",
       "\u001b[2;36m                    \u001b[0m         --build --abort-on-container-exit                                         \u001b[2m            \u001b[0m\n"
      ]
     },
     "metadata": {},
     "output_type": "display_data"
    },
    {
     "name": "stdout",
     "output_type": "stream",
     "text": [
      "time=\"2025-02-16T22:30:35+08:00\" level=warning msg=\"C:\\\\Users\\\\hohoy\\\\AppData\\\\Local\\\\Temp\\\\tmp8vrim7fk\\\\docker-compose.yaml: `version` is obsolete\"\n",
      "time=\"2025-02-16T22:30:35+08:00\" level=warning msg=\"a network with name sagemaker-local exists but was not created for project \\\"tmp8vrim7fk\\\".\\nSet `external: true` to use an existing network\"\n",
      " Container bxv04ux6ve-algo-1-3a417  Creating\n",
      " Container bxv04ux6ve-algo-1-3a417  Created\n",
      "Attaching to bxv04ux6ve-algo-1-3a417\n",
      "bxv04ux6ve-algo-1-3a417  | code\n",
      "bxv04ux6ve-algo-1-3a417  | placeholder.py\n",
      "bxv04ux6ve-algo-1-3a417  | tourism_dataset_5000.csv\n",
      "bxv04ux6ve-algo-1-3a417  | /opt/ml/processing/input/code/preprocess.py:38: FutureWarning: A value is trying to be set on a copy of a DataFrame or Series through chained assignment using an inplace method.\n",
      "bxv04ux6ve-algo-1-3a417  | The behavior will change in pandas 3.0. This inplace method will never work because the intermediate object on which we are setting values always behaves as a copy.\n",
      "bxv04ux6ve-algo-1-3a417  | \n",
      "bxv04ux6ve-algo-1-3a417  | For example, when doing 'df[col].method(value, inplace=True)', try using 'df.method({col: value}, inplace=True)' or df[col] = df[col].method(value) instead, to perform the operation inplace on the original object.\n",
      "bxv04ux6ve-algo-1-3a417  | \n",
      "bxv04ux6ve-algo-1-3a417  | \n",
      "bxv04ux6ve-algo-1-3a417  |   df_clean['Age'].fillna(df_clean['Age'].median(), inplace=True)\n",
      "bxv04ux6ve-algo-1-3a417  | /opt/ml/processing/input/code/preprocess.py:39: FutureWarning: A value is trying to be set on a copy of a DataFrame or Series through chained assignment using an inplace method.\n",
      "bxv04ux6ve-algo-1-3a417  | The behavior will change in pandas 3.0. This inplace method will never work because the intermediate object on which we are setting values always behaves as a copy.\n",
      "bxv04ux6ve-algo-1-3a417  | \n",
      "bxv04ux6ve-algo-1-3a417  | For example, when doing 'df[col].method(value, inplace=True)', try using 'df.method({col: value}, inplace=True)' or df[col] = df[col].method(value) instead, to perform the operation inplace on the original object.\n",
      "bxv04ux6ve-algo-1-3a417  | \n",
      "bxv04ux6ve-algo-1-3a417  | \n",
      "bxv04ux6ve-algo-1-3a417  |   df_clean['Tourist Rating'].fillna(df_clean['Tourist Rating'].mean(), inplace=True)\n",
      "bxv04ux6ve-algo-1-3a417  | Saving Done\n",
      "\u001b[Kbxv04ux6ve-algo-1-3a417 exited with code 0\n",
      "Aborting on container exit...\n",
      " Container bxv04ux6ve-algo-1-3a417  Stopping\n",
      " Container bxv04ux6ve-algo-1-3a417  Stopped\n"
     ]
    },
    {
     "data": {
      "text/html": [
       "<pre style=\"white-space:pre;overflow-x:auto;line-height:normal;font-family:Menlo,'DejaVu Sans Mono',consolas,'Courier New',monospace\"><span style=\"color: #7fbfbf; text-decoration-color: #7fbfbf\">[02/16/25 22:30:38] </span><span style=\"color: #0069ff; text-decoration-color: #0069ff; font-weight: bold\">INFO    </span> ===== Job Complete =====                                                  <a href=\"file://c:\\Users\\hohoy\\OneDrive\\Desktop\\sagemaker-ncf-mlflow\\.venv\\Lib\\site-packages\\sagemaker\\local\\image.py\" target=\"_blank\"><span style=\"color: #7f7f7f; text-decoration-color: #7f7f7f\">image.py</span></a><span style=\"color: #7f7f7f; text-decoration-color: #7f7f7f\">:</span><a href=\"file://c:\\Users\\hohoy\\OneDrive\\Desktop\\sagemaker-ncf-mlflow\\.venv\\Lib\\site-packages\\sagemaker\\local\\image.py#250\" target=\"_blank\"><span style=\"color: #7f7f7f; text-decoration-color: #7f7f7f\">250</span></a>\n",
       "</pre>\n"
      ],
      "text/plain": [
       "\u001b[2;36m[02/16/25 22:30:38]\u001b[0m\u001b[2;36m \u001b[0m\u001b[1;38;2;0;105;255mINFO    \u001b[0m ===== Job Complete =====                                                  \u001b]8;id=82650;file://c:\\Users\\hohoy\\OneDrive\\Desktop\\sagemaker-ncf-mlflow\\.venv\\Lib\\site-packages\\sagemaker\\local\\image.py\u001b\\\u001b[2mimage.py\u001b[0m\u001b]8;;\u001b\\\u001b[2m:\u001b[0m\u001b]8;id=101694;file://c:\\Users\\hohoy\\OneDrive\\Desktop\\sagemaker-ncf-mlflow\\.venv\\Lib\\site-packages\\sagemaker\\local\\image.py#250\u001b\\\u001b[2m250\u001b[0m\u001b]8;;\u001b\\\n"
      ]
     },
     "metadata": {},
     "output_type": "display_data"
    }
   ],
   "source": [
    "# Build preprocessing container\n",
    "!docker build -t tourism-preprocessing ./preprocessing/\n",
    "\n",
    "from sagemaker.local import LocalSession\n",
    "import os\n",
    "\n",
    "# Create local output directories\n",
    "os.makedirs('output/train', exist_ok=True)\n",
    "os.makedirs('output/test', exist_ok=True)\n",
    "\n",
    "sagemaker_session = LocalSession()\n",
    "sagemaker_session.config = {'local': {'local_code': False}}\n",
    "\n",
    "# Create processor\n",
    "processor = ScriptProcessor(\n",
    "    command=['python3'],\n",
    "    image_uri='tourism-preprocessing:latest',\n",
    "    role=role,\n",
    "    instance_count=1,\n",
    "    instance_type='local'\n",
    ")\n",
    "\n",
    "\n",
    "# Run preprocessing job\n",
    "processor.run(\n",
    "    code='preprocessing/preprocess.py',\n",
    "    inputs=[\n",
    "        ProcessingInput(\n",
    "            source='data',\n",
    "            destination=\"/opt/ml/processing/input\"\n",
    "        )\n",
    "    ],\n",
    "    outputs=[\n",
    "        ProcessingOutput(\n",
    "            output_name='train',\n",
    "            source='/opt/ml/processing/train',\n",
    "            destination='output/train'\n",
    "        ),\n",
    "        ProcessingOutput(\n",
    "            output_name='test',\n",
    "            source='/opt/ml/processing/test',\n",
    "            destination='output/test'\n",
    "        )\n",
    "    ]\n",
    ")"
   ]
  },
  {
   "cell_type": "markdown",
   "metadata": {},
   "source": [
    "## Verify Processed Data"
   ]
  },
  {
   "cell_type": "code",
   "execution_count": 45,
   "metadata": {},
   "outputs": [
    {
     "data": {
      "text/html": [
       "<pre style=\"white-space:pre;overflow-x:auto;line-height:normal;font-family:Menlo,'DejaVu Sans Mono',consolas,'Courier New',monospace\"><span style=\"color: #ff0000; text-decoration-color: #ff0000\">╭─────────────────────────────── </span><span style=\"color: #ff0000; text-decoration-color: #ff0000; font-weight: bold\">Traceback </span><span style=\"color: #ff7f7f; text-decoration-color: #ff7f7f; font-weight: bold\">(most recent call last)</span><span style=\"color: #ff0000; text-decoration-color: #ff0000\"> ────────────────────────────────╮</span>\n",
       "<span style=\"color: #ff0000; text-decoration-color: #ff0000\">│</span> in <span style=\"color: #00ff00; text-decoration-color: #00ff00\">&lt;module&gt;</span>:<span style=\"color: #0000ff; text-decoration-color: #0000ff\">2</span>                                                                                    <span style=\"color: #ff0000; text-decoration-color: #ff0000\">│</span>\n",
       "<span style=\"color: #ff0000; text-decoration-color: #ff0000\">│</span>                                                                                                  <span style=\"color: #ff0000; text-decoration-color: #ff0000\">│</span>\n",
       "<span style=\"color: #ff0000; text-decoration-color: #ff0000\">│</span>   <span style=\"color: #7f7f7f; text-decoration-color: #7f7f7f\"> 1 # Load and examine processed data</span>                                                           <span style=\"color: #ff0000; text-decoration-color: #ff0000\">│</span>\n",
       "<span style=\"color: #ff0000; text-decoration-color: #ff0000\">│</span> <span style=\"color: #800000; text-decoration-color: #800000\">❱ </span> 2 train_data = <span style=\"font-weight: bold; text-decoration: underline\">pd.read_csv(</span><span style=\"color: #808000; text-decoration-color: #808000; font-weight: bold; text-decoration: underline\">'output/train/train.csv'</span><span style=\"font-weight: bold; text-decoration: underline\">)</span>                                          <span style=\"color: #ff0000; text-decoration-color: #ff0000\">│</span>\n",
       "<span style=\"color: #ff0000; text-decoration-color: #ff0000\">│</span>   <span style=\"color: #7f7f7f; text-decoration-color: #7f7f7f\"> 3 </span>test_data = pd.read_csv(<span style=\"color: #808000; text-decoration-color: #808000\">'output/test/test.csv'</span>)                                             <span style=\"color: #ff0000; text-decoration-color: #ff0000\">│</span>\n",
       "<span style=\"color: #ff0000; text-decoration-color: #ff0000\">│</span>   <span style=\"color: #7f7f7f; text-decoration-color: #7f7f7f\"> 4 </span>                                                                                            <span style=\"color: #ff0000; text-decoration-color: #ff0000\">│</span>\n",
       "<span style=\"color: #ff0000; text-decoration-color: #ff0000\">│</span>   <span style=\"color: #7f7f7f; text-decoration-color: #7f7f7f\"> 5 </span><span style=\"color: #00ffff; text-decoration-color: #00ffff\">print</span>(<span style=\"color: #808000; text-decoration-color: #808000\">\"Training data shape:\"</span>, train_data.shape)                                             <span style=\"color: #ff0000; text-decoration-color: #ff0000\">│</span>\n",
       "<span style=\"color: #ff0000; text-decoration-color: #ff0000\">│</span>                                                                                                  <span style=\"color: #ff0000; text-decoration-color: #ff0000\">│</span>\n",
       "<span style=\"color: #ff0000; text-decoration-color: #ff0000\">│</span> <span style=\"color: #808000; text-decoration-color: #808000\">c:\\Users\\hohoy\\OneDrive\\Desktop\\sagemaker-ncf-mlflow\\.venv\\Lib\\site-packages\\pandas\\io\\parsers\\r</span> <span style=\"color: #ff0000; text-decoration-color: #ff0000\">│</span>\n",
       "<span style=\"color: #ff0000; text-decoration-color: #ff0000\">│</span> <span style=\"color: #808000; text-decoration-color: #808000\">eaders.py</span>:<span style=\"color: #0000ff; text-decoration-color: #0000ff\">1026</span> in <span style=\"color: #00ff00; text-decoration-color: #00ff00\">read_csv</span>                                                                       <span style=\"color: #ff0000; text-decoration-color: #ff0000\">│</span>\n",
       "<span style=\"color: #ff0000; text-decoration-color: #ff0000\">│</span>                                                                                                  <span style=\"color: #ff0000; text-decoration-color: #ff0000\">│</span>\n",
       "<span style=\"color: #ff0000; text-decoration-color: #ff0000\">│</span>   <span style=\"color: #7f7f7f; text-decoration-color: #7f7f7f\">1023 </span><span style=\"color: #7f7f7f; text-decoration-color: #7f7f7f\">│   </span>)                                                                                     <span style=\"color: #ff0000; text-decoration-color: #ff0000\">│</span>\n",
       "<span style=\"color: #ff0000; text-decoration-color: #ff0000\">│</span>   <span style=\"color: #7f7f7f; text-decoration-color: #7f7f7f\">1024 </span><span style=\"color: #7f7f7f; text-decoration-color: #7f7f7f\">│   </span>kwds.update(kwds_defaults)                                                            <span style=\"color: #ff0000; text-decoration-color: #ff0000\">│</span>\n",
       "<span style=\"color: #ff0000; text-decoration-color: #ff0000\">│</span>   <span style=\"color: #7f7f7f; text-decoration-color: #7f7f7f\">1025 </span><span style=\"color: #7f7f7f; text-decoration-color: #7f7f7f\">│   </span>                                                                                      <span style=\"color: #ff0000; text-decoration-color: #ff0000\">│</span>\n",
       "<span style=\"color: #ff0000; text-decoration-color: #ff0000\">│</span> <span style=\"color: #800000; text-decoration-color: #800000\">❱ </span>1026 <span style=\"color: #7f7f7f; text-decoration-color: #7f7f7f\">│   </span><span style=\"color: #0000ff; text-decoration-color: #0000ff\">return</span> <span style=\"font-weight: bold; text-decoration: underline\">_read(filepath_or_buffer, kwds)</span>                                                <span style=\"color: #ff0000; text-decoration-color: #ff0000\">│</span>\n",
       "<span style=\"color: #ff0000; text-decoration-color: #ff0000\">│</span>   <span style=\"color: #7f7f7f; text-decoration-color: #7f7f7f\">1027 </span>                                                                                          <span style=\"color: #ff0000; text-decoration-color: #ff0000\">│</span>\n",
       "<span style=\"color: #ff0000; text-decoration-color: #ff0000\">│</span>   <span style=\"color: #7f7f7f; text-decoration-color: #7f7f7f\">1028 </span>                                                                                          <span style=\"color: #ff0000; text-decoration-color: #ff0000\">│</span>\n",
       "<span style=\"color: #ff0000; text-decoration-color: #ff0000\">│</span>   <span style=\"color: #7f7f7f; text-decoration-color: #7f7f7f\">1029 # iterator=True -&gt; TextFileReader</span>                                                         <span style=\"color: #ff0000; text-decoration-color: #ff0000\">│</span>\n",
       "<span style=\"color: #ff0000; text-decoration-color: #ff0000\">│</span>                                                                                                  <span style=\"color: #ff0000; text-decoration-color: #ff0000\">│</span>\n",
       "<span style=\"color: #ff0000; text-decoration-color: #ff0000\">│</span> <span style=\"color: #808000; text-decoration-color: #808000\">c:\\Users\\hohoy\\OneDrive\\Desktop\\sagemaker-ncf-mlflow\\.venv\\Lib\\site-packages\\pandas\\io\\parsers\\r</span> <span style=\"color: #ff0000; text-decoration-color: #ff0000\">│</span>\n",
       "<span style=\"color: #ff0000; text-decoration-color: #ff0000\">│</span> <span style=\"color: #808000; text-decoration-color: #808000\">eaders.py</span>:<span style=\"color: #0000ff; text-decoration-color: #0000ff\">620</span> in <span style=\"color: #00ff00; text-decoration-color: #00ff00\">_read</span>                                                                           <span style=\"color: #ff0000; text-decoration-color: #ff0000\">│</span>\n",
       "<span style=\"color: #ff0000; text-decoration-color: #ff0000\">│</span>                                                                                                  <span style=\"color: #ff0000; text-decoration-color: #ff0000\">│</span>\n",
       "<span style=\"color: #ff0000; text-decoration-color: #ff0000\">│</span>   <span style=\"color: #7f7f7f; text-decoration-color: #7f7f7f\"> 617 </span><span style=\"color: #7f7f7f; text-decoration-color: #7f7f7f\">│   </span>_validate_names(kwds.get(<span style=\"color: #808000; text-decoration-color: #808000\">\"names\"</span>, <span style=\"color: #0000ff; text-decoration-color: #0000ff\">None</span>))                                              <span style=\"color: #ff0000; text-decoration-color: #ff0000\">│</span>\n",
       "<span style=\"color: #ff0000; text-decoration-color: #ff0000\">│</span>   <span style=\"color: #7f7f7f; text-decoration-color: #7f7f7f\"> 618 </span><span style=\"color: #7f7f7f; text-decoration-color: #7f7f7f\">│   </span>                                                                                      <span style=\"color: #ff0000; text-decoration-color: #ff0000\">│</span>\n",
       "<span style=\"color: #ff0000; text-decoration-color: #ff0000\">│</span>   <span style=\"color: #7f7f7f; text-decoration-color: #7f7f7f\"> 619 </span><span style=\"color: #7f7f7f; text-decoration-color: #7f7f7f\">│   </span><span style=\"color: #7f7f7f; text-decoration-color: #7f7f7f\"># Create the parser.</span>                                                                  <span style=\"color: #ff0000; text-decoration-color: #ff0000\">│</span>\n",
       "<span style=\"color: #ff0000; text-decoration-color: #ff0000\">│</span> <span style=\"color: #800000; text-decoration-color: #800000\">❱ </span> 620 <span style=\"color: #7f7f7f; text-decoration-color: #7f7f7f\">│   </span>parser = <span style=\"font-weight: bold; text-decoration: underline\">TextFileReader(filepath_or_buffer, **kwds)</span>                                   <span style=\"color: #ff0000; text-decoration-color: #ff0000\">│</span>\n",
       "<span style=\"color: #ff0000; text-decoration-color: #ff0000\">│</span>   <span style=\"color: #7f7f7f; text-decoration-color: #7f7f7f\"> 621 </span><span style=\"color: #7f7f7f; text-decoration-color: #7f7f7f\">│   </span>                                                                                      <span style=\"color: #ff0000; text-decoration-color: #ff0000\">│</span>\n",
       "<span style=\"color: #ff0000; text-decoration-color: #ff0000\">│</span>   <span style=\"color: #7f7f7f; text-decoration-color: #7f7f7f\"> 622 </span><span style=\"color: #7f7f7f; text-decoration-color: #7f7f7f\">│   </span><span style=\"color: #0000ff; text-decoration-color: #0000ff\">if</span> chunksize <span style=\"color: #ff00ff; text-decoration-color: #ff00ff\">or</span> iterator:                                                             <span style=\"color: #ff0000; text-decoration-color: #ff0000\">│</span>\n",
       "<span style=\"color: #ff0000; text-decoration-color: #ff0000\">│</span>   <span style=\"color: #7f7f7f; text-decoration-color: #7f7f7f\"> 623 </span><span style=\"color: #7f7f7f; text-decoration-color: #7f7f7f\">│   │   </span><span style=\"color: #0000ff; text-decoration-color: #0000ff\">return</span> parser                                                                     <span style=\"color: #ff0000; text-decoration-color: #ff0000\">│</span>\n",
       "<span style=\"color: #ff0000; text-decoration-color: #ff0000\">│</span>                                                                                                  <span style=\"color: #ff0000; text-decoration-color: #ff0000\">│</span>\n",
       "<span style=\"color: #ff0000; text-decoration-color: #ff0000\">│</span> <span style=\"color: #808000; text-decoration-color: #808000\">c:\\Users\\hohoy\\OneDrive\\Desktop\\sagemaker-ncf-mlflow\\.venv\\Lib\\site-packages\\pandas\\io\\parsers\\r</span> <span style=\"color: #ff0000; text-decoration-color: #ff0000\">│</span>\n",
       "<span style=\"color: #ff0000; text-decoration-color: #ff0000\">│</span> <span style=\"color: #808000; text-decoration-color: #808000\">eaders.py</span>:<span style=\"color: #0000ff; text-decoration-color: #0000ff\">1620</span> in <span style=\"color: #00ff00; text-decoration-color: #00ff00\">__init__</span>                                                                       <span style=\"color: #ff0000; text-decoration-color: #ff0000\">│</span>\n",
       "<span style=\"color: #ff0000; text-decoration-color: #ff0000\">│</span>                                                                                                  <span style=\"color: #ff0000; text-decoration-color: #ff0000\">│</span>\n",
       "<span style=\"color: #ff0000; text-decoration-color: #ff0000\">│</span>   <span style=\"color: #7f7f7f; text-decoration-color: #7f7f7f\">1617 </span><span style=\"color: #7f7f7f; text-decoration-color: #7f7f7f\">│   │   │   </span><span style=\"color: #00ffff; text-decoration-color: #00ffff\">self</span>.options[<span style=\"color: #808000; text-decoration-color: #808000\">\"has_index_names\"</span>] = kwds[<span style=\"color: #808000; text-decoration-color: #808000\">\"has_index_names\"</span>]                     <span style=\"color: #ff0000; text-decoration-color: #ff0000\">│</span>\n",
       "<span style=\"color: #ff0000; text-decoration-color: #ff0000\">│</span>   <span style=\"color: #7f7f7f; text-decoration-color: #7f7f7f\">1618 </span><span style=\"color: #7f7f7f; text-decoration-color: #7f7f7f\">│   │   </span>                                                                                  <span style=\"color: #ff0000; text-decoration-color: #ff0000\">│</span>\n",
       "<span style=\"color: #ff0000; text-decoration-color: #ff0000\">│</span>   <span style=\"color: #7f7f7f; text-decoration-color: #7f7f7f\">1619 </span><span style=\"color: #7f7f7f; text-decoration-color: #7f7f7f\">│   │   </span><span style=\"color: #00ffff; text-decoration-color: #00ffff\">self</span>.handles: IOHandles | <span style=\"color: #0000ff; text-decoration-color: #0000ff\">None</span> = <span style=\"color: #0000ff; text-decoration-color: #0000ff\">None</span>                                             <span style=\"color: #ff0000; text-decoration-color: #ff0000\">│</span>\n",
       "<span style=\"color: #ff0000; text-decoration-color: #ff0000\">│</span> <span style=\"color: #800000; text-decoration-color: #800000\">❱ </span>1620 <span style=\"color: #7f7f7f; text-decoration-color: #7f7f7f\">│   │   </span><span style=\"color: #00ffff; text-decoration-color: #00ffff\">self</span>._engine = <span style=\"color: #00ffff; text-decoration-color: #00ffff; font-weight: bold; text-decoration: underline\">self</span><span style=\"font-weight: bold; text-decoration: underline\">._make_engine(f, </span><span style=\"color: #00ffff; text-decoration-color: #00ffff; font-weight: bold; text-decoration: underline\">self</span><span style=\"font-weight: bold; text-decoration: underline\">.engine)</span>                                  <span style=\"color: #ff0000; text-decoration-color: #ff0000\">│</span>\n",
       "<span style=\"color: #ff0000; text-decoration-color: #ff0000\">│</span>   <span style=\"color: #7f7f7f; text-decoration-color: #7f7f7f\">1621 </span><span style=\"color: #7f7f7f; text-decoration-color: #7f7f7f\">│   </span>                                                                                      <span style=\"color: #ff0000; text-decoration-color: #ff0000\">│</span>\n",
       "<span style=\"color: #ff0000; text-decoration-color: #ff0000\">│</span>   <span style=\"color: #7f7f7f; text-decoration-color: #7f7f7f\">1622 </span><span style=\"color: #7f7f7f; text-decoration-color: #7f7f7f\">│   </span><span style=\"color: #0000ff; text-decoration-color: #0000ff\">def</span><span style=\"color: #808080; text-decoration-color: #808080\"> </span><span style=\"color: #00ff00; text-decoration-color: #00ff00\">close</span>(<span style=\"color: #00ffff; text-decoration-color: #00ffff\">self</span>) -&gt; <span style=\"color: #0000ff; text-decoration-color: #0000ff\">None</span>:                                                              <span style=\"color: #ff0000; text-decoration-color: #ff0000\">│</span>\n",
       "<span style=\"color: #ff0000; text-decoration-color: #ff0000\">│</span>   <span style=\"color: #7f7f7f; text-decoration-color: #7f7f7f\">1623 </span><span style=\"color: #7f7f7f; text-decoration-color: #7f7f7f\">│   │   </span><span style=\"color: #0000ff; text-decoration-color: #0000ff\">if</span> <span style=\"color: #00ffff; text-decoration-color: #00ffff\">self</span>.handles <span style=\"color: #ff00ff; text-decoration-color: #ff00ff\">is</span> <span style=\"color: #ff00ff; text-decoration-color: #ff00ff\">not</span> <span style=\"color: #0000ff; text-decoration-color: #0000ff\">None</span>:                                                      <span style=\"color: #ff0000; text-decoration-color: #ff0000\">│</span>\n",
       "<span style=\"color: #ff0000; text-decoration-color: #ff0000\">│</span>                                                                                                  <span style=\"color: #ff0000; text-decoration-color: #ff0000\">│</span>\n",
       "<span style=\"color: #ff0000; text-decoration-color: #ff0000\">│</span> <span style=\"color: #808000; text-decoration-color: #808000\">c:\\Users\\hohoy\\OneDrive\\Desktop\\sagemaker-ncf-mlflow\\.venv\\Lib\\site-packages\\pandas\\io\\parsers\\r</span> <span style=\"color: #ff0000; text-decoration-color: #ff0000\">│</span>\n",
       "<span style=\"color: #ff0000; text-decoration-color: #ff0000\">│</span> <span style=\"color: #808000; text-decoration-color: #808000\">eaders.py</span>:<span style=\"color: #0000ff; text-decoration-color: #0000ff\">1880</span> in <span style=\"color: #00ff00; text-decoration-color: #00ff00\">_make_engine</span>                                                                   <span style=\"color: #ff0000; text-decoration-color: #ff0000\">│</span>\n",
       "<span style=\"color: #ff0000; text-decoration-color: #ff0000\">│</span>                                                                                                  <span style=\"color: #ff0000; text-decoration-color: #ff0000\">│</span>\n",
       "<span style=\"color: #ff0000; text-decoration-color: #ff0000\">│</span>   <span style=\"color: #7f7f7f; text-decoration-color: #7f7f7f\">1877 </span><span style=\"color: #7f7f7f; text-decoration-color: #7f7f7f\">│   │   │   │   </span>is_text = <span style=\"color: #0000ff; text-decoration-color: #0000ff\">False</span>                                                           <span style=\"color: #ff0000; text-decoration-color: #ff0000\">│</span>\n",
       "<span style=\"color: #ff0000; text-decoration-color: #ff0000\">│</span>   <span style=\"color: #7f7f7f; text-decoration-color: #7f7f7f\">1878 </span><span style=\"color: #7f7f7f; text-decoration-color: #7f7f7f\">│   │   │   │   </span><span style=\"color: #0000ff; text-decoration-color: #0000ff\">if</span> <span style=\"color: #808000; text-decoration-color: #808000\">\"b\"</span> <span style=\"color: #ff00ff; text-decoration-color: #ff00ff\">not</span> <span style=\"color: #ff00ff; text-decoration-color: #ff00ff\">in</span> mode:                                                       <span style=\"color: #ff0000; text-decoration-color: #ff0000\">│</span>\n",
       "<span style=\"color: #ff0000; text-decoration-color: #ff0000\">│</span>   <span style=\"color: #7f7f7f; text-decoration-color: #7f7f7f\">1879 </span><span style=\"color: #7f7f7f; text-decoration-color: #7f7f7f\">│   │   │   │   │   </span>mode += <span style=\"color: #808000; text-decoration-color: #808000\">\"b\"</span>                                                           <span style=\"color: #ff0000; text-decoration-color: #ff0000\">│</span>\n",
       "<span style=\"color: #ff0000; text-decoration-color: #ff0000\">│</span> <span style=\"color: #800000; text-decoration-color: #800000\">❱ </span>1880 <span style=\"color: #7f7f7f; text-decoration-color: #7f7f7f\">│   │   │   </span><span style=\"color: #00ffff; text-decoration-color: #00ffff\">self</span>.handles = get_handle(                                                    <span style=\"color: #ff0000; text-decoration-color: #ff0000\">│</span>\n",
       "<span style=\"color: #ff0000; text-decoration-color: #ff0000\">│</span>   <span style=\"color: #7f7f7f; text-decoration-color: #7f7f7f\">1881 </span><span style=\"color: #7f7f7f; text-decoration-color: #7f7f7f\">│   │   │   │   </span>f,                                                                        <span style=\"color: #ff0000; text-decoration-color: #ff0000\">│</span>\n",
       "<span style=\"color: #ff0000; text-decoration-color: #ff0000\">│</span>   <span style=\"color: #7f7f7f; text-decoration-color: #7f7f7f\">1882 </span><span style=\"color: #7f7f7f; text-decoration-color: #7f7f7f\">│   │   │   │   </span>mode,                                                                     <span style=\"color: #ff0000; text-decoration-color: #ff0000\">│</span>\n",
       "<span style=\"color: #ff0000; text-decoration-color: #ff0000\">│</span>   <span style=\"color: #7f7f7f; text-decoration-color: #7f7f7f\">1883 </span><span style=\"color: #7f7f7f; text-decoration-color: #7f7f7f\">│   │   │   │   </span>encoding=<span style=\"color: #00ffff; text-decoration-color: #00ffff\">self</span>.options.get(<span style=\"color: #808000; text-decoration-color: #808000\">\"encoding\"</span>, <span style=\"color: #0000ff; text-decoration-color: #0000ff\">None</span>),                              <span style=\"color: #ff0000; text-decoration-color: #ff0000\">│</span>\n",
       "<span style=\"color: #ff0000; text-decoration-color: #ff0000\">│</span>                                                                                                  <span style=\"color: #ff0000; text-decoration-color: #ff0000\">│</span>\n",
       "<span style=\"color: #ff0000; text-decoration-color: #ff0000\">│</span> <span style=\"color: #808000; text-decoration-color: #808000\">c:\\Users\\hohoy\\OneDrive\\Desktop\\sagemaker-ncf-mlflow\\.venv\\Lib\\site-packages\\pandas\\io\\common.py</span> <span style=\"color: #ff0000; text-decoration-color: #ff0000\">│</span>\n",
       "<span style=\"color: #ff0000; text-decoration-color: #ff0000\">│</span> :<span style=\"color: #0000ff; text-decoration-color: #0000ff\">873</span> in <span style=\"color: #00ff00; text-decoration-color: #00ff00\">get_handle</span>                                                                               <span style=\"color: #ff0000; text-decoration-color: #ff0000\">│</span>\n",
       "<span style=\"color: #ff0000; text-decoration-color: #ff0000\">│</span>                                                                                                  <span style=\"color: #ff0000; text-decoration-color: #ff0000\">│</span>\n",
       "<span style=\"color: #ff0000; text-decoration-color: #ff0000\">│</span>   <span style=\"color: #7f7f7f; text-decoration-color: #7f7f7f\"> 870 </span><span style=\"color: #7f7f7f; text-decoration-color: #7f7f7f\">│   │   </span><span style=\"color: #7f7f7f; text-decoration-color: #7f7f7f\"># Binary mode does not support 'encoding' and 'newline'.</span>                          <span style=\"color: #ff0000; text-decoration-color: #ff0000\">│</span>\n",
       "<span style=\"color: #ff0000; text-decoration-color: #ff0000\">│</span>   <span style=\"color: #7f7f7f; text-decoration-color: #7f7f7f\"> 871 </span><span style=\"color: #7f7f7f; text-decoration-color: #7f7f7f\">│   │   </span><span style=\"color: #0000ff; text-decoration-color: #0000ff\">if</span> ioargs.encoding <span style=\"color: #ff00ff; text-decoration-color: #ff00ff\">and</span> <span style=\"color: #808000; text-decoration-color: #808000\">\"b\"</span> <span style=\"color: #ff00ff; text-decoration-color: #ff00ff\">not</span> <span style=\"color: #ff00ff; text-decoration-color: #ff00ff\">in</span> ioargs.mode:                                    <span style=\"color: #ff0000; text-decoration-color: #ff0000\">│</span>\n",
       "<span style=\"color: #ff0000; text-decoration-color: #ff0000\">│</span>   <span style=\"color: #7f7f7f; text-decoration-color: #7f7f7f\"> 872 </span><span style=\"color: #7f7f7f; text-decoration-color: #7f7f7f\">│   │   │   </span><span style=\"color: #7f7f7f; text-decoration-color: #7f7f7f\"># Encoding</span>                                                                    <span style=\"color: #ff0000; text-decoration-color: #ff0000\">│</span>\n",
       "<span style=\"color: #ff0000; text-decoration-color: #ff0000\">│</span> <span style=\"color: #800000; text-decoration-color: #800000\">❱ </span> 873 <span style=\"color: #7f7f7f; text-decoration-color: #7f7f7f\">│   │   │   </span>handle = <span style=\"color: #00ffff; text-decoration-color: #00ffff\">open</span>(                                                                <span style=\"color: #ff0000; text-decoration-color: #ff0000\">│</span>\n",
       "<span style=\"color: #ff0000; text-decoration-color: #ff0000\">│</span>   <span style=\"color: #7f7f7f; text-decoration-color: #7f7f7f\"> 874 </span><span style=\"color: #7f7f7f; text-decoration-color: #7f7f7f\">│   │   │   │   </span>handle,                                                                   <span style=\"color: #ff0000; text-decoration-color: #ff0000\">│</span>\n",
       "<span style=\"color: #ff0000; text-decoration-color: #ff0000\">│</span>   <span style=\"color: #7f7f7f; text-decoration-color: #7f7f7f\"> 875 </span><span style=\"color: #7f7f7f; text-decoration-color: #7f7f7f\">│   │   │   │   </span>ioargs.mode,                                                              <span style=\"color: #ff0000; text-decoration-color: #ff0000\">│</span>\n",
       "<span style=\"color: #ff0000; text-decoration-color: #ff0000\">│</span>   <span style=\"color: #7f7f7f; text-decoration-color: #7f7f7f\"> 876 </span><span style=\"color: #7f7f7f; text-decoration-color: #7f7f7f\">│   │   │   │   </span>encoding=ioargs.encoding,                                                 <span style=\"color: #ff0000; text-decoration-color: #ff0000\">│</span>\n",
       "<span style=\"color: #ff0000; text-decoration-color: #ff0000\">╰──────────────────────────────────────────────────────────────────────────────────────────────────╯</span>\n",
       "<span style=\"color: #ff0000; text-decoration-color: #ff0000; font-weight: bold\">FileNotFoundError: </span><span style=\"font-weight: bold\">[</span>Errno <span style=\"color: #008080; text-decoration-color: #008080; font-weight: bold\">2</span><span style=\"font-weight: bold\">]</span> No such file or directory: <span style=\"color: #008700; text-decoration-color: #008700\">'output/train/train.csv'</span>\n",
       "</pre>\n"
      ],
      "text/plain": [
       "\u001b[38;2;255;0;0m╭─\u001b[0m\u001b[38;2;255;0;0m──────────────────────────────\u001b[0m\u001b[38;2;255;0;0m \u001b[0m\u001b[1;38;2;255;0;0mTraceback \u001b[0m\u001b[1;2;38;2;255;0;0m(most recent call last)\u001b[0m\u001b[38;2;255;0;0m \u001b[0m\u001b[38;2;255;0;0m───────────────────────────────\u001b[0m\u001b[38;2;255;0;0m─╮\u001b[0m\n",
       "\u001b[38;2;255;0;0m│\u001b[0m in \u001b[92m<module>\u001b[0m:\u001b[94m2\u001b[0m                                                                                    \u001b[38;2;255;0;0m│\u001b[0m\n",
       "\u001b[38;2;255;0;0m│\u001b[0m                                                                                                  \u001b[38;2;255;0;0m│\u001b[0m\n",
       "\u001b[38;2;255;0;0m│\u001b[0m   \u001b[2m 1 \u001b[0m\u001b[2m# Load and examine processed data\u001b[0m                                                           \u001b[38;2;255;0;0m│\u001b[0m\n",
       "\u001b[38;2;255;0;0m│\u001b[0m \u001b[31m❱ \u001b[0m 2 train_data = \u001b[1;4mpd.read_csv(\u001b[0m\u001b[1;4;33m'\u001b[0m\u001b[1;4;33moutput/train/train.csv\u001b[0m\u001b[1;4;33m'\u001b[0m\u001b[1;4m)\u001b[0m                                          \u001b[38;2;255;0;0m│\u001b[0m\n",
       "\u001b[38;2;255;0;0m│\u001b[0m   \u001b[2m 3 \u001b[0mtest_data = pd.read_csv(\u001b[33m'\u001b[0m\u001b[33moutput/test/test.csv\u001b[0m\u001b[33m'\u001b[0m)                                             \u001b[38;2;255;0;0m│\u001b[0m\n",
       "\u001b[38;2;255;0;0m│\u001b[0m   \u001b[2m 4 \u001b[0m                                                                                            \u001b[38;2;255;0;0m│\u001b[0m\n",
       "\u001b[38;2;255;0;0m│\u001b[0m   \u001b[2m 5 \u001b[0m\u001b[96mprint\u001b[0m(\u001b[33m\"\u001b[0m\u001b[33mTraining data shape:\u001b[0m\u001b[33m\"\u001b[0m, train_data.shape)                                             \u001b[38;2;255;0;0m│\u001b[0m\n",
       "\u001b[38;2;255;0;0m│\u001b[0m                                                                                                  \u001b[38;2;255;0;0m│\u001b[0m\n",
       "\u001b[38;2;255;0;0m│\u001b[0m \u001b[33mc:\\Users\\hohoy\\OneDrive\\Desktop\\sagemaker-ncf-mlflow\\.venv\\Lib\\site-packages\\pandas\\io\\parsers\\r\u001b[0m \u001b[38;2;255;0;0m│\u001b[0m\n",
       "\u001b[38;2;255;0;0m│\u001b[0m \u001b[33meaders.py\u001b[0m:\u001b[94m1026\u001b[0m in \u001b[92mread_csv\u001b[0m                                                                       \u001b[38;2;255;0;0m│\u001b[0m\n",
       "\u001b[38;2;255;0;0m│\u001b[0m                                                                                                  \u001b[38;2;255;0;0m│\u001b[0m\n",
       "\u001b[38;2;255;0;0m│\u001b[0m   \u001b[2m1023 \u001b[0m\u001b[2m│   \u001b[0m)                                                                                     \u001b[38;2;255;0;0m│\u001b[0m\n",
       "\u001b[38;2;255;0;0m│\u001b[0m   \u001b[2m1024 \u001b[0m\u001b[2m│   \u001b[0mkwds.update(kwds_defaults)                                                            \u001b[38;2;255;0;0m│\u001b[0m\n",
       "\u001b[38;2;255;0;0m│\u001b[0m   \u001b[2m1025 \u001b[0m\u001b[2m│   \u001b[0m                                                                                      \u001b[38;2;255;0;0m│\u001b[0m\n",
       "\u001b[38;2;255;0;0m│\u001b[0m \u001b[31m❱ \u001b[0m1026 \u001b[2m│   \u001b[0m\u001b[94mreturn\u001b[0m \u001b[1;4m_read(filepath_or_buffer, kwds)\u001b[0m                                                \u001b[38;2;255;0;0m│\u001b[0m\n",
       "\u001b[38;2;255;0;0m│\u001b[0m   \u001b[2m1027 \u001b[0m                                                                                          \u001b[38;2;255;0;0m│\u001b[0m\n",
       "\u001b[38;2;255;0;0m│\u001b[0m   \u001b[2m1028 \u001b[0m                                                                                          \u001b[38;2;255;0;0m│\u001b[0m\n",
       "\u001b[38;2;255;0;0m│\u001b[0m   \u001b[2m1029 \u001b[0m\u001b[2m# iterator=True -> TextFileReader\u001b[0m                                                         \u001b[38;2;255;0;0m│\u001b[0m\n",
       "\u001b[38;2;255;0;0m│\u001b[0m                                                                                                  \u001b[38;2;255;0;0m│\u001b[0m\n",
       "\u001b[38;2;255;0;0m│\u001b[0m \u001b[33mc:\\Users\\hohoy\\OneDrive\\Desktop\\sagemaker-ncf-mlflow\\.venv\\Lib\\site-packages\\pandas\\io\\parsers\\r\u001b[0m \u001b[38;2;255;0;0m│\u001b[0m\n",
       "\u001b[38;2;255;0;0m│\u001b[0m \u001b[33meaders.py\u001b[0m:\u001b[94m620\u001b[0m in \u001b[92m_read\u001b[0m                                                                           \u001b[38;2;255;0;0m│\u001b[0m\n",
       "\u001b[38;2;255;0;0m│\u001b[0m                                                                                                  \u001b[38;2;255;0;0m│\u001b[0m\n",
       "\u001b[38;2;255;0;0m│\u001b[0m   \u001b[2m 617 \u001b[0m\u001b[2m│   \u001b[0m_validate_names(kwds.get(\u001b[33m\"\u001b[0m\u001b[33mnames\u001b[0m\u001b[33m\"\u001b[0m, \u001b[94mNone\u001b[0m))                                              \u001b[38;2;255;0;0m│\u001b[0m\n",
       "\u001b[38;2;255;0;0m│\u001b[0m   \u001b[2m 618 \u001b[0m\u001b[2m│   \u001b[0m                                                                                      \u001b[38;2;255;0;0m│\u001b[0m\n",
       "\u001b[38;2;255;0;0m│\u001b[0m   \u001b[2m 619 \u001b[0m\u001b[2m│   \u001b[0m\u001b[2m# Create the parser.\u001b[0m                                                                  \u001b[38;2;255;0;0m│\u001b[0m\n",
       "\u001b[38;2;255;0;0m│\u001b[0m \u001b[31m❱ \u001b[0m 620 \u001b[2m│   \u001b[0mparser = \u001b[1;4mTextFileReader(filepath_or_buffer, **kwds)\u001b[0m                                   \u001b[38;2;255;0;0m│\u001b[0m\n",
       "\u001b[38;2;255;0;0m│\u001b[0m   \u001b[2m 621 \u001b[0m\u001b[2m│   \u001b[0m                                                                                      \u001b[38;2;255;0;0m│\u001b[0m\n",
       "\u001b[38;2;255;0;0m│\u001b[0m   \u001b[2m 622 \u001b[0m\u001b[2m│   \u001b[0m\u001b[94mif\u001b[0m chunksize \u001b[95mor\u001b[0m iterator:                                                             \u001b[38;2;255;0;0m│\u001b[0m\n",
       "\u001b[38;2;255;0;0m│\u001b[0m   \u001b[2m 623 \u001b[0m\u001b[2m│   │   \u001b[0m\u001b[94mreturn\u001b[0m parser                                                                     \u001b[38;2;255;0;0m│\u001b[0m\n",
       "\u001b[38;2;255;0;0m│\u001b[0m                                                                                                  \u001b[38;2;255;0;0m│\u001b[0m\n",
       "\u001b[38;2;255;0;0m│\u001b[0m \u001b[33mc:\\Users\\hohoy\\OneDrive\\Desktop\\sagemaker-ncf-mlflow\\.venv\\Lib\\site-packages\\pandas\\io\\parsers\\r\u001b[0m \u001b[38;2;255;0;0m│\u001b[0m\n",
       "\u001b[38;2;255;0;0m│\u001b[0m \u001b[33meaders.py\u001b[0m:\u001b[94m1620\u001b[0m in \u001b[92m__init__\u001b[0m                                                                       \u001b[38;2;255;0;0m│\u001b[0m\n",
       "\u001b[38;2;255;0;0m│\u001b[0m                                                                                                  \u001b[38;2;255;0;0m│\u001b[0m\n",
       "\u001b[38;2;255;0;0m│\u001b[0m   \u001b[2m1617 \u001b[0m\u001b[2m│   │   │   \u001b[0m\u001b[96mself\u001b[0m.options[\u001b[33m\"\u001b[0m\u001b[33mhas_index_names\u001b[0m\u001b[33m\"\u001b[0m] = kwds[\u001b[33m\"\u001b[0m\u001b[33mhas_index_names\u001b[0m\u001b[33m\"\u001b[0m]                     \u001b[38;2;255;0;0m│\u001b[0m\n",
       "\u001b[38;2;255;0;0m│\u001b[0m   \u001b[2m1618 \u001b[0m\u001b[2m│   │   \u001b[0m                                                                                  \u001b[38;2;255;0;0m│\u001b[0m\n",
       "\u001b[38;2;255;0;0m│\u001b[0m   \u001b[2m1619 \u001b[0m\u001b[2m│   │   \u001b[0m\u001b[96mself\u001b[0m.handles: IOHandles | \u001b[94mNone\u001b[0m = \u001b[94mNone\u001b[0m                                             \u001b[38;2;255;0;0m│\u001b[0m\n",
       "\u001b[38;2;255;0;0m│\u001b[0m \u001b[31m❱ \u001b[0m1620 \u001b[2m│   │   \u001b[0m\u001b[96mself\u001b[0m._engine = \u001b[1;4;96mself\u001b[0m\u001b[1;4m._make_engine(f, \u001b[0m\u001b[1;4;96mself\u001b[0m\u001b[1;4m.engine)\u001b[0m                                  \u001b[38;2;255;0;0m│\u001b[0m\n",
       "\u001b[38;2;255;0;0m│\u001b[0m   \u001b[2m1621 \u001b[0m\u001b[2m│   \u001b[0m                                                                                      \u001b[38;2;255;0;0m│\u001b[0m\n",
       "\u001b[38;2;255;0;0m│\u001b[0m   \u001b[2m1622 \u001b[0m\u001b[2m│   \u001b[0m\u001b[94mdef\u001b[0m\u001b[90m \u001b[0m\u001b[92mclose\u001b[0m(\u001b[96mself\u001b[0m) -> \u001b[94mNone\u001b[0m:                                                              \u001b[38;2;255;0;0m│\u001b[0m\n",
       "\u001b[38;2;255;0;0m│\u001b[0m   \u001b[2m1623 \u001b[0m\u001b[2m│   │   \u001b[0m\u001b[94mif\u001b[0m \u001b[96mself\u001b[0m.handles \u001b[95mis\u001b[0m \u001b[95mnot\u001b[0m \u001b[94mNone\u001b[0m:                                                      \u001b[38;2;255;0;0m│\u001b[0m\n",
       "\u001b[38;2;255;0;0m│\u001b[0m                                                                                                  \u001b[38;2;255;0;0m│\u001b[0m\n",
       "\u001b[38;2;255;0;0m│\u001b[0m \u001b[33mc:\\Users\\hohoy\\OneDrive\\Desktop\\sagemaker-ncf-mlflow\\.venv\\Lib\\site-packages\\pandas\\io\\parsers\\r\u001b[0m \u001b[38;2;255;0;0m│\u001b[0m\n",
       "\u001b[38;2;255;0;0m│\u001b[0m \u001b[33meaders.py\u001b[0m:\u001b[94m1880\u001b[0m in \u001b[92m_make_engine\u001b[0m                                                                   \u001b[38;2;255;0;0m│\u001b[0m\n",
       "\u001b[38;2;255;0;0m│\u001b[0m                                                                                                  \u001b[38;2;255;0;0m│\u001b[0m\n",
       "\u001b[38;2;255;0;0m│\u001b[0m   \u001b[2m1877 \u001b[0m\u001b[2m│   │   │   │   \u001b[0mis_text = \u001b[94mFalse\u001b[0m                                                           \u001b[38;2;255;0;0m│\u001b[0m\n",
       "\u001b[38;2;255;0;0m│\u001b[0m   \u001b[2m1878 \u001b[0m\u001b[2m│   │   │   │   \u001b[0m\u001b[94mif\u001b[0m \u001b[33m\"\u001b[0m\u001b[33mb\u001b[0m\u001b[33m\"\u001b[0m \u001b[95mnot\u001b[0m \u001b[95min\u001b[0m mode:                                                       \u001b[38;2;255;0;0m│\u001b[0m\n",
       "\u001b[38;2;255;0;0m│\u001b[0m   \u001b[2m1879 \u001b[0m\u001b[2m│   │   │   │   │   \u001b[0mmode += \u001b[33m\"\u001b[0m\u001b[33mb\u001b[0m\u001b[33m\"\u001b[0m                                                           \u001b[38;2;255;0;0m│\u001b[0m\n",
       "\u001b[38;2;255;0;0m│\u001b[0m \u001b[31m❱ \u001b[0m1880 \u001b[2m│   │   │   \u001b[0m\u001b[96mself\u001b[0m.handles = get_handle(                                                    \u001b[38;2;255;0;0m│\u001b[0m\n",
       "\u001b[38;2;255;0;0m│\u001b[0m   \u001b[2m1881 \u001b[0m\u001b[2m│   │   │   │   \u001b[0mf,                                                                        \u001b[38;2;255;0;0m│\u001b[0m\n",
       "\u001b[38;2;255;0;0m│\u001b[0m   \u001b[2m1882 \u001b[0m\u001b[2m│   │   │   │   \u001b[0mmode,                                                                     \u001b[38;2;255;0;0m│\u001b[0m\n",
       "\u001b[38;2;255;0;0m│\u001b[0m   \u001b[2m1883 \u001b[0m\u001b[2m│   │   │   │   \u001b[0mencoding=\u001b[96mself\u001b[0m.options.get(\u001b[33m\"\u001b[0m\u001b[33mencoding\u001b[0m\u001b[33m\"\u001b[0m, \u001b[94mNone\u001b[0m),                              \u001b[38;2;255;0;0m│\u001b[0m\n",
       "\u001b[38;2;255;0;0m│\u001b[0m                                                                                                  \u001b[38;2;255;0;0m│\u001b[0m\n",
       "\u001b[38;2;255;0;0m│\u001b[0m \u001b[33mc:\\Users\\hohoy\\OneDrive\\Desktop\\sagemaker-ncf-mlflow\\.venv\\Lib\\site-packages\\pandas\\io\\common.py\u001b[0m \u001b[38;2;255;0;0m│\u001b[0m\n",
       "\u001b[38;2;255;0;0m│\u001b[0m :\u001b[94m873\u001b[0m in \u001b[92mget_handle\u001b[0m                                                                               \u001b[38;2;255;0;0m│\u001b[0m\n",
       "\u001b[38;2;255;0;0m│\u001b[0m                                                                                                  \u001b[38;2;255;0;0m│\u001b[0m\n",
       "\u001b[38;2;255;0;0m│\u001b[0m   \u001b[2m 870 \u001b[0m\u001b[2m│   │   \u001b[0m\u001b[2m# Binary mode does not support 'encoding' and 'newline'.\u001b[0m                          \u001b[38;2;255;0;0m│\u001b[0m\n",
       "\u001b[38;2;255;0;0m│\u001b[0m   \u001b[2m 871 \u001b[0m\u001b[2m│   │   \u001b[0m\u001b[94mif\u001b[0m ioargs.encoding \u001b[95mand\u001b[0m \u001b[33m\"\u001b[0m\u001b[33mb\u001b[0m\u001b[33m\"\u001b[0m \u001b[95mnot\u001b[0m \u001b[95min\u001b[0m ioargs.mode:                                    \u001b[38;2;255;0;0m│\u001b[0m\n",
       "\u001b[38;2;255;0;0m│\u001b[0m   \u001b[2m 872 \u001b[0m\u001b[2m│   │   │   \u001b[0m\u001b[2m# Encoding\u001b[0m                                                                    \u001b[38;2;255;0;0m│\u001b[0m\n",
       "\u001b[38;2;255;0;0m│\u001b[0m \u001b[31m❱ \u001b[0m 873 \u001b[2m│   │   │   \u001b[0mhandle = \u001b[96mopen\u001b[0m(                                                                \u001b[38;2;255;0;0m│\u001b[0m\n",
       "\u001b[38;2;255;0;0m│\u001b[0m   \u001b[2m 874 \u001b[0m\u001b[2m│   │   │   │   \u001b[0mhandle,                                                                   \u001b[38;2;255;0;0m│\u001b[0m\n",
       "\u001b[38;2;255;0;0m│\u001b[0m   \u001b[2m 875 \u001b[0m\u001b[2m│   │   │   │   \u001b[0mioargs.mode,                                                              \u001b[38;2;255;0;0m│\u001b[0m\n",
       "\u001b[38;2;255;0;0m│\u001b[0m   \u001b[2m 876 \u001b[0m\u001b[2m│   │   │   │   \u001b[0mencoding=ioargs.encoding,                                                 \u001b[38;2;255;0;0m│\u001b[0m\n",
       "\u001b[38;2;255;0;0m╰──────────────────────────────────────────────────────────────────────────────────────────────────╯\u001b[0m\n",
       "\u001b[1;91mFileNotFoundError: \u001b[0m\u001b[1m[\u001b[0mErrno \u001b[1;36m2\u001b[0m\u001b[1m]\u001b[0m No such file or directory: \u001b[38;2;0;135;0m'output/train/train.csv'\u001b[0m\n"
      ]
     },
     "metadata": {},
     "output_type": "display_data"
    }
   ],
   "source": [
    "# Load and examine processed data\n",
    "train_data = pd.read_csv('output/train/train.csv')\n",
    "test_data = pd.read_csv('output/test/test.csv')\n",
    "\n",
    "print(\"Training data shape:\", train_data.shape)\n",
    "print(\"Test data shape:\", test_data.shape)\n",
    "\n",
    "print(\"\\nFeatures in processed data:\")\n",
    "print(train_data.columns.tolist())\n",
    "\n",
    "print(\"\\nSample of processed data:\")\n",
    "print(train_data.head())"
   ]
  },
  {
   "cell_type": "markdown",
   "metadata": {},
   "source": [
    "## Data Quality Checks"
   ]
  },
  {
   "cell_type": "code",
   "execution_count": null,
   "metadata": {},
   "outputs": [],
   "source": [
    "def run_quality_checks(train_df, test_df):\n",
    "    \"\"\"Run data quality checks on processed datasets.\"\"\"\n",
    "    # Check for missing values\n",
    "    print(\"Missing values in training data:\")\n",
    "    print(train_df.isnull().sum())\n",
    "    \n",
    "    # Check feature distributions\n",
    "    print(\"\\nFeature statistics in training data:\")\n",
    "    print(train_df.describe())\n",
    "    \n",
    "    # Verify train/test split ratio\n",
    "    total_records = len(train_df) + len(test_df)\n",
    "    train_ratio = len(train_df) / total_records\n",
    "    print(f\"\\nTrain/Test split ratio: {train_ratio:.2f}/{1-train_ratio:.2f}\")\n",
    "\n",
    "run_quality_checks(train_data, test_data)"
   ]
  },
  {
   "cell_type": "markdown",
   "metadata": {},
   "source": [
    "## Save Pipeline Configuration\n",
    "\n",
    "Save the preprocessing configuration for future reference and reproducibility."
   ]
  },
  {
   "cell_type": "code",
   "execution_count": null,
   "metadata": {},
   "outputs": [],
   "source": [
    "pipeline_config = {\n",
    "    'data_version': '1.0',\n",
    "    'preprocessing_steps': [\n",
    "        'data_validation',\n",
    "        'data_cleaning',\n",
    "        'feature_engineering',\n",
    "        'train_test_split'\n",
    "    ],\n",
    "    'train_test_ratio': 0.8,\n",
    "    'random_seed': 42,\n",
    "    'output_features': train_data.columns.tolist()\n",
    "}\n",
    "\n",
    "with open('preprocessing_config.json', 'w') as f:\n",
    "    json.dump(pipeline_config, f, indent=2)\n",
    "\n",
    "print(\"Pipeline configuration saved to 'preprocessing_config.json'\")\n",
    "\n",
    "# Display saved configuration\n",
    "with open('preprocessing_config.json', 'r') as f:\n",
    "    print(json.dumps(json.load(f), indent=2))"
   ]
  },
  {
   "cell_type": "markdown",
   "metadata": {},
   "source": [
    "## Performance Analysis\n",
    "\n",
    "Let's analyze the processing performance and memory usage."
   ]
  },
  {
   "cell_type": "code",
   "execution_count": null,
   "metadata": {},
   "outputs": [],
   "source": [
    "import time\n",
    "import psutil\n",
    "import matplotlib.pyplot as plt\n",
    "\n",
    "def measure_performance(func, *args):\n",
    "    \"\"\"Measure execution time and memory usage of a function.\"\"\"\n",
    "    # Get initial memory usage\n",
    "    process = psutil.Process()\n",
    "    initial_memory = process.memory_info().rss / 1024 / 1024  # MB\n",
    "    \n",
    "    # Time execution\n",
    "    start_time = time.time()\n",
    "    result = func(*args)\n",
    "    execution_time = time.time() - start_time\n",
    "    \n",
    "    # Get final memory usage\n",
    "    final_memory = process.memory_info().rss / 1024 / 1024  # MB\n",
    "    memory_used = final_memory - initial_memory\n",
    "    \n",
    "    return {\n",
    "        'execution_time': execution_time,\n",
    "        'memory_used': memory_used,\n",
    "        'result': result\n",
    "    }\n",
    "\n",
    "# Measure performance of each preprocessing step\n",
    "df = pd.read_json('data/tourism_data.json')\n",
    "\n",
    "performance_metrics = {\n",
    "    'Data Validation': measure_performance(validate_data, df),\n",
    "    'Data Cleaning': measure_performance(clean_data, df),\n",
    "    'Feature Engineering': measure_performance(engineer_features, clean_data(df))\n",
    "}\n",
    "\n",
    "# Plot performance metrics\n",
    "plt.figure(figsize=(12, 6))\n",
    "\n",
    "# Execution time plot\n",
    "plt.subplot(1, 2, 1)\n",
    "times = [metrics['execution_time'] for metrics in performance_metrics.values()]\n",
    "plt.bar(performance_metrics.keys(), times)\n",
    "plt.title('Execution Time by Processing Step')\n",
    "plt.ylabel('Time (seconds)')\n",
    "plt.xticks(rotation=45)\n",
    "\n",
    "# Memory usage plot\n",
    "plt.subplot(1, 2, 2)\n",
    "memory = [metrics['memory_used'] for metrics in performance_metrics.values()]\n",
    "plt.bar(performance_metrics.keys(), memory)\n",
    "plt.title('Memory Usage by Processing Step')\n",
    "plt.ylabel('Memory (MB)')\n",
    "plt.xticks(rotation=45)\n",
    "\n",
    "plt.tight_layout()\n",
    "plt.show()"
   ]
  },
  {
   "cell_type": "markdown",
   "metadata": {},
   "source": [
    "## Error Handling Implementation\n",
    "\n",
    "Let's implement comprehensive error handling for the preprocessing pipeline."
   ]
  },
  {
   "cell_type": "code",
   "execution_count": null,
   "metadata": {},
   "outputs": [],
   "source": [
    "class PreprocessingError(Exception):\n",
    "    \"\"\"Custom exception for preprocessing errors.\"\"\"\n",
    "    pass\n",
    "\n",
    "def process_with_error_handling(input_data):\n",
    "    \"\"\"Run preprocessing pipeline with error handling.\"\"\"\n",
    "    try:\n",
    "        # Validate input type\n",
    "        if not isinstance(input_data, pd.DataFrame):\n",
    "            raise PreprocessingError(\"Input must be a pandas DataFrame\")\n",
    "            \n",
    "        # Data validation\n",
    "        logger.info(\"Starting data validation...\")\n",
    "        try:\n",
    "            validate_data(input_data)\n",
    "        except AssertionError as e:\n",
    "            raise PreprocessingError(f\"Data validation failed: {str(e)}\")\n",
    "            \n",
    "        # Data cleaning\n",
    "        logger.info(\"Starting data cleaning...\")\n",
    "        try:\n",
    "            cleaned_data = clean_data(input_data)\n",
    "        except Exception as e:\n",
    "            raise PreprocessingError(f\"Data cleaning failed: {str(e)}\")\n",
    "            \n",
    "        # Feature engineering\n",
    "        logger.info(\"Starting feature engineering...\")\n",
    "        try:\n",
    "            featured_data = engineer_features(cleaned_data)\n",
    "        except Exception as e:\n",
    "            raise PreprocessingError(f\"Feature engineering failed: {str(e)}\")\n",
    "            \n",
    "        # Data splitting\n",
    "        logger.info(\"Splitting data...\")\n",
    "        try:\n",
    "            train_data, test_data = train_test_split(\n",
    "                featured_data, test_size=0.2, random_state=42\n",
    "            )\n",
    "        except Exception as e:\n",
    "            raise PreprocessingError(f\"Data splitting failed: {str(e)}\")\n",
    "            \n",
    "        return train_data, test_data\n",
    "        \n",
    "    except PreprocessingError as e:\n",
    "        logger.error(f\"Preprocessing error: {str(e)}\")\n",
    "        raise\n",
    "    except Exception as e:\n",
    "        logger.error(f\"Unexpected error: {str(e)}\")\n",
    "        raise PreprocessingError(f\"Unexpected error during preprocessing: {str(e)}\")\n",
    "\n",
    "# Test error handling\n",
    "try:\n",
    "    # Test with valid data\n",
    "    train_data, test_data = process_with_error_handling(pd.read_json('data/tourism_data.json'))\n",
    "    print(\"Processing completed successfully\")\n",
    "    \n",
    "    # Test with invalid data\n",
    "    invalid_data = pd.DataFrame({'Invalid': [1, 2, 3]})\n",
    "    train_data, test_data = process_with_error_handling(invalid_data)\n",
    "except PreprocessingError as e:\n",
    "    print(f\"Caught preprocessing error: {str(e)}\")"
   ]
  },
  {
   "cell_type": "markdown",
   "metadata": {},
   "source": [
    "## MLflow Integration\n",
    "\n",
    "Let's track our preprocessing pipeline with MLflow."
   ]
  },
  {
   "cell_type": "code",
   "execution_count": null,
   "metadata": {},
   "outputs": [],
   "source": [
    "import mlflow\n",
    "import mlflow.sklearn\n",
    "\n",
    "# Set the MLflow experiment\n",
    "mlflow.set_experiment(\"tourism-preprocessing\")\n",
    "\n",
    "# Start MLflow run\n",
    "with mlflow.start_run(run_name=\"preprocessing-pipeline\") as run:\n",
    "    # Log preprocessing parameters\n",
    "    mlflow.log_params({\n",
    "        \"train_test_ratio\": 0.8,\n",
    "        \"random_seed\": 42,\n",
    "        \"data_version\": \"1.0\"\n",
    "    })\n",
    "    \n",
    "    # Process data and measure performance\n",
    "    start_time = time.time()\n",
    "    train_data, test_data = process_with_error_handling(\n",
    "        pd.read_json('data/tourism_data.json')\n",
    "    )\n",
    "    processing_time = time.time() - start_time\n",
    "    \n",
    "    # Log metrics\n",
    "    mlflow.log_metrics({\n",
    "        \"processing_time\": processing_time,\n",
    "        \"train_samples\": len(train_data),\n",
    "        \"test_samples\": len(test_data),\n",
    "        \"num_features\": len(train_data.columns)\n",
    "    })\n",
    "    \n",
    "    # Log preprocessing configuration\n",
    "    mlflow.log_artifact(\"preprocessing_config.json\")\n",
    "    \n",
    "    # Log sample data\n",
    "    train_sample = train_data.head(100).to_json(orient='records')\n",
    "    with open(\"train_sample.json\", \"w\") as f:\n",
    "        f.write(train_sample)\n",
    "    mlflow.log_artifact(\"train_sample.json\")\n",
    "\n",
    "print(f\"MLflow run: {run.info.run_id}\")"
   ]
  },
  {
   "cell_type": "markdown",
   "metadata": {},
   "source": [
    "## Save Processed Data\n",
    "\n",
    "Finally, let's save our processed datasets for the next step in our pipeline."
   ]
  },
  {
   "cell_type": "code",
   "execution_count": null,
   "metadata": {},
   "outputs": [],
   "source": [
    "# Create output directory if it doesn't exist\n",
    "import os\n",
    "os.makedirs('processed_data', exist_ok=True)\n",
    "\n",
    "# Save processed datasets\n",
    "train_data.to_json('processed_data/train.json')\n",
    "test_data.to_json('processed_data/test.json')\n",
    "\n",
    "# Save feature names\n",
    "feature_names = {\n",
    "    'features': train_data.columns.tolist(),\n",
    "    'categorical_features': [\n",
    "        col for col in train_data.columns \n",
    "        if col.startswith('Interest_')\n",
    "    ],\n",
    "    'numerical_features': [\n",
    "        'Age', 'Tour Duration', 'Tourist Rating',\n",
    "        'Interest_Count', 'Previous_Sites_Count',\n",
    "        'Duration_Difference'\n",
    "    ]\n",
    "}\n",
    "\n",
    "with open('processed_data/feature_names.json', 'w') as f:\n",
    "    json.dump(feature_names, f, indent=2)\n",
    "\n",
    "print(\"Processed data saved to 'processed_data' directory\")\n",
    "print(f\"Number of training samples: {len(train_data)}\")\n",
    "print(f\"Number of test samples: {len(test_data)}\")\n",
    "print(f\"Number of features: {len(feature_names['features'])}\")"
   ]
  },
  {
   "cell_type": "markdown",
   "metadata": {},
   "source": [
    "## Next Steps\n",
    "\n",
    "1. Proceed to Lesson 3: NCF Model Development\n",
    "2. Use the processed data in the `processed_data` directory\n",
    "3. Reference the feature configuration in `feature_names.json`\n",
    "\n",
    "The preprocessing pipeline is now complete and ready for model development."
   ]
  }
 ],
 "metadata": {
  "kernelspec": {
   "display_name": "Python 3",
   "language": "python",
   "name": "python3"
  },
  "language_info": {
   "codemirror_mode": {
    "name": "ipython",
    "version": 3
   },
   "file_extension": ".py",
   "mimetype": "text/x-python",
   "name": "python",
   "nbconvert_exporter": "python",
   "pygments_lexer": "ipython3",
   "version": "3.12.9"
  }
 },
 "nbformat": 4,
 "nbformat_minor": 2
}
